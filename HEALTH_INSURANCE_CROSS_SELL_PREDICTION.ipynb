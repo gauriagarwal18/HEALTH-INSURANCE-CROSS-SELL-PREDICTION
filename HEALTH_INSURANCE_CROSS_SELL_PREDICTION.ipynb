{
  "nbformat": 4,
  "nbformat_minor": 0,
  "metadata": {
    "colab": {
      "name": "HEALTH INSURANCE CROSS SELL PREDICTION.ipynb",
      "provenance": [],
      "collapsed_sections": [
        "xHINiEZzdPTk"
      ],
      "include_colab_link": true
    },
    "kernelspec": {
      "name": "python3",
      "display_name": "Python 3"
    },
    "language_info": {
      "name": "python"
    }
  },
  "cells": [
    {
      "cell_type": "markdown",
      "metadata": {
        "id": "view-in-github",
        "colab_type": "text"
      },
      "source": [
        "<a href=\"https://colab.research.google.com/github/gauriagarwal18/HEALTH-INSURANCE-CROSS-SELL-PREDICTION/blob/master/HEALTH_INSURANCE_CROSS_SELL_PREDICTION.ipynb\" target=\"_parent\"><img src=\"https://colab.research.google.com/assets/colab-badge.svg\" alt=\"Open In Colab\"/></a>"
      ]
    },
    {
      "cell_type": "markdown",
      "metadata": {
        "id": "LGcl5Bv9ed6u"
      },
      "source": [
        "# **Problem Statement**"
      ]
    },
    {
      "cell_type": "markdown",
      "metadata": {
        "id": "jJAmGx75jJk1"
      },
      "source": [
        "Our client is an Insurance company that has provided Health Insurance to its customers now they need your help in building a model to predict whether the policyholders (customers) from past year will also be interested in Vehicle Insurance provided by the company.\n",
        "\n",
        "An insurance policy is an arrangement by which a company undertakes to provide a guarantee of compensation for specified loss, damage, illness, or death in return for the payment of a specified premium. A premium is a sum of money that the customer needs to pay regularly to an insurance company for this guarantee.\n",
        "\n",
        "For example, you may pay a premium of Rs. 5000 each year for a health insurance cover of Rs. 200,000/- so that if, God forbid, you fall ill and need to be hospitalised in that year, the insurance provider company will bear the cost of hospitalisation etc. for upto Rs. 200,000. Now if you are wondering how can company bear such high hospitalisation cost when it charges a premium of only Rs. 5000/-, that is where the concept of probabilities comes in picture. For example, like you, there may be 100 customers who would be paying a premium of Rs. 5000 every year, but only a few of them (say 2-3) would get hospitalised that year and not everyone. This way everyone shares the risk of everyone else.\n",
        "\n",
        "Just like medical insurance, there is vehicle insurance where every year customer needs to pay a premium of certain amount to insurance provider company so that in case of unfortunate accident by the vehicle, the insurance provider company will provide a compensation (called ‘sum assured’) to the customer.\n",
        "\n",
        "Building a model to predict whether a customer would be interested in Vehicle Insurance is extremely helpful for the company because it can then accordingly plan its communication strategy to reach out to those customers and optimise its business model and revenue.\n",
        "\n",
        "Now, in order to predict, whether the customer would be interested in Vehicle insurance, you have information about demographics (gender, age, region code type), Vehicles (Vehicle Age, Damage), Policy (Premium, sourcing channel) etc."
      ]
    },
    {
      "cell_type": "markdown",
      "metadata": {
        "id": "AzGDqdC4fZ-b"
      },
      "source": [
        "## Attribute Information"
      ]
    },
    {
      "cell_type": "markdown",
      "metadata": {
        "id": "oEJxl68MjYbs"
      },
      "source": [
        "1. id :\tUnique ID for the customer\n",
        "\n",
        "2. Gender\t: Gender of the customer\n",
        "\n",
        "3. Age :\tAge of the customer\n",
        "\n",
        "4. Driving_License\t0 : Customer does not have DL, 1 : Customer already has DL\n",
        "\n",
        "5. Region_Code :\tUnique code for the region of the customer\n",
        "\n",
        "6. Previously_Insured\t: 1 : Customer already has Vehicle Insurance, 0 : Customer doesn't have Vehicle Insurance\n",
        "\n",
        "7. Vehicle_Age :\tAge of the Vehicle\n",
        "\n",
        "8. Vehicle_Damage\t :1 : Customer got his/her vehicle damaged in the past. 0 : Customer didn't get his/her vehicle damaged in the past.\n",
        "\n",
        "9. Annual_Premium\t: The amount customer needs to pay as premium in the year\n",
        "\n",
        "10. PolicySalesChannel :\tAnonymized Code for the channel of outreaching to the customer ie. Different Agents, Over Mail, Over Phone, In Person, etc.\n",
        "\n",
        "11. Vintage :\tNumber of Days, Customer has been associated with the company\n",
        "\n",
        "12. Response :\t1 : Customer is interested, 0 : Customer is not interested"
      ]
    },
    {
      "cell_type": "markdown",
      "source": [
        "##Reading Data And Importing Libraries Required For Analysis"
      ],
      "metadata": {
        "id": "wEdLAxhJiEz1"
      }
    },
    {
      "cell_type": "code",
      "source": [
        "import numpy as np\n",
        "import pandas as pd\n",
        "import seaborn as sns\n",
        "import matplotlib.pyplot as plt"
      ],
      "metadata": {
        "id": "nzXFALPfWNnl"
      },
      "execution_count": null,
      "outputs": []
    },
    {
      "cell_type": "code",
      "source": [
        "#Download datasets \n",
        "from google.colab import drive\n",
        "drive.mount('/content/drive')\n",
        "import os\n",
        "path=\"/content/drive/My Drive/AlmaBetter_Capstone_projects/capstone_project3/TRAIN-HEALTH INSURANCE CROSS SELL PREDICTION.csv\"\n",
        "insurance_original=pd.read_csv(path,parse_dates=[2,3])\n",
        "insurance= insurance_original.copy()"
      ],
      "metadata": {
        "colab": {
          "base_uri": "https://localhost:8080/"
        },
        "id": "MgcK5MRMWNkr",
        "outputId": "ee629287-1540-4bc5-feac-d3fe882e2f69"
      },
      "execution_count": null,
      "outputs": [
        {
          "output_type": "stream",
          "name": "stdout",
          "text": [
            "Mounted at /content/drive\n"
          ]
        }
      ]
    },
    {
      "cell_type": "markdown",
      "source": [
        "##Data Cleaning And Description"
      ],
      "metadata": {
        "id": "AzQlNgNHtJXo"
      }
    },
    {
      "cell_type": "code",
      "source": [
        "insurance.head()"
      ],
      "metadata": {
        "colab": {
          "base_uri": "https://localhost:8080/",
          "height": 206
        },
        "id": "hQQ1AYCUWNio",
        "outputId": "3f723e9a-732b-4023-9420-a2ce6424ddfa"
      },
      "execution_count": null,
      "outputs": [
        {
          "output_type": "execute_result",
          "data": {
            "text/plain": [
              "   id  Gender Age Driving_License  Region_Code  Previously_Insured  \\\n",
              "0   1    Male  44               1         28.0                   0   \n",
              "1   2    Male  76               1          3.0                   0   \n",
              "2   3    Male  47               1         28.0                   0   \n",
              "3   4    Male  21               1         11.0                   1   \n",
              "4   5  Female  29               1         41.0                   1   \n",
              "\n",
              "  Vehicle_Age Vehicle_Damage  Annual_Premium  Policy_Sales_Channel  Vintage  \\\n",
              "0   > 2 Years            Yes         40454.0                  26.0      217   \n",
              "1    1-2 Year             No         33536.0                  26.0      183   \n",
              "2   > 2 Years            Yes         38294.0                  26.0       27   \n",
              "3    < 1 Year             No         28619.0                 152.0      203   \n",
              "4    < 1 Year             No         27496.0                 152.0       39   \n",
              "\n",
              "   Response  \n",
              "0         1  \n",
              "1         0  \n",
              "2         1  \n",
              "3         0  \n",
              "4         0  "
            ],
            "text/html": [
              "\n",
              "  <div id=\"df-5bee2a2a-6e18-41b1-9e02-394168e64fff\">\n",
              "    <div class=\"colab-df-container\">\n",
              "      <div>\n",
              "<style scoped>\n",
              "    .dataframe tbody tr th:only-of-type {\n",
              "        vertical-align: middle;\n",
              "    }\n",
              "\n",
              "    .dataframe tbody tr th {\n",
              "        vertical-align: top;\n",
              "    }\n",
              "\n",
              "    .dataframe thead th {\n",
              "        text-align: right;\n",
              "    }\n",
              "</style>\n",
              "<table border=\"1\" class=\"dataframe\">\n",
              "  <thead>\n",
              "    <tr style=\"text-align: right;\">\n",
              "      <th></th>\n",
              "      <th>id</th>\n",
              "      <th>Gender</th>\n",
              "      <th>Age</th>\n",
              "      <th>Driving_License</th>\n",
              "      <th>Region_Code</th>\n",
              "      <th>Previously_Insured</th>\n",
              "      <th>Vehicle_Age</th>\n",
              "      <th>Vehicle_Damage</th>\n",
              "      <th>Annual_Premium</th>\n",
              "      <th>Policy_Sales_Channel</th>\n",
              "      <th>Vintage</th>\n",
              "      <th>Response</th>\n",
              "    </tr>\n",
              "  </thead>\n",
              "  <tbody>\n",
              "    <tr>\n",
              "      <th>0</th>\n",
              "      <td>1</td>\n",
              "      <td>Male</td>\n",
              "      <td>44</td>\n",
              "      <td>1</td>\n",
              "      <td>28.0</td>\n",
              "      <td>0</td>\n",
              "      <td>&gt; 2 Years</td>\n",
              "      <td>Yes</td>\n",
              "      <td>40454.0</td>\n",
              "      <td>26.0</td>\n",
              "      <td>217</td>\n",
              "      <td>1</td>\n",
              "    </tr>\n",
              "    <tr>\n",
              "      <th>1</th>\n",
              "      <td>2</td>\n",
              "      <td>Male</td>\n",
              "      <td>76</td>\n",
              "      <td>1</td>\n",
              "      <td>3.0</td>\n",
              "      <td>0</td>\n",
              "      <td>1-2 Year</td>\n",
              "      <td>No</td>\n",
              "      <td>33536.0</td>\n",
              "      <td>26.0</td>\n",
              "      <td>183</td>\n",
              "      <td>0</td>\n",
              "    </tr>\n",
              "    <tr>\n",
              "      <th>2</th>\n",
              "      <td>3</td>\n",
              "      <td>Male</td>\n",
              "      <td>47</td>\n",
              "      <td>1</td>\n",
              "      <td>28.0</td>\n",
              "      <td>0</td>\n",
              "      <td>&gt; 2 Years</td>\n",
              "      <td>Yes</td>\n",
              "      <td>38294.0</td>\n",
              "      <td>26.0</td>\n",
              "      <td>27</td>\n",
              "      <td>1</td>\n",
              "    </tr>\n",
              "    <tr>\n",
              "      <th>3</th>\n",
              "      <td>4</td>\n",
              "      <td>Male</td>\n",
              "      <td>21</td>\n",
              "      <td>1</td>\n",
              "      <td>11.0</td>\n",
              "      <td>1</td>\n",
              "      <td>&lt; 1 Year</td>\n",
              "      <td>No</td>\n",
              "      <td>28619.0</td>\n",
              "      <td>152.0</td>\n",
              "      <td>203</td>\n",
              "      <td>0</td>\n",
              "    </tr>\n",
              "    <tr>\n",
              "      <th>4</th>\n",
              "      <td>5</td>\n",
              "      <td>Female</td>\n",
              "      <td>29</td>\n",
              "      <td>1</td>\n",
              "      <td>41.0</td>\n",
              "      <td>1</td>\n",
              "      <td>&lt; 1 Year</td>\n",
              "      <td>No</td>\n",
              "      <td>27496.0</td>\n",
              "      <td>152.0</td>\n",
              "      <td>39</td>\n",
              "      <td>0</td>\n",
              "    </tr>\n",
              "  </tbody>\n",
              "</table>\n",
              "</div>\n",
              "      <button class=\"colab-df-convert\" onclick=\"convertToInteractive('df-5bee2a2a-6e18-41b1-9e02-394168e64fff')\"\n",
              "              title=\"Convert this dataframe to an interactive table.\"\n",
              "              style=\"display:none;\">\n",
              "        \n",
              "  <svg xmlns=\"http://www.w3.org/2000/svg\" height=\"24px\"viewBox=\"0 0 24 24\"\n",
              "       width=\"24px\">\n",
              "    <path d=\"M0 0h24v24H0V0z\" fill=\"none\"/>\n",
              "    <path d=\"M18.56 5.44l.94 2.06.94-2.06 2.06-.94-2.06-.94-.94-2.06-.94 2.06-2.06.94zm-11 1L8.5 8.5l.94-2.06 2.06-.94-2.06-.94L8.5 2.5l-.94 2.06-2.06.94zm10 10l.94 2.06.94-2.06 2.06-.94-2.06-.94-.94-2.06-.94 2.06-2.06.94z\"/><path d=\"M17.41 7.96l-1.37-1.37c-.4-.4-.92-.59-1.43-.59-.52 0-1.04.2-1.43.59L10.3 9.45l-7.72 7.72c-.78.78-.78 2.05 0 2.83L4 21.41c.39.39.9.59 1.41.59.51 0 1.02-.2 1.41-.59l7.78-7.78 2.81-2.81c.8-.78.8-2.07 0-2.86zM5.41 20L4 18.59l7.72-7.72 1.47 1.35L5.41 20z\"/>\n",
              "  </svg>\n",
              "      </button>\n",
              "      \n",
              "  <style>\n",
              "    .colab-df-container {\n",
              "      display:flex;\n",
              "      flex-wrap:wrap;\n",
              "      gap: 12px;\n",
              "    }\n",
              "\n",
              "    .colab-df-convert {\n",
              "      background-color: #E8F0FE;\n",
              "      border: none;\n",
              "      border-radius: 50%;\n",
              "      cursor: pointer;\n",
              "      display: none;\n",
              "      fill: #1967D2;\n",
              "      height: 32px;\n",
              "      padding: 0 0 0 0;\n",
              "      width: 32px;\n",
              "    }\n",
              "\n",
              "    .colab-df-convert:hover {\n",
              "      background-color: #E2EBFA;\n",
              "      box-shadow: 0px 1px 2px rgba(60, 64, 67, 0.3), 0px 1px 3px 1px rgba(60, 64, 67, 0.15);\n",
              "      fill: #174EA6;\n",
              "    }\n",
              "\n",
              "    [theme=dark] .colab-df-convert {\n",
              "      background-color: #3B4455;\n",
              "      fill: #D2E3FC;\n",
              "    }\n",
              "\n",
              "    [theme=dark] .colab-df-convert:hover {\n",
              "      background-color: #434B5C;\n",
              "      box-shadow: 0px 1px 3px 1px rgba(0, 0, 0, 0.15);\n",
              "      filter: drop-shadow(0px 1px 2px rgba(0, 0, 0, 0.3));\n",
              "      fill: #FFFFFF;\n",
              "    }\n",
              "  </style>\n",
              "\n",
              "      <script>\n",
              "        const buttonEl =\n",
              "          document.querySelector('#df-5bee2a2a-6e18-41b1-9e02-394168e64fff button.colab-df-convert');\n",
              "        buttonEl.style.display =\n",
              "          google.colab.kernel.accessAllowed ? 'block' : 'none';\n",
              "\n",
              "        async function convertToInteractive(key) {\n",
              "          const element = document.querySelector('#df-5bee2a2a-6e18-41b1-9e02-394168e64fff');\n",
              "          const dataTable =\n",
              "            await google.colab.kernel.invokeFunction('convertToInteractive',\n",
              "                                                     [key], {});\n",
              "          if (!dataTable) return;\n",
              "\n",
              "          const docLinkHtml = 'Like what you see? Visit the ' +\n",
              "            '<a target=\"_blank\" href=https://colab.research.google.com/notebooks/data_table.ipynb>data table notebook</a>'\n",
              "            + ' to learn more about interactive tables.';\n",
              "          element.innerHTML = '';\n",
              "          dataTable['output_type'] = 'display_data';\n",
              "          await google.colab.output.renderOutput(dataTable, element);\n",
              "          const docLink = document.createElement('div');\n",
              "          docLink.innerHTML = docLinkHtml;\n",
              "          element.appendChild(docLink);\n",
              "        }\n",
              "      </script>\n",
              "    </div>\n",
              "  </div>\n",
              "  "
            ]
          },
          "metadata": {},
          "execution_count": 3
        }
      ]
    },
    {
      "cell_type": "markdown",
      "source": [
        "From above we note that:\n",
        "- in gender we have to do encoding, for male and female\n",
        "- in vehical age we have to check the number of categories and then we will try to do ordinal encoding\n",
        "- We will normalize the column of annual premium"
      ],
      "metadata": {
        "id": "cOxdonEiiR-y"
      }
    },
    {
      "cell_type": "code",
      "source": [
        "insurance.info()"
      ],
      "metadata": {
        "colab": {
          "base_uri": "https://localhost:8080/"
        },
        "id": "M0OH6ggpWNf8",
        "outputId": "2563055a-5843-4fab-fddb-526b6e02837d"
      },
      "execution_count": null,
      "outputs": [
        {
          "output_type": "stream",
          "name": "stdout",
          "text": [
            "<class 'pandas.core.frame.DataFrame'>\n",
            "RangeIndex: 381109 entries, 0 to 381108\n",
            "Data columns (total 12 columns):\n",
            " #   Column                Non-Null Count   Dtype  \n",
            "---  ------                --------------   -----  \n",
            " 0   id                    381109 non-null  int64  \n",
            " 1   Gender                381109 non-null  object \n",
            " 2   Age                   381109 non-null  object \n",
            " 3   Driving_License       381109 non-null  object \n",
            " 4   Region_Code           381109 non-null  float64\n",
            " 5   Previously_Insured    381109 non-null  int64  \n",
            " 6   Vehicle_Age           381109 non-null  object \n",
            " 7   Vehicle_Damage        381109 non-null  object \n",
            " 8   Annual_Premium        381109 non-null  float64\n",
            " 9   Policy_Sales_Channel  381109 non-null  float64\n",
            " 10  Vintage               381109 non-null  int64  \n",
            " 11  Response              381109 non-null  int64  \n",
            "dtypes: float64(3), int64(4), object(5)\n",
            "memory usage: 34.9+ MB\n"
          ]
        }
      ]
    },
    {
      "cell_type": "markdown",
      "source": [
        "- there is no null value in the data\n",
        "- but we note that some columns are of object type so we will convert it to int to ensure that there is no garbage value"
      ],
      "metadata": {
        "id": "8KxcZVh6i-dV"
      }
    },
    {
      "cell_type": "code",
      "source": [
        "insurance_describe=insurance.describe()  #later we have to change some columns so for some information is required for analysis so we store this result\n",
        "insurance_describe"
      ],
      "metadata": {
        "colab": {
          "base_uri": "https://localhost:8080/",
          "height": 300
        },
        "id": "IKKq343xbn5A",
        "outputId": "bfbefbe2-ce5a-4ebd-ac65-3151c979d95e"
      },
      "execution_count": null,
      "outputs": [
        {
          "output_type": "execute_result",
          "data": {
            "text/plain": [
              "                  id    Region_Code  Previously_Insured  Annual_Premium  \\\n",
              "count  381109.000000  381109.000000       381109.000000   381109.000000   \n",
              "mean   190555.000000      26.388807            0.458210    30564.389581   \n",
              "std    110016.836208      13.229888            0.498251    17213.155057   \n",
              "min         1.000000       0.000000            0.000000     2630.000000   \n",
              "25%     95278.000000      15.000000            0.000000    24405.000000   \n",
              "50%    190555.000000      28.000000            0.000000    31669.000000   \n",
              "75%    285832.000000      35.000000            1.000000    39400.000000   \n",
              "max    381109.000000      52.000000            1.000000   540165.000000   \n",
              "\n",
              "       Policy_Sales_Channel        Vintage       Response  \n",
              "count         381109.000000  381109.000000  381109.000000  \n",
              "mean             112.034295     154.347397       0.122563  \n",
              "std               54.203995      83.671304       0.327936  \n",
              "min                1.000000      10.000000       0.000000  \n",
              "25%               29.000000      82.000000       0.000000  \n",
              "50%              133.000000     154.000000       0.000000  \n",
              "75%              152.000000     227.000000       0.000000  \n",
              "max              163.000000     299.000000       1.000000  "
            ],
            "text/html": [
              "\n",
              "  <div id=\"df-5b6f6138-d3be-46dc-8e30-23a222b44b59\">\n",
              "    <div class=\"colab-df-container\">\n",
              "      <div>\n",
              "<style scoped>\n",
              "    .dataframe tbody tr th:only-of-type {\n",
              "        vertical-align: middle;\n",
              "    }\n",
              "\n",
              "    .dataframe tbody tr th {\n",
              "        vertical-align: top;\n",
              "    }\n",
              "\n",
              "    .dataframe thead th {\n",
              "        text-align: right;\n",
              "    }\n",
              "</style>\n",
              "<table border=\"1\" class=\"dataframe\">\n",
              "  <thead>\n",
              "    <tr style=\"text-align: right;\">\n",
              "      <th></th>\n",
              "      <th>id</th>\n",
              "      <th>Region_Code</th>\n",
              "      <th>Previously_Insured</th>\n",
              "      <th>Annual_Premium</th>\n",
              "      <th>Policy_Sales_Channel</th>\n",
              "      <th>Vintage</th>\n",
              "      <th>Response</th>\n",
              "    </tr>\n",
              "  </thead>\n",
              "  <tbody>\n",
              "    <tr>\n",
              "      <th>count</th>\n",
              "      <td>381109.000000</td>\n",
              "      <td>381109.000000</td>\n",
              "      <td>381109.000000</td>\n",
              "      <td>381109.000000</td>\n",
              "      <td>381109.000000</td>\n",
              "      <td>381109.000000</td>\n",
              "      <td>381109.000000</td>\n",
              "    </tr>\n",
              "    <tr>\n",
              "      <th>mean</th>\n",
              "      <td>190555.000000</td>\n",
              "      <td>26.388807</td>\n",
              "      <td>0.458210</td>\n",
              "      <td>30564.389581</td>\n",
              "      <td>112.034295</td>\n",
              "      <td>154.347397</td>\n",
              "      <td>0.122563</td>\n",
              "    </tr>\n",
              "    <tr>\n",
              "      <th>std</th>\n",
              "      <td>110016.836208</td>\n",
              "      <td>13.229888</td>\n",
              "      <td>0.498251</td>\n",
              "      <td>17213.155057</td>\n",
              "      <td>54.203995</td>\n",
              "      <td>83.671304</td>\n",
              "      <td>0.327936</td>\n",
              "    </tr>\n",
              "    <tr>\n",
              "      <th>min</th>\n",
              "      <td>1.000000</td>\n",
              "      <td>0.000000</td>\n",
              "      <td>0.000000</td>\n",
              "      <td>2630.000000</td>\n",
              "      <td>1.000000</td>\n",
              "      <td>10.000000</td>\n",
              "      <td>0.000000</td>\n",
              "    </tr>\n",
              "    <tr>\n",
              "      <th>25%</th>\n",
              "      <td>95278.000000</td>\n",
              "      <td>15.000000</td>\n",
              "      <td>0.000000</td>\n",
              "      <td>24405.000000</td>\n",
              "      <td>29.000000</td>\n",
              "      <td>82.000000</td>\n",
              "      <td>0.000000</td>\n",
              "    </tr>\n",
              "    <tr>\n",
              "      <th>50%</th>\n",
              "      <td>190555.000000</td>\n",
              "      <td>28.000000</td>\n",
              "      <td>0.000000</td>\n",
              "      <td>31669.000000</td>\n",
              "      <td>133.000000</td>\n",
              "      <td>154.000000</td>\n",
              "      <td>0.000000</td>\n",
              "    </tr>\n",
              "    <tr>\n",
              "      <th>75%</th>\n",
              "      <td>285832.000000</td>\n",
              "      <td>35.000000</td>\n",
              "      <td>1.000000</td>\n",
              "      <td>39400.000000</td>\n",
              "      <td>152.000000</td>\n",
              "      <td>227.000000</td>\n",
              "      <td>0.000000</td>\n",
              "    </tr>\n",
              "    <tr>\n",
              "      <th>max</th>\n",
              "      <td>381109.000000</td>\n",
              "      <td>52.000000</td>\n",
              "      <td>1.000000</td>\n",
              "      <td>540165.000000</td>\n",
              "      <td>163.000000</td>\n",
              "      <td>299.000000</td>\n",
              "      <td>1.000000</td>\n",
              "    </tr>\n",
              "  </tbody>\n",
              "</table>\n",
              "</div>\n",
              "      <button class=\"colab-df-convert\" onclick=\"convertToInteractive('df-5b6f6138-d3be-46dc-8e30-23a222b44b59')\"\n",
              "              title=\"Convert this dataframe to an interactive table.\"\n",
              "              style=\"display:none;\">\n",
              "        \n",
              "  <svg xmlns=\"http://www.w3.org/2000/svg\" height=\"24px\"viewBox=\"0 0 24 24\"\n",
              "       width=\"24px\">\n",
              "    <path d=\"M0 0h24v24H0V0z\" fill=\"none\"/>\n",
              "    <path d=\"M18.56 5.44l.94 2.06.94-2.06 2.06-.94-2.06-.94-.94-2.06-.94 2.06-2.06.94zm-11 1L8.5 8.5l.94-2.06 2.06-.94-2.06-.94L8.5 2.5l-.94 2.06-2.06.94zm10 10l.94 2.06.94-2.06 2.06-.94-2.06-.94-.94-2.06-.94 2.06-2.06.94z\"/><path d=\"M17.41 7.96l-1.37-1.37c-.4-.4-.92-.59-1.43-.59-.52 0-1.04.2-1.43.59L10.3 9.45l-7.72 7.72c-.78.78-.78 2.05 0 2.83L4 21.41c.39.39.9.59 1.41.59.51 0 1.02-.2 1.41-.59l7.78-7.78 2.81-2.81c.8-.78.8-2.07 0-2.86zM5.41 20L4 18.59l7.72-7.72 1.47 1.35L5.41 20z\"/>\n",
              "  </svg>\n",
              "      </button>\n",
              "      \n",
              "  <style>\n",
              "    .colab-df-container {\n",
              "      display:flex;\n",
              "      flex-wrap:wrap;\n",
              "      gap: 12px;\n",
              "    }\n",
              "\n",
              "    .colab-df-convert {\n",
              "      background-color: #E8F0FE;\n",
              "      border: none;\n",
              "      border-radius: 50%;\n",
              "      cursor: pointer;\n",
              "      display: none;\n",
              "      fill: #1967D2;\n",
              "      height: 32px;\n",
              "      padding: 0 0 0 0;\n",
              "      width: 32px;\n",
              "    }\n",
              "\n",
              "    .colab-df-convert:hover {\n",
              "      background-color: #E2EBFA;\n",
              "      box-shadow: 0px 1px 2px rgba(60, 64, 67, 0.3), 0px 1px 3px 1px rgba(60, 64, 67, 0.15);\n",
              "      fill: #174EA6;\n",
              "    }\n",
              "\n",
              "    [theme=dark] .colab-df-convert {\n",
              "      background-color: #3B4455;\n",
              "      fill: #D2E3FC;\n",
              "    }\n",
              "\n",
              "    [theme=dark] .colab-df-convert:hover {\n",
              "      background-color: #434B5C;\n",
              "      box-shadow: 0px 1px 3px 1px rgba(0, 0, 0, 0.15);\n",
              "      filter: drop-shadow(0px 1px 2px rgba(0, 0, 0, 0.3));\n",
              "      fill: #FFFFFF;\n",
              "    }\n",
              "  </style>\n",
              "\n",
              "      <script>\n",
              "        const buttonEl =\n",
              "          document.querySelector('#df-5b6f6138-d3be-46dc-8e30-23a222b44b59 button.colab-df-convert');\n",
              "        buttonEl.style.display =\n",
              "          google.colab.kernel.accessAllowed ? 'block' : 'none';\n",
              "\n",
              "        async function convertToInteractive(key) {\n",
              "          const element = document.querySelector('#df-5b6f6138-d3be-46dc-8e30-23a222b44b59');\n",
              "          const dataTable =\n",
              "            await google.colab.kernel.invokeFunction('convertToInteractive',\n",
              "                                                     [key], {});\n",
              "          if (!dataTable) return;\n",
              "\n",
              "          const docLinkHtml = 'Like what you see? Visit the ' +\n",
              "            '<a target=\"_blank\" href=https://colab.research.google.com/notebooks/data_table.ipynb>data table notebook</a>'\n",
              "            + ' to learn more about interactive tables.';\n",
              "          element.innerHTML = '';\n",
              "          dataTable['output_type'] = 'display_data';\n",
              "          await google.colab.output.renderOutput(dataTable, element);\n",
              "          const docLink = document.createElement('div');\n",
              "          docLink.innerHTML = docLinkHtml;\n",
              "          element.appendChild(docLink);\n",
              "        }\n",
              "      </script>\n",
              "    </div>\n",
              "  </div>\n",
              "  "
            ]
          },
          "metadata": {},
          "execution_count": 5
        }
      ]
    },
    {
      "cell_type": "markdown",
      "source": [
        ""
      ],
      "metadata": {
        "id": "FywZAwUGbnjZ"
      }
    },
    {
      "cell_type": "code",
      "source": [
        "insurance.columns"
      ],
      "metadata": {
        "colab": {
          "base_uri": "https://localhost:8080/"
        },
        "id": "F2vJaPiCXnJ-",
        "outputId": "8ab2208b-ff22-4b60-fae0-355d8508dfb4"
      },
      "execution_count": null,
      "outputs": [
        {
          "output_type": "execute_result",
          "data": {
            "text/plain": [
              "Index(['id', 'Gender', 'Age', 'Driving_License', 'Region_Code',\n",
              "       'Previously_Insured', 'Vehicle_Age', 'Vehicle_Damage', 'Annual_Premium',\n",
              "       'Policy_Sales_Channel', 'Vintage', 'Response'],\n",
              "      dtype='object')"
            ]
          },
          "metadata": {},
          "execution_count": 6
        }
      ]
    },
    {
      "cell_type": "code",
      "source": [
        "def remove_outliers2(df,continuous_col=[]):\n",
        "\n",
        "  if len(continuous_col)==0:\n",
        "\n",
        "   continuous_col=df.describe().columns\n",
        "  df[continuous_col].boxplot(rot=90)\n",
        "  plt.title(\"before removing outliers\",)\n",
        "  plt.show()\n",
        "  \n",
        "  for c in continuous_col:\n",
        "    df.index=np.arange(0,df.shape[0])\n",
        "    Q1=np.quantile(df[c],0.25)\n",
        "    Q3=np.quantile(df[c],0.75)\n",
        "    IQR= Q3 - Q1\n",
        "    upper=np.where(df[c]>=(Q3+1.5*IQR))[0]\n",
        "    #print(upper[0])\n",
        "    lower=np.where(df[c]<=(Q1-1.5*IQR))[0]   #it will be a tuple and we require a numpy array which is at it's first index.\n",
        "    #print(lower)\n",
        "    outliers_idx=np.unique(np.append(upper,lower)) \n",
        "    df.drop(outliers_idx, inplace = True) \n",
        "    \n",
        "    #df.loc[upper][c]=Q3\n",
        "    #df.loc[lower][c]=Q1\n",
        "     \n",
        "  df[continuous_col].boxplot(rot=90)\n",
        "  plt.title(\"after removing outliers\",)\n",
        "  plt.show()\n",
        "  return df"
      ],
      "metadata": {
        "id": "YNN3brlhdgzq"
      },
      "execution_count": null,
      "outputs": []
    },
    {
      "cell_type": "code",
      "source": [
        "insurance.shape"
      ],
      "metadata": {
        "colab": {
          "base_uri": "https://localhost:8080/"
        },
        "id": "i7q1G6Oed7Da",
        "outputId": "28c4c3cb-dacf-4521-f6bf-b527390e26cf"
      },
      "execution_count": null,
      "outputs": [
        {
          "output_type": "execute_result",
          "data": {
            "text/plain": [
              "(381109, 12)"
            ]
          },
          "metadata": {},
          "execution_count": 8
        }
      ]
    },
    {
      "cell_type": "code",
      "source": [
        "insurance = remove_outliers2(insurance,[\"Annual_Premium\"])"
      ],
      "metadata": {
        "colab": {
          "base_uri": "https://localhost:8080/",
          "height": 695
        },
        "id": "m1hvM0JJdn5e",
        "outputId": "5cf8502d-800a-4bed-8e62-7e48fe14ff02"
      },
      "execution_count": null,
      "outputs": [
        {
          "output_type": "display_data",
          "data": {
            "text/plain": [
              "<Figure size 432x288 with 1 Axes>"
            ],
            "image/png": "[encoded data removed]"
          },
          "metadata": {
            "needs_background": "light"
          }
        },
        {
          "output_type": "display_data",
          "data": {
            "text/plain": [
              "<Figure size 432x288 with 1 Axes>"
            ],
            "image/png": "[encoded data removed]"
          },
          "metadata": {
            "needs_background": "light"
          }
        }
      ]
    },
    {
      "cell_type": "code",
      "source": [
        "insurance.shape"
      ],
      "metadata": {
        "colab": {
          "base_uri": "https://localhost:8080/"
        },
        "id": "bBVe902fd6na",
        "outputId": "e5155877-f0a8-47d6-c6aa-5113b4e0e626"
      },
      "execution_count": null,
      "outputs": [
        {
          "output_type": "execute_result",
          "data": {
            "text/plain": [
              "(370789, 12)"
            ]
          },
          "metadata": {},
          "execution_count": 10
        }
      ]
    },
    {
      "cell_type": "code",
      "source": [
        "insurance_describe=insurance.describe()  #later we have to change some columns so for some information is required for analysis so we store this result\n",
        "insurance_describe"
      ],
      "metadata": {
        "colab": {
          "base_uri": "https://localhost:8080/",
          "height": 300
        },
        "outputId": "6fad4120-1775-473f-979d-6a5aec9772cb",
        "id": "NvMb8g5YcSIT"
      },
      "execution_count": null,
      "outputs": [
        {
          "output_type": "execute_result",
          "data": {
            "text/plain": [
              "                  id    Region_Code  Previously_Insured  Annual_Premium  \\\n",
              "count  370789.000000  370789.000000       370789.000000   370789.000000   \n",
              "mean   190534.855484      26.437281            0.459666    29264.643973   \n",
              "std    110036.802591      13.310391            0.498371    14743.056656   \n",
              "min         1.000000       0.000000            0.000000     2630.000000   \n",
              "25%     95219.000000      15.000000            0.000000    24102.000000   \n",
              "50%    190529.000000      28.000000            0.000000    31319.000000   \n",
              "75%    285823.000000      36.000000            1.000000    38596.000000   \n",
              "max    381109.000000      52.000000            1.000000    61892.000000   \n",
              "\n",
              "       Policy_Sales_Channel        Vintage       Response  \n",
              "count         370789.000000  370789.000000  370789.000000  \n",
              "mean             112.542923     154.345442       0.121781  \n",
              "std               54.039616      83.670478       0.327033  \n",
              "min                1.000000      10.000000       0.000000  \n",
              "25%               30.000000      82.000000       0.000000  \n",
              "50%              151.000000     154.000000       0.000000  \n",
              "75%              152.000000     227.000000       0.000000  \n",
              "max              163.000000     299.000000       1.000000  "
            ],
            "text/html": [
              "\n",
              "  <div id=\"df-c11c1338-2ca6-4bce-83d9-3b2115b7d459\">\n",
              "    <div class=\"colab-df-container\">\n",
              "      <div>\n",
              "<style scoped>\n",
              "    .dataframe tbody tr th:only-of-type {\n",
              "        vertical-align: middle;\n",
              "    }\n",
              "\n",
              "    .dataframe tbody tr th {\n",
              "        vertical-align: top;\n",
              "    }\n",
              "\n",
              "    .dataframe thead th {\n",
              "        text-align: right;\n",
              "    }\n",
              "</style>\n",
              "<table border=\"1\" class=\"dataframe\">\n",
              "  <thead>\n",
              "    <tr style=\"text-align: right;\">\n",
              "      <th></th>\n",
              "      <th>id</th>\n",
              "      <th>Region_Code</th>\n",
              "      <th>Previously_Insured</th>\n",
              "      <th>Annual_Premium</th>\n",
              "      <th>Policy_Sales_Channel</th>\n",
              "      <th>Vintage</th>\n",
              "      <th>Response</th>\n",
              "    </tr>\n",
              "  </thead>\n",
              "  <tbody>\n",
              "    <tr>\n",
              "      <th>count</th>\n",
              "      <td>370789.000000</td>\n",
              "      <td>370789.000000</td>\n",
              "      <td>370789.000000</td>\n",
              "      <td>370789.000000</td>\n",
              "      <td>370789.000000</td>\n",
              "      <td>370789.000000</td>\n",
              "      <td>370789.000000</td>\n",
              "    </tr>\n",
              "    <tr>\n",
              "      <th>mean</th>\n",
              "      <td>190534.855484</td>\n",
              "      <td>26.437281</td>\n",
              "      <td>0.459666</td>\n",
              "      <td>29264.643973</td>\n",
              "      <td>112.542923</td>\n",
              "      <td>154.345442</td>\n",
              "      <td>0.121781</td>\n",
              "    </tr>\n",
              "    <tr>\n",
              "      <th>std</th>\n",
              "      <td>110036.802591</td>\n",
              "      <td>13.310391</td>\n",
              "      <td>0.498371</td>\n",
              "      <td>14743.056656</td>\n",
              "      <td>54.039616</td>\n",
              "      <td>83.670478</td>\n",
              "      <td>0.327033</td>\n",
              "    </tr>\n",
              "    <tr>\n",
              "      <th>min</th>\n",
              "      <td>1.000000</td>\n",
              "      <td>0.000000</td>\n",
              "      <td>0.000000</td>\n",
              "      <td>2630.000000</td>\n",
              "      <td>1.000000</td>\n",
              "      <td>10.000000</td>\n",
              "      <td>0.000000</td>\n",
              "    </tr>\n",
              "    <tr>\n",
              "      <th>25%</th>\n",
              "      <td>95219.000000</td>\n",
              "      <td>15.000000</td>\n",
              "      <td>0.000000</td>\n",
              "      <td>24102.000000</td>\n",
              "      <td>30.000000</td>\n",
              "      <td>82.000000</td>\n",
              "      <td>0.000000</td>\n",
              "    </tr>\n",
              "    <tr>\n",
              "      <th>50%</th>\n",
              "      <td>190529.000000</td>\n",
              "      <td>28.000000</td>\n",
              "      <td>0.000000</td>\n",
              "      <td>31319.000000</td>\n",
              "      <td>151.000000</td>\n",
              "      <td>154.000000</td>\n",
              "      <td>0.000000</td>\n",
              "    </tr>\n",
              "    <tr>\n",
              "      <th>75%</th>\n",
              "      <td>285823.000000</td>\n",
              "      <td>36.000000</td>\n",
              "      <td>1.000000</td>\n",
              "      <td>38596.000000</td>\n",
              "      <td>152.000000</td>\n",
              "      <td>227.000000</td>\n",
              "      <td>0.000000</td>\n",
              "    </tr>\n",
              "    <tr>\n",
              "      <th>max</th>\n",
              "      <td>381109.000000</td>\n",
              "      <td>52.000000</td>\n",
              "      <td>1.000000</td>\n",
              "      <td>61892.000000</td>\n",
              "      <td>163.000000</td>\n",
              "      <td>299.000000</td>\n",
              "      <td>1.000000</td>\n",
              "    </tr>\n",
              "  </tbody>\n",
              "</table>\n",
              "</div>\n",
              "      <button class=\"colab-df-convert\" onclick=\"convertToInteractive('df-c11c1338-2ca6-4bce-83d9-3b2115b7d459')\"\n",
              "              title=\"Convert this dataframe to an interactive table.\"\n",
              "              style=\"display:none;\">\n",
              "        \n",
              "  <svg xmlns=\"http://www.w3.org/2000/svg\" height=\"24px\"viewBox=\"0 0 24 24\"\n",
              "       width=\"24px\">\n",
              "    <path d=\"M0 0h24v24H0V0z\" fill=\"none\"/>\n",
              "    <path d=\"M18.56 5.44l.94 2.06.94-2.06 2.06-.94-2.06-.94-.94-2.06-.94 2.06-2.06.94zm-11 1L8.5 8.5l.94-2.06 2.06-.94-2.06-.94L8.5 2.5l-.94 2.06-2.06.94zm10 10l.94 2.06.94-2.06 2.06-.94-2.06-.94-.94-2.06-.94 2.06-2.06.94z\"/><path d=\"M17.41 7.96l-1.37-1.37c-.4-.4-.92-.59-1.43-.59-.52 0-1.04.2-1.43.59L10.3 9.45l-7.72 7.72c-.78.78-.78 2.05 0 2.83L4 21.41c.39.39.9.59 1.41.59.51 0 1.02-.2 1.41-.59l7.78-7.78 2.81-2.81c.8-.78.8-2.07 0-2.86zM5.41 20L4 18.59l7.72-7.72 1.47 1.35L5.41 20z\"/>\n",
              "  </svg>\n",
              "      </button>\n",
              "      \n",
              "  <style>\n",
              "    .colab-df-container {\n",
              "      display:flex;\n",
              "      flex-wrap:wrap;\n",
              "      gap: 12px;\n",
              "    }\n",
              "\n",
              "    .colab-df-convert {\n",
              "      background-color: #E8F0FE;\n",
              "      border: none;\n",
              "      border-radius: 50%;\n",
              "      cursor: pointer;\n",
              "      display: none;\n",
              "      fill: #1967D2;\n",
              "      height: 32px;\n",
              "      padding: 0 0 0 0;\n",
              "      width: 32px;\n",
              "    }\n",
              "\n",
              "    .colab-df-convert:hover {\n",
              "      background-color: #E2EBFA;\n",
              "      box-shadow: 0px 1px 2px rgba(60, 64, 67, 0.3), 0px 1px 3px 1px rgba(60, 64, 67, 0.15);\n",
              "      fill: #174EA6;\n",
              "    }\n",
              "\n",
              "    [theme=dark] .colab-df-convert {\n",
              "      background-color: #3B4455;\n",
              "      fill: #D2E3FC;\n",
              "    }\n",
              "\n",
              "    [theme=dark] .colab-df-convert:hover {\n",
              "      background-color: #434B5C;\n",
              "      box-shadow: 0px 1px 3px 1px rgba(0, 0, 0, 0.15);\n",
              "      filter: drop-shadow(0px 1px 2px rgba(0, 0, 0, 0.3));\n",
              "      fill: #FFFFFF;\n",
              "    }\n",
              "  </style>\n",
              "\n",
              "      <script>\n",
              "        const buttonEl =\n",
              "          document.querySelector('#df-c11c1338-2ca6-4bce-83d9-3b2115b7d459 button.colab-df-convert');\n",
              "        buttonEl.style.display =\n",
              "          google.colab.kernel.accessAllowed ? 'block' : 'none';\n",
              "\n",
              "        async function convertToInteractive(key) {\n",
              "          const element = document.querySelector('#df-c11c1338-2ca6-4bce-83d9-3b2115b7d459');\n",
              "          const dataTable =\n",
              "            await google.colab.kernel.invokeFunction('convertToInteractive',\n",
              "                                                     [key], {});\n",
              "          if (!dataTable) return;\n",
              "\n",
              "          const docLinkHtml = 'Like what you see? Visit the ' +\n",
              "            '<a target=\"_blank\" href=https://colab.research.google.com/notebooks/data_table.ipynb>data table notebook</a>'\n",
              "            + ' to learn more about interactive tables.';\n",
              "          element.innerHTML = '';\n",
              "          dataTable['output_type'] = 'display_data';\n",
              "          await google.colab.output.renderOutput(dataTable, element);\n",
              "          const docLink = document.createElement('div');\n",
              "          docLink.innerHTML = docLinkHtml;\n",
              "          element.appendChild(docLink);\n",
              "        }\n",
              "      </script>\n",
              "    </div>\n",
              "  </div>\n",
              "  "
            ]
          },
          "metadata": {},
          "execution_count": 11
        }
      ]
    },
    {
      "cell_type": "markdown",
      "source": [
        "##Feature Engineering"
      ],
      "metadata": {
        "id": "hxRiNcgRjh20"
      }
    },
    {
      "cell_type": "markdown",
      "source": [
        "###Some Basic Requirements"
      ],
      "metadata": {
        "id": "56WthuUqtS78"
      }
    },
    {
      "cell_type": "code",
      "source": [
        "column_drop=[]  #here we will append all the columns one-by-one which are needed to drop so drop function needs not to be executed again and again"
      ],
      "metadata": {
        "id": "bM3B3ENSmx6p"
      },
      "execution_count": null,
      "outputs": []
    },
    {
      "cell_type": "code",
      "source": [
        "insurance.columns"
      ],
      "metadata": {
        "colab": {
          "base_uri": "https://localhost:8080/"
        },
        "id": "ECPdewyvpEAW",
        "outputId": "9d8be6e5-ef9a-46d8-b50c-02a658edf925"
      },
      "execution_count": null,
      "outputs": [
        {
          "output_type": "execute_result",
          "data": {
            "text/plain": [
              "Index(['id', 'Gender', 'Age', 'Driving_License', 'Region_Code',\n",
              "       'Previously_Insured', 'Vehicle_Age', 'Vehicle_Damage', 'Annual_Premium',\n",
              "       'Policy_Sales_Channel', 'Vintage', 'Response'],\n",
              "      dtype='object')"
            ]
          },
          "metadata": {},
          "execution_count": 13
        }
      ]
    },
    {
      "cell_type": "code",
      "source": [
        "#now we note that all the features in our data are numerical\n",
        "continuous_features=[\"Annual_Premium\",\"Vintage\",'Age']\n",
        "categorical_features=[ 'Gender', 'Driving_License', 'Region_Code','Previously_Insured', 'Vehicle_Age', 'Vehicle_Damage', 'Policy_Sales_Channel', 'Response']"
      ],
      "metadata": {
        "id": "ydZleJpq7yLr"
      },
      "execution_count": null,
      "outputs": []
    },
    {
      "cell_type": "code",
      "source": [
        "def percentage_response(df,indep_col,dep_col):\n",
        "  col_response=pd.crosstab(df[indep_col],df[dep_col])\n",
        "  col_response_percentage=col_response.copy()\n",
        "  total = col_response[0]+col_response[1]\n",
        "  col_response_percentage[0] = round((col_response[0]/total)*100,2)\n",
        "  col_response_percentage[1] = round((col_response[1]/total)*100,2)\n",
        "  col_response_percentage.sort_values(by=1,inplace=True,ascending=False)\n",
        "  return col_response_percentage\n",
        "    \n"
      ],
      "metadata": {
        "id": "sB_IsLWPHbsM"
      },
      "execution_count": null,
      "outputs": []
    },
    {
      "cell_type": "markdown",
      "source": [
        "###Encoding Categorical Variables"
      ],
      "metadata": {
        "id": "-uNmsyw8n6re"
      }
    },
    {
      "cell_type": "code",
      "source": [
        "#changing gender and vehical damage to 0,1:\n",
        "\"\"\"\n",
        "in gender\n",
        "0- male\n",
        "1- female\n",
        "\n",
        "in Vehical_Damage\n",
        "0- no\n",
        "1- yes\n",
        "\n",
        "\"\"\""
      ],
      "metadata": {
        "colab": {
          "base_uri": "https://localhost:8080/",
          "height": 36
        },
        "id": "HntCF5-Tjhi6",
        "outputId": "d667d1d1-f2f3-4c2b-f156-54d78e51a55c"
      },
      "execution_count": null,
      "outputs": [
        {
          "output_type": "execute_result",
          "data": {
            "text/plain": [
              "'\\nin gender\\n0- male\\n1- female\\n\\nin Vehical_Damage\\n0- no\\n1- yes\\n\\n'"
            ],
            "application/vnd.google.colaboratory.intrinsic+json": {
              "type": "string"
            }
          },
          "metadata": {},
          "execution_count": 16
        }
      ]
    },
    {
      "cell_type": "code",
      "source": [
        "gender_dict={\"Male\":0,\"Female\":1}\n",
        "for c in insurance[\"Gender\"].unique():\n",
        "  insurance[\"Gender\"][insurance[\"Gender\"]==c]=gender_dict[c]\n"
      ],
      "metadata": {
        "colab": {
          "base_uri": "https://localhost:8080/"
        },
        "id": "-smhSL01j9Ef",
        "outputId": "aea92c9e-e80e-46a1-9966-4a707806332b"
      },
      "execution_count": null,
      "outputs": [
        {
          "output_type": "stream",
          "name": "stderr",
          "text": [
            "/usr/local/lib/python3.7/dist-packages/ipykernel_launcher.py:3: SettingWithCopyWarning: \n",
            "A value is trying to be set on a copy of a slice from a DataFrame\n",
            "\n",
            "See the caveats in the documentation: https://pandas.pydata.org/pandas-docs/stable/user_guide/indexing.html#returning-a-view-versus-a-copy\n",
            "  This is separate from the ipykernel package so we can avoid doing imports until\n"
          ]
        }
      ]
    },
    {
      "cell_type": "code",
      "source": [
        "damage_dict={\"Yes\":1,\"No\":0}\n",
        "for c in insurance[\"Vehicle_Damage\"].unique():\n",
        "  insurance[\"Vehicle_Damage\"][insurance[\"Vehicle_Damage\"]==c]=damage_dict[c]"
      ],
      "metadata": {
        "colab": {
          "base_uri": "https://localhost:8080/"
        },
        "id": "WELTIaOFj84O",
        "outputId": "1a696ead-9369-487d-c03e-0f0804a01cb4"
      },
      "execution_count": null,
      "outputs": [
        {
          "output_type": "stream",
          "name": "stderr",
          "text": [
            "/usr/local/lib/python3.7/dist-packages/ipykernel_launcher.py:3: SettingWithCopyWarning: \n",
            "A value is trying to be set on a copy of a slice from a DataFrame\n",
            "\n",
            "See the caveats in the documentation: https://pandas.pydata.org/pandas-docs/stable/user_guide/indexing.html#returning-a-view-versus-a-copy\n",
            "  This is separate from the ipykernel package so we can avoid doing imports until\n"
          ]
        }
      ]
    },
    {
      "cell_type": "code",
      "source": [
        "#now changing vehical age, so checking the  different categories it is having\n",
        "insurance[\"Vehicle_Age\"].unique()"
      ],
      "metadata": {
        "colab": {
          "base_uri": "https://localhost:8080/"
        },
        "id": "NgZGmG5J0nGW",
        "outputId": "e252e7c0-1bc9-4f5c-da0f-d4ec159963d9"
      },
      "execution_count": null,
      "outputs": [
        {
          "output_type": "execute_result",
          "data": {
            "text/plain": [
              "array(['> 2 Years', '1-2 Year', '< 1 Year'], dtype=object)"
            ]
          },
          "metadata": {},
          "execution_count": 19
        }
      ]
    },
    {
      "cell_type": "markdown",
      "source": [
        "from above we note that vehical age is categorized into three types:\n",
        "0- age is less than 1 year\n",
        "1- age is between 1-2 years\n",
        "2- age is greater than 2 years\n",
        "\n",
        "so for this feature we will do ordinal encoding "
      ],
      "metadata": {
        "id": "zBZ_TnM_1Er2"
      }
    },
    {
      "cell_type": "code",
      "source": [
        "age_dict={\"< 1 Year\":0,\"1-2 Year\":1,\"> 2 Years\":2}"
      ],
      "metadata": {
        "id": "q3w9d_Mb3DVj"
      },
      "execution_count": null,
      "outputs": []
    },
    {
      "cell_type": "code",
      "source": [
        "insurance[\"Vehicle_Age\"]=insurance[\"Vehicle_Age\"].replace(age_dict)"
      ],
      "metadata": {
        "id": "GSMwXgmy1DrM"
      },
      "execution_count": null,
      "outputs": []
    },
    {
      "cell_type": "code",
      "source": [
        "#now all the columns in data are integer columns so changing their dtype\n",
        "for c in insurance.columns:\n",
        "  insurance[c]=pd.to_numeric(insurance[c])"
      ],
      "metadata": {
        "id": "6PMIxOOd7ySu"
      },
      "execution_count": null,
      "outputs": []
    },
    {
      "cell_type": "code",
      "source": [
        "insurance.info()"
      ],
      "metadata": {
        "colab": {
          "base_uri": "https://localhost:8080/"
        },
        "id": "QGgXC0kl7yQ-",
        "outputId": "02fb3f93-21c3-4085-b762-863faf3c8b8a"
      },
      "execution_count": null,
      "outputs": [
        {
          "output_type": "stream",
          "name": "stdout",
          "text": [
            "<class 'pandas.core.frame.DataFrame'>\n",
            "Int64Index: 370789 entries, 0 to 381108\n",
            "Data columns (total 12 columns):\n",
            " #   Column                Non-Null Count   Dtype  \n",
            "---  ------                --------------   -----  \n",
            " 0   id                    370789 non-null  int64  \n",
            " 1   Gender                370789 non-null  int64  \n",
            " 2   Age                   370789 non-null  int64  \n",
            " 3   Driving_License       370789 non-null  int64  \n",
            " 4   Region_Code           370789 non-null  float64\n",
            " 5   Previously_Insured    370789 non-null  int64  \n",
            " 6   Vehicle_Age           370789 non-null  int64  \n",
            " 7   Vehicle_Damage        370789 non-null  int64  \n",
            " 8   Annual_Premium        370789 non-null  float64\n",
            " 9   Policy_Sales_Channel  370789 non-null  float64\n",
            " 10  Vintage               370789 non-null  int64  \n",
            " 11  Response              370789 non-null  int64  \n",
            "dtypes: float64(3), int64(9)\n",
            "memory usage: 36.8 MB\n"
          ]
        }
      ]
    },
    {
      "cell_type": "markdown",
      "source": [
        "###Feature Engineering on Categorical Data"
      ],
      "metadata": {
        "id": "WRuCLe8coWHO"
      }
    },
    {
      "cell_type": "markdown",
      "source": [
        "####Basic Information"
      ],
      "metadata": {
        "id": "ehEfhkPhvJx-"
      }
    },
    {
      "cell_type": "code",
      "source": [
        "#counting the number of unique values in each feature\n",
        "for c in categorical_features:\n",
        "  print(f\"number of unique values in column {c}: {(insurance[c].unique()).size}\")"
      ],
      "metadata": {
        "colab": {
          "base_uri": "https://localhost:8080/"
        },
        "id": "eJ49qJLU7yJq",
        "outputId": "24260131-e9be-4935-8378-d3474fcac4ad"
      },
      "execution_count": null,
      "outputs": [
        {
          "output_type": "stream",
          "name": "stdout",
          "text": [
            "number of unique values in column Gender: 2\n",
            "number of unique values in column Driving_License: 2\n",
            "number of unique values in column Region_Code: 53\n",
            "number of unique values in column Previously_Insured: 2\n",
            "number of unique values in column Vehicle_Age: 3\n",
            "number of unique values in column Vehicle_Damage: 2\n",
            "number of unique values in column Policy_Sales_Channel: 155\n",
            "number of unique values in column Response: 2\n"
          ]
        }
      ]
    },
    {
      "cell_type": "markdown",
      "source": [
        "- **id**: the column id is of no use as it is just showing the id of a customer which is unique for every row, so it does'nt effect our result\n",
        "- Gender: no feature engineering required\n",
        "- **Region Code**: In this we have to observe some important points to check how this feature is useful.\n",
        "- Previously_Insured: no feature engineering required\n",
        "- Vehical_Age: no feature engineering required\n",
        "- Vehical_Damage: no feature engineering requiredd\n",
        "- **Policy_sales_channels**: There are total 155 policy sales channels, let's check if there is any particular order or we have to perform some feature engineering\n",
        "- response: no feature engineering required"
      ],
      "metadata": {
        "id": "1unsbX7N9s9l"
      }
    },
    {
      "cell_type": "code",
      "source": [
        "column_drop.append(\"id\")"
      ],
      "metadata": {
        "id": "A-k1FAs1-gcq"
      },
      "execution_count": null,
      "outputs": []
    },
    {
      "cell_type": "code",
      "source": [
        "#value_counts for categorical features\n",
        "\n",
        "for c in categorical_features:\n",
        "  print(f\"for column {c}:\\n{insurance[c].value_counts()}\",\"\\n\")"
      ],
      "metadata": {
        "colab": {
          "base_uri": "https://localhost:8080/"
        },
        "id": "NhhTxw5qX1oA",
        "outputId": "fa46c407-de4b-40ca-da93-6a39175c8b10"
      },
      "execution_count": null,
      "outputs": [
        {
          "output_type": "stream",
          "name": "stdout",
          "text": [
            "for column Gender:\n",
            "0    200319\n",
            "1    170470\n",
            "Name: Gender, dtype: int64 \n",
            "\n",
            "for column Driving_License:\n",
            "1    370026\n",
            "0       763\n",
            "Name: Driving_License, dtype: int64 \n",
            "\n",
            "for column Region_Code:\n",
            "28.0    99741\n",
            "8.0     32069\n",
            "46.0    19628\n",
            "41.0    17941\n",
            "15.0    13178\n",
            "30.0    12179\n",
            "29.0    10871\n",
            "50.0    10188\n",
            "3.0      9172\n",
            "11.0     9116\n",
            "36.0     8700\n",
            "33.0     7613\n",
            "47.0     7418\n",
            "35.0     6883\n",
            "6.0      6273\n",
            "45.0     5571\n",
            "37.0     5483\n",
            "18.0     5115\n",
            "48.0     4681\n",
            "14.0     4647\n",
            "39.0     4558\n",
            "10.0     4364\n",
            "21.0     4257\n",
            "2.0      4038\n",
            "13.0     4029\n",
            "12.0     3188\n",
            "7.0      3168\n",
            "9.0      3094\n",
            "27.0     2816\n",
            "32.0     2786\n",
            "43.0     2616\n",
            "26.0     2584\n",
            "17.0     2535\n",
            "25.0     2491\n",
            "24.0     2408\n",
            "0.0      2019\n",
            "38.0     2006\n",
            "16.0     2006\n",
            "31.0     1960\n",
            "23.0     1958\n",
            "20.0     1934\n",
            "49.0     1824\n",
            "4.0      1796\n",
            "34.0     1656\n",
            "19.0     1534\n",
            "22.0     1298\n",
            "40.0     1285\n",
            "5.0      1275\n",
            "1.0      1008\n",
            "44.0      805\n",
            "42.0      590\n",
            "52.0      262\n",
            "51.0      174\n",
            "Name: Region_Code, dtype: int64 \n",
            "\n",
            "for column Previously_Insured:\n",
            "0    200350\n",
            "1    170439\n",
            "Name: Previously_Insured, dtype: int64 \n",
            "\n",
            "for column Vehicle_Age:\n",
            "1    194212\n",
            "0    161547\n",
            "2     15030\n",
            "Name: Vehicle_Age, dtype: int64 \n",
            "\n",
            "for column Vehicle_Damage:\n",
            "1    186561\n",
            "0    184228\n",
            "Name: Vehicle_Damage, dtype: int64 \n",
            "\n",
            "for column Policy_Sales_Channel:\n",
            "152.0    132168\n",
            "26.0      76375\n",
            "124.0     71902\n",
            "160.0     21489\n",
            "156.0     10591\n",
            "          ...  \n",
            "149.0         1\n",
            "43.0          1\n",
            "144.0         1\n",
            "143.0         1\n",
            "41.0          1\n",
            "Name: Policy_Sales_Channel, Length: 155, dtype: int64 \n",
            "\n",
            "for column Response:\n",
            "0    325634\n",
            "1     45155\n",
            "Name: Response, dtype: int64 \n",
            "\n"
          ]
        }
      ]
    },
    {
      "cell_type": "markdown",
      "source": [
        "####Feature Engineering on Region_Code column"
      ],
      "metadata": {
        "id": "hMpf0oXnsilL"
      }
    },
    {
      "cell_type": "code",
      "source": [
        "insurance[\"Region_Code\"].value_counts()  #here no region code have very less value, so we cannot include others here "
      ],
      "metadata": {
        "colab": {
          "base_uri": "https://localhost:8080/"
        },
        "id": "rcY3QLw8siYC",
        "outputId": "b948f7c2-8662-4994-8360-0fb52271b126"
      },
      "execution_count": null,
      "outputs": [
        {
          "output_type": "execute_result",
          "data": {
            "text/plain": [
              "28.0    99741\n",
              "8.0     32069\n",
              "46.0    19628\n",
              "41.0    17941\n",
              "15.0    13178\n",
              "30.0    12179\n",
              "29.0    10871\n",
              "50.0    10188\n",
              "3.0      9172\n",
              "11.0     9116\n",
              "36.0     8700\n",
              "33.0     7613\n",
              "47.0     7418\n",
              "35.0     6883\n",
              "6.0      6273\n",
              "45.0     5571\n",
              "37.0     5483\n",
              "18.0     5115\n",
              "48.0     4681\n",
              "14.0     4647\n",
              "39.0     4558\n",
              "10.0     4364\n",
              "21.0     4257\n",
              "2.0      4038\n",
              "13.0     4029\n",
              "12.0     3188\n",
              "7.0      3168\n",
              "9.0      3094\n",
              "27.0     2816\n",
              "32.0     2786\n",
              "43.0     2616\n",
              "26.0     2584\n",
              "17.0     2535\n",
              "25.0     2491\n",
              "24.0     2408\n",
              "0.0      2019\n",
              "38.0     2006\n",
              "16.0     2006\n",
              "31.0     1960\n",
              "23.0     1958\n",
              "20.0     1934\n",
              "49.0     1824\n",
              "4.0      1796\n",
              "34.0     1656\n",
              "19.0     1534\n",
              "22.0     1298\n",
              "40.0     1285\n",
              "5.0      1275\n",
              "1.0      1008\n",
              "44.0      805\n",
              "42.0      590\n",
              "52.0      262\n",
              "51.0      174\n",
              "Name: Region_Code, dtype: int64"
            ]
          },
          "metadata": {},
          "execution_count": 27
        }
      ]
    },
    {
      "cell_type": "code",
      "source": [
        "region_response_percentage=percentage_response(insurance,\"Region_Code\",\"Response\")\n"
      ],
      "metadata": {
        "id": "f9a1skihJDtY"
      },
      "execution_count": null,
      "outputs": []
    },
    {
      "cell_type": "code",
      "source": [
        "region_Response_dict=dict(region_response_percentage[1])\n",
        "insurance[\"Region_Response\"]=insurance[\"Region_Code\"].replace(region_Response_dict)\n"
      ],
      "metadata": {
        "id": "CeuOBh37uPtN"
      },
      "execution_count": null,
      "outputs": []
    },
    {
      "cell_type": "code",
      "source": [
        "column_drop.append(\"Region_Code\")\n",
        "continuous_features.append(\"Region_Response\")\n",
        "categorical_features.remove(\"Region_Code\")"
      ],
      "metadata": {
        "id": "SZL-i3Jd32yi"
      },
      "execution_count": null,
      "outputs": []
    },
    {
      "cell_type": "markdown",
      "source": [
        "####Policy Sales Channel\n",
        "From value counts we observe that there is no particular trend in the column, also some of the channels have very less contribution"
      ],
      "metadata": {
        "id": "WbFXf5g3nQ48"
      }
    },
    {
      "cell_type": "code",
      "source": [
        "#from above in policy sales channel we note that at last channels are very less active channels at beginning are more useful\n",
        "\n",
        "channels=insurance[\"Policy_Sales_Channel\"].value_counts()\n",
        "lesser_insurance=channels.index[channels.values<100]\n",
        "\n",
        "#these all indexes have less than 100 contribution which is very less as compared to higher contributions as be observed from above so let's consider\n",
        "#these all as 1 channel with index  0.0\n",
        "\n",
        "to_0=[True if c in lesser_insurance else False for c in insurance[\"Policy_Sales_Channel\"] ]\n",
        "insurance[\"Policy_Sales_Channel\"][to_0]=0\n"
      ],
      "metadata": {
        "colab": {
          "base_uri": "https://localhost:8080/"
        },
        "id": "wbPkDZe3_ne8",
        "outputId": "1641cbd9-d80c-4993-d3ef-3471b4f02fae"
      },
      "execution_count": null,
      "outputs": [
        {
          "output_type": "stream",
          "name": "stderr",
          "text": [
            "/usr/local/lib/python3.7/dist-packages/ipykernel_launcher.py:10: SettingWithCopyWarning: \n",
            "A value is trying to be set on a copy of a slice from a DataFrame\n",
            "\n",
            "See the caveats in the documentation: https://pandas.pydata.org/pandas-docs/stable/user_guide/indexing.html#returning-a-view-versus-a-copy\n",
            "  # Remove the CWD from sys.path while we load stuff.\n"
          ]
        }
      ]
    },
    {
      "cell_type": "code",
      "source": [
        "insurance[\"Policy_Sales_Channel\"].value_counts()"
      ],
      "metadata": {
        "colab": {
          "base_uri": "https://localhost:8080/"
        },
        "id": "PsD4rpEhDc82",
        "outputId": "a084d82d-3403-497f-8b21-45916fb7afca"
      },
      "execution_count": null,
      "outputs": [
        {
          "output_type": "execute_result",
          "data": {
            "text/plain": [
              "152.0    132168\n",
              "26.0      76375\n",
              "124.0     71902\n",
              "160.0     21489\n",
              "156.0     10591\n",
              "          ...  \n",
              "127.0       105\n",
              "113.0       104\n",
              "119.0       101\n",
              "135.0       101\n",
              "54.0        100\n",
              "Name: Policy_Sales_Channel, Length: 63, dtype: int64"
            ]
          },
          "metadata": {},
          "execution_count": 32
        }
      ]
    },
    {
      "cell_type": "markdown",
      "source": [
        "Now we have added a new column named Channel Response which shows the percentage of customers for a given policy channel who takes vehical insurance, as there are so many policy channels and there is no particular order so after adding this useful column we will drop policy channel column"
      ],
      "metadata": {
        "id": "N-mXXeWaluK4"
      }
    },
    {
      "cell_type": "code",
      "source": [
        "channel_response_percentage=percentage_response(insurance,\"Policy_Sales_Channel\",\"Response\")"
      ],
      "metadata": {
        "id": "J5YCrsFJUZjT"
      },
      "execution_count": null,
      "outputs": []
    },
    {
      "cell_type": "code",
      "source": [
        "Channel_Response_dict=dict(channel_response_percentage[1])\n",
        "insurance[\"Channel_Response\"]=insurance[\"Policy_Sales_Channel\"].replace(Channel_Response_dict)\n",
        "column_drop.append(\"Policy_Sales_Channel\")\n",
        "continuous_features.append(\"Channel_Response\")\n",
        "categorical_features.remove(\"Policy_Sales_Channel\")"
      ],
      "metadata": {
        "id": "O15Va6FSV1zi"
      },
      "execution_count": null,
      "outputs": []
    },
    {
      "cell_type": "markdown",
      "source": [
        "###Feature Engineering on Continuous Attributes"
      ],
      "metadata": {
        "id": "E6siNLHMsCsA"
      }
    },
    {
      "cell_type": "markdown",
      "source": [
        "####Basic Understanding"
      ],
      "metadata": {
        "id": "kF2Ygc80LzH_"
      }
    },
    {
      "cell_type": "code",
      "source": [
        "continuous_features"
      ],
      "metadata": {
        "colab": {
          "base_uri": "https://localhost:8080/"
        },
        "id": "qVVqoASjsKP8",
        "outputId": "6069f9d8-728f-4cbe-ca52-b1d3c0914a77"
      },
      "execution_count": null,
      "outputs": [
        {
          "output_type": "execute_result",
          "data": {
            "text/plain": [
              "['Annual_Premium', 'Vintage', 'Age', 'Region_Response', 'Channel_Response']"
            ]
          },
          "metadata": {},
          "execution_count": 35
        }
      ]
    },
    {
      "cell_type": "code",
      "source": [
        "insurance[continuous_features].boxplot(rot=90)   #here we note that we do not have any outlier in our data"
      ],
      "metadata": {
        "colab": {
          "base_uri": "https://localhost:8080/",
          "height": 367
        },
        "id": "AXMlgwCNsKLs",
        "outputId": "e526f06c-5305-4cf2-c04d-0a3e7d7a2765"
      },
      "execution_count": null,
      "outputs": [
        {
          "output_type": "execute_result",
          "data": {
            "text/plain": [
              "<matplotlib.axes._subplots.AxesSubplot at 0x7f158c567a50>"
            ]
          },
          "metadata": {},
          "execution_count": 36
        },
        {
          "output_type": "display_data",
          "data": {
            "text/plain": [
              "<Figure size 432x288 with 1 Axes>"
            ],
            "image/png": "[encoded data removed]"
          },
          "metadata": {
            "needs_background": "light"
          }
        }
      ]
    },
    {
      "cell_type": "code",
      "source": [
        "for c in continuous_features:\n",
        "  print(f\"number of unique values in column {c}: {(insurance[c].unique()).size}\")"
      ],
      "metadata": {
        "colab": {
          "base_uri": "https://localhost:8080/"
        },
        "id": "Q_bgjtVRw5OH",
        "outputId": "30282048-b24f-4dd9-fe22-2ba4519c498a"
      },
      "execution_count": null,
      "outputs": [
        {
          "output_type": "stream",
          "name": "stdout",
          "text": [
            "number of unique values in column Annual_Premium: 41667\n",
            "number of unique values in column Vintage: 290\n",
            "number of unique values in column Age: 66\n",
            "number of unique values in column Region_Response: 51\n",
            "number of unique values in column Channel_Response: 62\n"
          ]
        }
      ]
    },
    {
      "cell_type": "markdown",
      "source": [
        "- Annual_Premium: We will normalize this column\n",
        "- vintage: observe if there is any correlation with response or not\n",
        "- Age: observe if there is any correlation with response or not, if we are able to note some trend then we will divide ages in some categories and make age a categorical column.\n",
        "- We will do nothing with Region_Responses and Channel_Responses as we have added them using feature engineering and there is no need to make any changes"
      ],
      "metadata": {
        "id": "xcawU3MaxCB1"
      }
    },
    {
      "cell_type": "markdown",
      "source": [
        "####Normalising Annual_Premium"
      ],
      "metadata": {
        "id": "2AT58Wp6y8bW"
      }
    },
    {
      "cell_type": "code",
      "execution_count": null,
      "metadata": {
        "id": "He4__3iv2ZH_"
      },
      "outputs": [],
      "source": [
        "def normalization(df,col_list):\n",
        "\n",
        "  for c1 in col_list:\n",
        "    try:\n",
        "      mx=df.max()[c1]\n",
        "      mn=df.min()[c1]\n",
        "      df[f\"{c1}_Normalized\"]=(df[c1]-mn)/(mx-mn)\n",
        "      col_list.remove(c1)    #so that c1 do  not get normalized again and again\n",
        "    except:\n",
        "      print(f\"{c1} is not a numerical column, so it can not be normalized\")\n",
        "      col_list.remove(c1)\n",
        "      normalization(df,col_list)\n",
        "  return df"
      ]
    },
    {
      "cell_type": "code",
      "source": [
        "#insurance=normalization(insurance,[\"Annual_Premium\"])   # we observed that our model's is working better with not normalized values, so we leave this step"
      ],
      "metadata": {
        "id": "my1KnIQWw1fB"
      },
      "execution_count": null,
      "outputs": []
    },
    {
      "cell_type": "markdown",
      "source": [
        "####Vintage"
      ],
      "metadata": {
        "id": "Pf7YxEaX0FId"
      }
    },
    {
      "cell_type": "code",
      "source": [
        "insurance[\"Vintage\"].value_counts()\n",
        "#vintage column is not showing very much variation there are all categories of people, those who are old customers to those who have recently joined."
      ],
      "metadata": {
        "id": "4-Do1KaYw1ZB",
        "colab": {
          "base_uri": "https://localhost:8080/"
        },
        "outputId": "8134db86-8bba-4af6-930f-3b83ad6114e4"
      },
      "execution_count": null,
      "outputs": [
        {
          "output_type": "execute_result",
          "data": {
            "text/plain": [
              "256    1382\n",
              "73     1375\n",
              "282    1361\n",
              "126    1355\n",
              "158    1354\n",
              "       ... \n",
              "224    1204\n",
              "89     1201\n",
              "205    1198\n",
              "32     1194\n",
              "277    1179\n",
              "Name: Vintage, Length: 290, dtype: int64"
            ]
          },
          "metadata": {},
          "execution_count": 39
        }
      ]
    },
    {
      "cell_type": "code",
      "source": [
        "percentage_response(insurance,\"Vintage\",\"Response\")\n",
        "#here we note that vintage does not very much affect the percentage or probabililty of person's response so we will drop this column\n"
      ],
      "metadata": {
        "colab": {
          "base_uri": "https://localhost:8080/",
          "height": 455
        },
        "id": "kssA6b9KJ-wn",
        "outputId": "7db2bada-a988-4784-eb0b-cd3c48f00bb8"
      },
      "execution_count": null,
      "outputs": [
        {
          "output_type": "execute_result",
          "data": {
            "text/plain": [
              "Response      0      1\n",
              "Vintage               \n",
              "220       85.44  14.56\n",
              "212       85.63  14.37\n",
              "164       85.70  14.30\n",
              "189       85.78  14.22\n",
              "11        85.86  14.14\n",
              "...         ...    ...\n",
              "78        89.66  10.34\n",
              "156       89.68  10.32\n",
              "273       89.72  10.28\n",
              "245       89.84  10.16\n",
              "80        90.08   9.92\n",
              "\n",
              "[290 rows x 2 columns]"
            ],
            "text/html": [
              "\n",
              "  <div id=\"df-cd8aaca4-0654-45f6-87f4-9918664f8150\">\n",
              "    <div class=\"colab-df-container\">\n",
              "      <div>\n",
              "<style scoped>\n",
              "    .dataframe tbody tr th:only-of-type {\n",
              "        vertical-align: middle;\n",
              "    }\n",
              "\n",
              "    .dataframe tbody tr th {\n",
              "        vertical-align: top;\n",
              "    }\n",
              "\n",
              "    .dataframe thead th {\n",
              "        text-align: right;\n",
              "    }\n",
              "</style>\n",
              "<table border=\"1\" class=\"dataframe\">\n",
              "  <thead>\n",
              "    <tr style=\"text-align: right;\">\n",
              "      <th>Response</th>\n",
              "      <th>0</th>\n",
              "      <th>1</th>\n",
              "    </tr>\n",
              "    <tr>\n",
              "      <th>Vintage</th>\n",
              "      <th></th>\n",
              "      <th></th>\n",
              "    </tr>\n",
              "  </thead>\n",
              "  <tbody>\n",
              "    <tr>\n",
              "      <th>220</th>\n",
              "      <td>85.44</td>\n",
              "      <td>14.56</td>\n",
              "    </tr>\n",
              "    <tr>\n",
              "      <th>212</th>\n",
              "      <td>85.63</td>\n",
              "      <td>14.37</td>\n",
              "    </tr>\n",
              "    <tr>\n",
              "      <th>164</th>\n",
              "      <td>85.70</td>\n",
              "      <td>14.30</td>\n",
              "    </tr>\n",
              "    <tr>\n",
              "      <th>189</th>\n",
              "      <td>85.78</td>\n",
              "      <td>14.22</td>\n",
              "    </tr>\n",
              "    <tr>\n",
              "      <th>11</th>\n",
              "      <td>85.86</td>\n",
              "      <td>14.14</td>\n",
              "    </tr>\n",
              "    <tr>\n",
              "      <th>...</th>\n",
              "      <td>...</td>\n",
              "      <td>...</td>\n",
              "    </tr>\n",
              "    <tr>\n",
              "      <th>78</th>\n",
              "      <td>89.66</td>\n",
              "      <td>10.34</td>\n",
              "    </tr>\n",
              "    <tr>\n",
              "      <th>156</th>\n",
              "      <td>89.68</td>\n",
              "      <td>10.32</td>\n",
              "    </tr>\n",
              "    <tr>\n",
              "      <th>273</th>\n",
              "      <td>89.72</td>\n",
              "      <td>10.28</td>\n",
              "    </tr>\n",
              "    <tr>\n",
              "      <th>245</th>\n",
              "      <td>89.84</td>\n",
              "      <td>10.16</td>\n",
              "    </tr>\n",
              "    <tr>\n",
              "      <th>80</th>\n",
              "      <td>90.08</td>\n",
              "      <td>9.92</td>\n",
              "    </tr>\n",
              "  </tbody>\n",
              "</table>\n",
              "<p>290 rows × 2 columns</p>\n",
              "</div>\n",
              "      <button class=\"colab-df-convert\" onclick=\"convertToInteractive('df-cd8aaca4-0654-45f6-87f4-9918664f8150')\"\n",
              "              title=\"Convert this dataframe to an interactive table.\"\n",
              "              style=\"display:none;\">\n",
              "        \n",
              "  <svg xmlns=\"http://www.w3.org/2000/svg\" height=\"24px\"viewBox=\"0 0 24 24\"\n",
              "       width=\"24px\">\n",
              "    <path d=\"M0 0h24v24H0V0z\" fill=\"none\"/>\n",
              "    <path d=\"M18.56 5.44l.94 2.06.94-2.06 2.06-.94-2.06-.94-.94-2.06-.94 2.06-2.06.94zm-11 1L8.5 8.5l.94-2.06 2.06-.94-2.06-.94L8.5 2.5l-.94 2.06-2.06.94zm10 10l.94 2.06.94-2.06 2.06-.94-2.06-.94-.94-2.06-.94 2.06-2.06.94z\"/><path d=\"M17.41 7.96l-1.37-1.37c-.4-.4-.92-.59-1.43-.59-.52 0-1.04.2-1.43.59L10.3 9.45l-7.72 7.72c-.78.78-.78 2.05 0 2.83L4 21.41c.39.39.9.59 1.41.59.51 0 1.02-.2 1.41-.59l7.78-7.78 2.81-2.81c.8-.78.8-2.07 0-2.86zM5.41 20L4 18.59l7.72-7.72 1.47 1.35L5.41 20z\"/>\n",
              "  </svg>\n",
              "      </button>\n",
              "      \n",
              "  <style>\n",
              "    .colab-df-container {\n",
              "      display:flex;\n",
              "      flex-wrap:wrap;\n",
              "      gap: 12px;\n",
              "    }\n",
              "\n",
              "    .colab-df-convert {\n",
              "      background-color: #E8F0FE;\n",
              "      border: none;\n",
              "      border-radius: 50%;\n",
              "      cursor: pointer;\n",
              "      display: none;\n",
              "      fill: #1967D2;\n",
              "      height: 32px;\n",
              "      padding: 0 0 0 0;\n",
              "      width: 32px;\n",
              "    }\n",
              "\n",
              "    .colab-df-convert:hover {\n",
              "      background-color: #E2EBFA;\n",
              "      box-shadow: 0px 1px 2px rgba(60, 64, 67, 0.3), 0px 1px 3px 1px rgba(60, 64, 67, 0.15);\n",
              "      fill: #174EA6;\n",
              "    }\n",
              "\n",
              "    [theme=dark] .colab-df-convert {\n",
              "      background-color: #3B4455;\n",
              "      fill: #D2E3FC;\n",
              "    }\n",
              "\n",
              "    [theme=dark] .colab-df-convert:hover {\n",
              "      background-color: #434B5C;\n",
              "      box-shadow: 0px 1px 3px 1px rgba(0, 0, 0, 0.15);\n",
              "      filter: drop-shadow(0px 1px 2px rgba(0, 0, 0, 0.3));\n",
              "      fill: #FFFFFF;\n",
              "    }\n",
              "  </style>\n",
              "\n",
              "      <script>\n",
              "        const buttonEl =\n",
              "          document.querySelector('#df-cd8aaca4-0654-45f6-87f4-9918664f8150 button.colab-df-convert');\n",
              "        buttonEl.style.display =\n",
              "          google.colab.kernel.accessAllowed ? 'block' : 'none';\n",
              "\n",
              "        async function convertToInteractive(key) {\n",
              "          const element = document.querySelector('#df-cd8aaca4-0654-45f6-87f4-9918664f8150');\n",
              "          const dataTable =\n",
              "            await google.colab.kernel.invokeFunction('convertToInteractive',\n",
              "                                                     [key], {});\n",
              "          if (!dataTable) return;\n",
              "\n",
              "          const docLinkHtml = 'Like what you see? Visit the ' +\n",
              "            '<a target=\"_blank\" href=https://colab.research.google.com/notebooks/data_table.ipynb>data table notebook</a>'\n",
              "            + ' to learn more about interactive tables.';\n",
              "          element.innerHTML = '';\n",
              "          dataTable['output_type'] = 'display_data';\n",
              "          await google.colab.output.renderOutput(dataTable, element);\n",
              "          const docLink = document.createElement('div');\n",
              "          docLink.innerHTML = docLinkHtml;\n",
              "          element.appendChild(docLink);\n",
              "        }\n",
              "      </script>\n",
              "    </div>\n",
              "  </div>\n",
              "  "
            ]
          },
          "metadata": {},
          "execution_count": 40
        }
      ]
    },
    {
      "cell_type": "code",
      "source": [
        "column_drop.append(\"Vintage\")\n",
        "continuous_features.remove(\"Vintage\")"
      ],
      "metadata": {
        "id": "1ihxuxtBLM1A"
      },
      "execution_count": null,
      "outputs": []
    },
    {
      "cell_type": "markdown",
      "source": [
        "####Age "
      ],
      "metadata": {
        "id": "qoxRvxBnLdRT"
      }
    },
    {
      "cell_type": "code",
      "source": [
        "insurance[[\"Age\"]].agg([\"min\",\"max\"])"
      ],
      "metadata": {
        "colab": {
          "base_uri": "https://localhost:8080/",
          "height": 112
        },
        "id": "Lm2oy6Q7R-I_",
        "outputId": "9b1c8206-e01a-4b86-efa1-bd4a5bb63e44"
      },
      "execution_count": null,
      "outputs": [
        {
          "output_type": "execute_result",
          "data": {
            "text/plain": [
              "     Age\n",
              "min   20\n",
              "max   85"
            ],
            "text/html": [
              "\n",
              "  <div id=\"df-cb820ba5-d5b6-482a-a986-f4f18aaef7cf\">\n",
              "    <div class=\"colab-df-container\">\n",
              "      <div>\n",
              "<style scoped>\n",
              "    .dataframe tbody tr th:only-of-type {\n",
              "        vertical-align: middle;\n",
              "    }\n",
              "\n",
              "    .dataframe tbody tr th {\n",
              "        vertical-align: top;\n",
              "    }\n",
              "\n",
              "    .dataframe thead th {\n",
              "        text-align: right;\n",
              "    }\n",
              "</style>\n",
              "<table border=\"1\" class=\"dataframe\">\n",
              "  <thead>\n",
              "    <tr style=\"text-align: right;\">\n",
              "      <th></th>\n",
              "      <th>Age</th>\n",
              "    </tr>\n",
              "  </thead>\n",
              "  <tbody>\n",
              "    <tr>\n",
              "      <th>min</th>\n",
              "      <td>20</td>\n",
              "    </tr>\n",
              "    <tr>\n",
              "      <th>max</th>\n",
              "      <td>85</td>\n",
              "    </tr>\n",
              "  </tbody>\n",
              "</table>\n",
              "</div>\n",
              "      <button class=\"colab-df-convert\" onclick=\"convertToInteractive('df-cb820ba5-d5b6-482a-a986-f4f18aaef7cf')\"\n",
              "              title=\"Convert this dataframe to an interactive table.\"\n",
              "              style=\"display:none;\">\n",
              "        \n",
              "  <svg xmlns=\"http://www.w3.org/2000/svg\" height=\"24px\"viewBox=\"0 0 24 24\"\n",
              "       width=\"24px\">\n",
              "    <path d=\"M0 0h24v24H0V0z\" fill=\"none\"/>\n",
              "    <path d=\"M18.56 5.44l.94 2.06.94-2.06 2.06-.94-2.06-.94-.94-2.06-.94 2.06-2.06.94zm-11 1L8.5 8.5l.94-2.06 2.06-.94-2.06-.94L8.5 2.5l-.94 2.06-2.06.94zm10 10l.94 2.06.94-2.06 2.06-.94-2.06-.94-.94-2.06-.94 2.06-2.06.94z\"/><path d=\"M17.41 7.96l-1.37-1.37c-.4-.4-.92-.59-1.43-.59-.52 0-1.04.2-1.43.59L10.3 9.45l-7.72 7.72c-.78.78-.78 2.05 0 2.83L4 21.41c.39.39.9.59 1.41.59.51 0 1.02-.2 1.41-.59l7.78-7.78 2.81-2.81c.8-.78.8-2.07 0-2.86zM5.41 20L4 18.59l7.72-7.72 1.47 1.35L5.41 20z\"/>\n",
              "  </svg>\n",
              "      </button>\n",
              "      \n",
              "  <style>\n",
              "    .colab-df-container {\n",
              "      display:flex;\n",
              "      flex-wrap:wrap;\n",
              "      gap: 12px;\n",
              "    }\n",
              "\n",
              "    .colab-df-convert {\n",
              "      background-color: #E8F0FE;\n",
              "      border: none;\n",
              "      border-radius: 50%;\n",
              "      cursor: pointer;\n",
              "      display: none;\n",
              "      fill: #1967D2;\n",
              "      height: 32px;\n",
              "      padding: 0 0 0 0;\n",
              "      width: 32px;\n",
              "    }\n",
              "\n",
              "    .colab-df-convert:hover {\n",
              "      background-color: #E2EBFA;\n",
              "      box-shadow: 0px 1px 2px rgba(60, 64, 67, 0.3), 0px 1px 3px 1px rgba(60, 64, 67, 0.15);\n",
              "      fill: #174EA6;\n",
              "    }\n",
              "\n",
              "    [theme=dark] .colab-df-convert {\n",
              "      background-color: #3B4455;\n",
              "      fill: #D2E3FC;\n",
              "    }\n",
              "\n",
              "    [theme=dark] .colab-df-convert:hover {\n",
              "      background-color: #434B5C;\n",
              "      box-shadow: 0px 1px 3px 1px rgba(0, 0, 0, 0.15);\n",
              "      filter: drop-shadow(0px 1px 2px rgba(0, 0, 0, 0.3));\n",
              "      fill: #FFFFFF;\n",
              "    }\n",
              "  </style>\n",
              "\n",
              "      <script>\n",
              "        const buttonEl =\n",
              "          document.querySelector('#df-cb820ba5-d5b6-482a-a986-f4f18aaef7cf button.colab-df-convert');\n",
              "        buttonEl.style.display =\n",
              "          google.colab.kernel.accessAllowed ? 'block' : 'none';\n",
              "\n",
              "        async function convertToInteractive(key) {\n",
              "          const element = document.querySelector('#df-cb820ba5-d5b6-482a-a986-f4f18aaef7cf');\n",
              "          const dataTable =\n",
              "            await google.colab.kernel.invokeFunction('convertToInteractive',\n",
              "                                                     [key], {});\n",
              "          if (!dataTable) return;\n",
              "\n",
              "          const docLinkHtml = 'Like what you see? Visit the ' +\n",
              "            '<a target=\"_blank\" href=https://colab.research.google.com/notebooks/data_table.ipynb>data table notebook</a>'\n",
              "            + ' to learn more about interactive tables.';\n",
              "          element.innerHTML = '';\n",
              "          dataTable['output_type'] = 'display_data';\n",
              "          await google.colab.output.renderOutput(dataTable, element);\n",
              "          const docLink = document.createElement('div');\n",
              "          docLink.innerHTML = docLinkHtml;\n",
              "          element.appendChild(docLink);\n",
              "        }\n",
              "      </script>\n",
              "    </div>\n",
              "  </div>\n",
              "  "
            ]
          },
          "metadata": {},
          "execution_count": 42
        }
      ]
    },
    {
      "cell_type": "markdown",
      "source": [
        "here we note that the minimum age of a customer is 20 and the maximum age is 85"
      ],
      "metadata": {
        "id": "HG1WAwzSSGai"
      }
    },
    {
      "cell_type": "code",
      "source": [
        "insurance[\"Age\"].value_counts()"
      ],
      "metadata": {
        "colab": {
          "base_uri": "https://localhost:8080/"
        },
        "id": "5cmafLqKLigc",
        "outputId": "7b40dc95-95f0-4b53-c986-f94126aeba40"
      },
      "execution_count": null,
      "outputs": [
        {
          "output_type": "execute_result",
          "data": {
            "text/plain": [
              "24    25400\n",
              "23    23810\n",
              "22    20572\n",
              "25    20159\n",
              "21    16161\n",
              "      ...  \n",
              "81       53\n",
              "82       28\n",
              "83       21\n",
              "84       11\n",
              "85       10\n",
              "Name: Age, Length: 66, dtype: int64"
            ]
          },
          "metadata": {},
          "execution_count": 43
        }
      ]
    },
    {
      "cell_type": "code",
      "source": [
        "pd.crosstab(insurance[\"Age\"],insurance[\"Response\"])"
      ],
      "metadata": {
        "colab": {
          "base_uri": "https://localhost:8080/",
          "height": 455
        },
        "id": "8OEGNR6HSOVD",
        "outputId": "f592ba90-e8cd-46d9-ee72-a18e8c1bb908"
      },
      "execution_count": null,
      "outputs": [
        {
          "output_type": "execute_result",
          "data": {
            "text/plain": [
              "Response      0    1\n",
              "Age                 \n",
              "20         5979  171\n",
              "21        15599  562\n",
              "22        19824  748\n",
              "23        22935  875\n",
              "24        24501  899\n",
              "..          ...  ...\n",
              "81           49    4\n",
              "82           27    1\n",
              "83           20    1\n",
              "84           11    0\n",
              "85           10    0\n",
              "\n",
              "[66 rows x 2 columns]"
            ],
            "text/html": [
              "\n",
              "  <div id=\"df-c81fa8fc-9768-4b0b-a317-dadab86eacb1\">\n",
              "    <div class=\"colab-df-container\">\n",
              "      <div>\n",
              "<style scoped>\n",
              "    .dataframe tbody tr th:only-of-type {\n",
              "        vertical-align: middle;\n",
              "    }\n",
              "\n",
              "    .dataframe tbody tr th {\n",
              "        vertical-align: top;\n",
              "    }\n",
              "\n",
              "    .dataframe thead th {\n",
              "        text-align: right;\n",
              "    }\n",
              "</style>\n",
              "<table border=\"1\" class=\"dataframe\">\n",
              "  <thead>\n",
              "    <tr style=\"text-align: right;\">\n",
              "      <th>Response</th>\n",
              "      <th>0</th>\n",
              "      <th>1</th>\n",
              "    </tr>\n",
              "    <tr>\n",
              "      <th>Age</th>\n",
              "      <th></th>\n",
              "      <th></th>\n",
              "    </tr>\n",
              "  </thead>\n",
              "  <tbody>\n",
              "    <tr>\n",
              "      <th>20</th>\n",
              "      <td>5979</td>\n",
              "      <td>171</td>\n",
              "    </tr>\n",
              "    <tr>\n",
              "      <th>21</th>\n",
              "      <td>15599</td>\n",
              "      <td>562</td>\n",
              "    </tr>\n",
              "    <tr>\n",
              "      <th>22</th>\n",
              "      <td>19824</td>\n",
              "      <td>748</td>\n",
              "    </tr>\n",
              "    <tr>\n",
              "      <th>23</th>\n",
              "      <td>22935</td>\n",
              "      <td>875</td>\n",
              "    </tr>\n",
              "    <tr>\n",
              "      <th>24</th>\n",
              "      <td>24501</td>\n",
              "      <td>899</td>\n",
              "    </tr>\n",
              "    <tr>\n",
              "      <th>...</th>\n",
              "      <td>...</td>\n",
              "      <td>...</td>\n",
              "    </tr>\n",
              "    <tr>\n",
              "      <th>81</th>\n",
              "      <td>49</td>\n",
              "      <td>4</td>\n",
              "    </tr>\n",
              "    <tr>\n",
              "      <th>82</th>\n",
              "      <td>27</td>\n",
              "      <td>1</td>\n",
              "    </tr>\n",
              "    <tr>\n",
              "      <th>83</th>\n",
              "      <td>20</td>\n",
              "      <td>1</td>\n",
              "    </tr>\n",
              "    <tr>\n",
              "      <th>84</th>\n",
              "      <td>11</td>\n",
              "      <td>0</td>\n",
              "    </tr>\n",
              "    <tr>\n",
              "      <th>85</th>\n",
              "      <td>10</td>\n",
              "      <td>0</td>\n",
              "    </tr>\n",
              "  </tbody>\n",
              "</table>\n",
              "<p>66 rows × 2 columns</p>\n",
              "</div>\n",
              "      <button class=\"colab-df-convert\" onclick=\"convertToInteractive('df-c81fa8fc-9768-4b0b-a317-dadab86eacb1')\"\n",
              "              title=\"Convert this dataframe to an interactive table.\"\n",
              "              style=\"display:none;\">\n",
              "        \n",
              "  <svg xmlns=\"http://www.w3.org/2000/svg\" height=\"24px\"viewBox=\"0 0 24 24\"\n",
              "       width=\"24px\">\n",
              "    <path d=\"M0 0h24v24H0V0z\" fill=\"none\"/>\n",
              "    <path d=\"M18.56 5.44l.94 2.06.94-2.06 2.06-.94-2.06-.94-.94-2.06-.94 2.06-2.06.94zm-11 1L8.5 8.5l.94-2.06 2.06-.94-2.06-.94L8.5 2.5l-.94 2.06-2.06.94zm10 10l.94 2.06.94-2.06 2.06-.94-2.06-.94-.94-2.06-.94 2.06-2.06.94z\"/><path d=\"M17.41 7.96l-1.37-1.37c-.4-.4-.92-.59-1.43-.59-.52 0-1.04.2-1.43.59L10.3 9.45l-7.72 7.72c-.78.78-.78 2.05 0 2.83L4 21.41c.39.39.9.59 1.41.59.51 0 1.02-.2 1.41-.59l7.78-7.78 2.81-2.81c.8-.78.8-2.07 0-2.86zM5.41 20L4 18.59l7.72-7.72 1.47 1.35L5.41 20z\"/>\n",
              "  </svg>\n",
              "      </button>\n",
              "      \n",
              "  <style>\n",
              "    .colab-df-container {\n",
              "      display:flex;\n",
              "      flex-wrap:wrap;\n",
              "      gap: 12px;\n",
              "    }\n",
              "\n",
              "    .colab-df-convert {\n",
              "      background-color: #E8F0FE;\n",
              "      border: none;\n",
              "      border-radius: 50%;\n",
              "      cursor: pointer;\n",
              "      display: none;\n",
              "      fill: #1967D2;\n",
              "      height: 32px;\n",
              "      padding: 0 0 0 0;\n",
              "      width: 32px;\n",
              "    }\n",
              "\n",
              "    .colab-df-convert:hover {\n",
              "      background-color: #E2EBFA;\n",
              "      box-shadow: 0px 1px 2px rgba(60, 64, 67, 0.3), 0px 1px 3px 1px rgba(60, 64, 67, 0.15);\n",
              "      fill: #174EA6;\n",
              "    }\n",
              "\n",
              "    [theme=dark] .colab-df-convert {\n",
              "      background-color: #3B4455;\n",
              "      fill: #D2E3FC;\n",
              "    }\n",
              "\n",
              "    [theme=dark] .colab-df-convert:hover {\n",
              "      background-color: #434B5C;\n",
              "      box-shadow: 0px 1px 3px 1px rgba(0, 0, 0, 0.15);\n",
              "      filter: drop-shadow(0px 1px 2px rgba(0, 0, 0, 0.3));\n",
              "      fill: #FFFFFF;\n",
              "    }\n",
              "  </style>\n",
              "\n",
              "      <script>\n",
              "        const buttonEl =\n",
              "          document.querySelector('#df-c81fa8fc-9768-4b0b-a317-dadab86eacb1 button.colab-df-convert');\n",
              "        buttonEl.style.display =\n",
              "          google.colab.kernel.accessAllowed ? 'block' : 'none';\n",
              "\n",
              "        async function convertToInteractive(key) {\n",
              "          const element = document.querySelector('#df-c81fa8fc-9768-4b0b-a317-dadab86eacb1');\n",
              "          const dataTable =\n",
              "            await google.colab.kernel.invokeFunction('convertToInteractive',\n",
              "                                                     [key], {});\n",
              "          if (!dataTable) return;\n",
              "\n",
              "          const docLinkHtml = 'Like what you see? Visit the ' +\n",
              "            '<a target=\"_blank\" href=https://colab.research.google.com/notebooks/data_table.ipynb>data table notebook</a>'\n",
              "            + ' to learn more about interactive tables.';\n",
              "          element.innerHTML = '';\n",
              "          dataTable['output_type'] = 'display_data';\n",
              "          await google.colab.output.renderOutput(dataTable, element);\n",
              "          const docLink = document.createElement('div');\n",
              "          docLink.innerHTML = docLinkHtml;\n",
              "          element.appendChild(docLink);\n",
              "        }\n",
              "      </script>\n",
              "    </div>\n",
              "  </div>\n",
              "  "
            ]
          },
          "metadata": {},
          "execution_count": 44
        }
      ]
    },
    {
      "cell_type": "markdown",
      "source": [
        "let's try dividing age in three categories\n",
        "40 and below 40- 0\n",
        "40-60- 1\n",
        "60above- 2"
      ],
      "metadata": {
        "id": "EXmSvOoXSZvw"
      }
    },
    {
      "cell_type": "code",
      "source": [
        "insurance[\"Age_Section\"]=insurance[\"Age\"].copy()"
      ],
      "metadata": {
        "id": "NqJ4WSVZTAI6"
      },
      "execution_count": null,
      "outputs": []
    },
    {
      "cell_type": "code",
      "source": [
        "insurance[\"Age_Section\"][insurance[\"Age\"]<=40]=0\n",
        "insurance[\"Age_Section\"][(insurance[\"Age\"]>40)&(insurance[\"Age\"]<=60)]=1\n",
        "insurance[\"Age_Section\"][insurance[\"Age\"]>60]=2"
      ],
      "metadata": {
        "colab": {
          "base_uri": "https://localhost:8080/"
        },
        "id": "H2UcI7doSZCK",
        "outputId": "8f4d349e-5a60-447b-e20f-00e820396353"
      },
      "execution_count": null,
      "outputs": [
        {
          "output_type": "stream",
          "name": "stderr",
          "text": [
            "/usr/local/lib/python3.7/dist-packages/ipykernel_launcher.py:1: SettingWithCopyWarning: \n",
            "A value is trying to be set on a copy of a slice from a DataFrame\n",
            "\n",
            "See the caveats in the documentation: https://pandas.pydata.org/pandas-docs/stable/user_guide/indexing.html#returning-a-view-versus-a-copy\n",
            "  \"\"\"Entry point for launching an IPython kernel.\n",
            "/usr/local/lib/python3.7/dist-packages/ipykernel_launcher.py:2: SettingWithCopyWarning: \n",
            "A value is trying to be set on a copy of a slice from a DataFrame\n",
            "\n",
            "See the caveats in the documentation: https://pandas.pydata.org/pandas-docs/stable/user_guide/indexing.html#returning-a-view-versus-a-copy\n",
            "  \n",
            "/usr/local/lib/python3.7/dist-packages/ipykernel_launcher.py:3: SettingWithCopyWarning: \n",
            "A value is trying to be set on a copy of a slice from a DataFrame\n",
            "\n",
            "See the caveats in the documentation: https://pandas.pydata.org/pandas-docs/stable/user_guide/indexing.html#returning-a-view-versus-a-copy\n",
            "  This is separate from the ipykernel package so we can avoid doing imports until\n"
          ]
        }
      ]
    },
    {
      "cell_type": "code",
      "source": [
        "pd.crosstab(insurance[\"Age_Section\"],insurance[\"Response\"],margins=True)\n"
      ],
      "metadata": {
        "colab": {
          "base_uri": "https://localhost:8080/",
          "height": 206
        },
        "id": "jzGeipY2TVFv",
        "outputId": "4b878f65-3a92-43d5-d987-910cca0b87a1"
      },
      "execution_count": null,
      "outputs": [
        {
          "output_type": "execute_result",
          "data": {
            "text/plain": [
              "Response          0      1     All\n",
              "Age_Section                       \n",
              "0            193825  18390  212215\n",
              "1             94630  22851  117481\n",
              "2             37179   3914   41093\n",
              "All          325634  45155  370789"
            ],
            "text/html": [
              "\n",
              "  <div id=\"df-0fdeccdc-e307-4872-af82-cda0b1fc6f69\">\n",
              "    <div class=\"colab-df-container\">\n",
              "      <div>\n",
              "<style scoped>\n",
              "    .dataframe tbody tr th:only-of-type {\n",
              "        vertical-align: middle;\n",
              "    }\n",
              "\n",
              "    .dataframe tbody tr th {\n",
              "        vertical-align: top;\n",
              "    }\n",
              "\n",
              "    .dataframe thead th {\n",
              "        text-align: right;\n",
              "    }\n",
              "</style>\n",
              "<table border=\"1\" class=\"dataframe\">\n",
              "  <thead>\n",
              "    <tr style=\"text-align: right;\">\n",
              "      <th>Response</th>\n",
              "      <th>0</th>\n",
              "      <th>1</th>\n",
              "      <th>All</th>\n",
              "    </tr>\n",
              "    <tr>\n",
              "      <th>Age_Section</th>\n",
              "      <th></th>\n",
              "      <th></th>\n",
              "      <th></th>\n",
              "    </tr>\n",
              "  </thead>\n",
              "  <tbody>\n",
              "    <tr>\n",
              "      <th>0</th>\n",
              "      <td>193825</td>\n",
              "      <td>18390</td>\n",
              "      <td>212215</td>\n",
              "    </tr>\n",
              "    <tr>\n",
              "      <th>1</th>\n",
              "      <td>94630</td>\n",
              "      <td>22851</td>\n",
              "      <td>117481</td>\n",
              "    </tr>\n",
              "    <tr>\n",
              "      <th>2</th>\n",
              "      <td>37179</td>\n",
              "      <td>3914</td>\n",
              "      <td>41093</td>\n",
              "    </tr>\n",
              "    <tr>\n",
              "      <th>All</th>\n",
              "      <td>325634</td>\n",
              "      <td>45155</td>\n",
              "      <td>370789</td>\n",
              "    </tr>\n",
              "  </tbody>\n",
              "</table>\n",
              "</div>\n",
              "      <button class=\"colab-df-convert\" onclick=\"convertToInteractive('df-0fdeccdc-e307-4872-af82-cda0b1fc6f69')\"\n",
              "              title=\"Convert this dataframe to an interactive table.\"\n",
              "              style=\"display:none;\">\n",
              "        \n",
              "  <svg xmlns=\"http://www.w3.org/2000/svg\" height=\"24px\"viewBox=\"0 0 24 24\"\n",
              "       width=\"24px\">\n",
              "    <path d=\"M0 0h24v24H0V0z\" fill=\"none\"/>\n",
              "    <path d=\"M18.56 5.44l.94 2.06.94-2.06 2.06-.94-2.06-.94-.94-2.06-.94 2.06-2.06.94zm-11 1L8.5 8.5l.94-2.06 2.06-.94-2.06-.94L8.5 2.5l-.94 2.06-2.06.94zm10 10l.94 2.06.94-2.06 2.06-.94-2.06-.94-.94-2.06-.94 2.06-2.06.94z\"/><path d=\"M17.41 7.96l-1.37-1.37c-.4-.4-.92-.59-1.43-.59-.52 0-1.04.2-1.43.59L10.3 9.45l-7.72 7.72c-.78.78-.78 2.05 0 2.83L4 21.41c.39.39.9.59 1.41.59.51 0 1.02-.2 1.41-.59l7.78-7.78 2.81-2.81c.8-.78.8-2.07 0-2.86zM5.41 20L4 18.59l7.72-7.72 1.47 1.35L5.41 20z\"/>\n",
              "  </svg>\n",
              "      </button>\n",
              "      \n",
              "  <style>\n",
              "    .colab-df-container {\n",
              "      display:flex;\n",
              "      flex-wrap:wrap;\n",
              "      gap: 12px;\n",
              "    }\n",
              "\n",
              "    .colab-df-convert {\n",
              "      background-color: #E8F0FE;\n",
              "      border: none;\n",
              "      border-radius: 50%;\n",
              "      cursor: pointer;\n",
              "      display: none;\n",
              "      fill: #1967D2;\n",
              "      height: 32px;\n",
              "      padding: 0 0 0 0;\n",
              "      width: 32px;\n",
              "    }\n",
              "\n",
              "    .colab-df-convert:hover {\n",
              "      background-color: #E2EBFA;\n",
              "      box-shadow: 0px 1px 2px rgba(60, 64, 67, 0.3), 0px 1px 3px 1px rgba(60, 64, 67, 0.15);\n",
              "      fill: #174EA6;\n",
              "    }\n",
              "\n",
              "    [theme=dark] .colab-df-convert {\n",
              "      background-color: #3B4455;\n",
              "      fill: #D2E3FC;\n",
              "    }\n",
              "\n",
              "    [theme=dark] .colab-df-convert:hover {\n",
              "      background-color: #434B5C;\n",
              "      box-shadow: 0px 1px 3px 1px rgba(0, 0, 0, 0.15);\n",
              "      filter: drop-shadow(0px 1px 2px rgba(0, 0, 0, 0.3));\n",
              "      fill: #FFFFFF;\n",
              "    }\n",
              "  </style>\n",
              "\n",
              "      <script>\n",
              "        const buttonEl =\n",
              "          document.querySelector('#df-0fdeccdc-e307-4872-af82-cda0b1fc6f69 button.colab-df-convert');\n",
              "        buttonEl.style.display =\n",
              "          google.colab.kernel.accessAllowed ? 'block' : 'none';\n",
              "\n",
              "        async function convertToInteractive(key) {\n",
              "          const element = document.querySelector('#df-0fdeccdc-e307-4872-af82-cda0b1fc6f69');\n",
              "          const dataTable =\n",
              "            await google.colab.kernel.invokeFunction('convertToInteractive',\n",
              "                                                     [key], {});\n",
              "          if (!dataTable) return;\n",
              "\n",
              "          const docLinkHtml = 'Like what you see? Visit the ' +\n",
              "            '<a target=\"_blank\" href=https://colab.research.google.com/notebooks/data_table.ipynb>data table notebook</a>'\n",
              "            + ' to learn more about interactive tables.';\n",
              "          element.innerHTML = '';\n",
              "          dataTable['output_type'] = 'display_data';\n",
              "          await google.colab.output.renderOutput(dataTable, element);\n",
              "          const docLink = document.createElement('div');\n",
              "          docLink.innerHTML = docLinkHtml;\n",
              "          element.appendChild(docLink);\n",
              "        }\n",
              "      </script>\n",
              "    </div>\n",
              "  </div>\n",
              "  "
            ]
          },
          "metadata": {},
          "execution_count": 47
        }
      ]
    },
    {
      "cell_type": "markdown",
      "source": [
        "From here we note that most of the peoples are from 20-40 age group, also the people from age group 2 that is 40-60 are the peoples having the highest number of positive responses, so this means that if a person belongs to this age category than he will more prefer the vehical insurance, so this classification of age is working good for us, so we will keep column age_section and drop age column"
      ],
      "metadata": {
        "id": "s2gYHKVaVIyl"
      }
    },
    {
      "cell_type": "code",
      "source": [
        "percentage_response(insurance,\"Age_Section\",\"Response\")"
      ],
      "metadata": {
        "colab": {
          "base_uri": "https://localhost:8080/",
          "height": 175
        },
        "id": "nitJQiUrTUzS",
        "outputId": "a1013937-888a-46fa-f807-8958ee42518c"
      },
      "execution_count": null,
      "outputs": [
        {
          "output_type": "execute_result",
          "data": {
            "text/plain": [
              "Response         0      1\n",
              "Age_Section              \n",
              "1            80.55  19.45\n",
              "2            90.48   9.52\n",
              "0            91.33   8.67"
            ],
            "text/html": [
              "\n",
              "  <div id=\"df-4f7f11d3-07c1-4c26-87cf-be9ca4ced2d8\">\n",
              "    <div class=\"colab-df-container\">\n",
              "      <div>\n",
              "<style scoped>\n",
              "    .dataframe tbody tr th:only-of-type {\n",
              "        vertical-align: middle;\n",
              "    }\n",
              "\n",
              "    .dataframe tbody tr th {\n",
              "        vertical-align: top;\n",
              "    }\n",
              "\n",
              "    .dataframe thead th {\n",
              "        text-align: right;\n",
              "    }\n",
              "</style>\n",
              "<table border=\"1\" class=\"dataframe\">\n",
              "  <thead>\n",
              "    <tr style=\"text-align: right;\">\n",
              "      <th>Response</th>\n",
              "      <th>0</th>\n",
              "      <th>1</th>\n",
              "    </tr>\n",
              "    <tr>\n",
              "      <th>Age_Section</th>\n",
              "      <th></th>\n",
              "      <th></th>\n",
              "    </tr>\n",
              "  </thead>\n",
              "  <tbody>\n",
              "    <tr>\n",
              "      <th>1</th>\n",
              "      <td>80.55</td>\n",
              "      <td>19.45</td>\n",
              "    </tr>\n",
              "    <tr>\n",
              "      <th>2</th>\n",
              "      <td>90.48</td>\n",
              "      <td>9.52</td>\n",
              "    </tr>\n",
              "    <tr>\n",
              "      <th>0</th>\n",
              "      <td>91.33</td>\n",
              "      <td>8.67</td>\n",
              "    </tr>\n",
              "  </tbody>\n",
              "</table>\n",
              "</div>\n",
              "      <button class=\"colab-df-convert\" onclick=\"convertToInteractive('df-4f7f11d3-07c1-4c26-87cf-be9ca4ced2d8')\"\n",
              "              title=\"Convert this dataframe to an interactive table.\"\n",
              "              style=\"display:none;\">\n",
              "        \n",
              "  <svg xmlns=\"http://www.w3.org/2000/svg\" height=\"24px\"viewBox=\"0 0 24 24\"\n",
              "       width=\"24px\">\n",
              "    <path d=\"M0 0h24v24H0V0z\" fill=\"none\"/>\n",
              "    <path d=\"M18.56 5.44l.94 2.06.94-2.06 2.06-.94-2.06-.94-.94-2.06-.94 2.06-2.06.94zm-11 1L8.5 8.5l.94-2.06 2.06-.94-2.06-.94L8.5 2.5l-.94 2.06-2.06.94zm10 10l.94 2.06.94-2.06 2.06-.94-2.06-.94-.94-2.06-.94 2.06-2.06.94z\"/><path d=\"M17.41 7.96l-1.37-1.37c-.4-.4-.92-.59-1.43-.59-.52 0-1.04.2-1.43.59L10.3 9.45l-7.72 7.72c-.78.78-.78 2.05 0 2.83L4 21.41c.39.39.9.59 1.41.59.51 0 1.02-.2 1.41-.59l7.78-7.78 2.81-2.81c.8-.78.8-2.07 0-2.86zM5.41 20L4 18.59l7.72-7.72 1.47 1.35L5.41 20z\"/>\n",
              "  </svg>\n",
              "      </button>\n",
              "      \n",
              "  <style>\n",
              "    .colab-df-container {\n",
              "      display:flex;\n",
              "      flex-wrap:wrap;\n",
              "      gap: 12px;\n",
              "    }\n",
              "\n",
              "    .colab-df-convert {\n",
              "      background-color: #E8F0FE;\n",
              "      border: none;\n",
              "      border-radius: 50%;\n",
              "      cursor: pointer;\n",
              "      display: none;\n",
              "      fill: #1967D2;\n",
              "      height: 32px;\n",
              "      padding: 0 0 0 0;\n",
              "      width: 32px;\n",
              "    }\n",
              "\n",
              "    .colab-df-convert:hover {\n",
              "      background-color: #E2EBFA;\n",
              "      box-shadow: 0px 1px 2px rgba(60, 64, 67, 0.3), 0px 1px 3px 1px rgba(60, 64, 67, 0.15);\n",
              "      fill: #174EA6;\n",
              "    }\n",
              "\n",
              "    [theme=dark] .colab-df-convert {\n",
              "      background-color: #3B4455;\n",
              "      fill: #D2E3FC;\n",
              "    }\n",
              "\n",
              "    [theme=dark] .colab-df-convert:hover {\n",
              "      background-color: #434B5C;\n",
              "      box-shadow: 0px 1px 3px 1px rgba(0, 0, 0, 0.15);\n",
              "      filter: drop-shadow(0px 1px 2px rgba(0, 0, 0, 0.3));\n",
              "      fill: #FFFFFF;\n",
              "    }\n",
              "  </style>\n",
              "\n",
              "      <script>\n",
              "        const buttonEl =\n",
              "          document.querySelector('#df-4f7f11d3-07c1-4c26-87cf-be9ca4ced2d8 button.colab-df-convert');\n",
              "        buttonEl.style.display =\n",
              "          google.colab.kernel.accessAllowed ? 'block' : 'none';\n",
              "\n",
              "        async function convertToInteractive(key) {\n",
              "          const element = document.querySelector('#df-4f7f11d3-07c1-4c26-87cf-be9ca4ced2d8');\n",
              "          const dataTable =\n",
              "            await google.colab.kernel.invokeFunction('convertToInteractive',\n",
              "                                                     [key], {});\n",
              "          if (!dataTable) return;\n",
              "\n",
              "          const docLinkHtml = 'Like what you see? Visit the ' +\n",
              "            '<a target=\"_blank\" href=https://colab.research.google.com/notebooks/data_table.ipynb>data table notebook</a>'\n",
              "            + ' to learn more about interactive tables.';\n",
              "          element.innerHTML = '';\n",
              "          dataTable['output_type'] = 'display_data';\n",
              "          await google.colab.output.renderOutput(dataTable, element);\n",
              "          const docLink = document.createElement('div');\n",
              "          docLink.innerHTML = docLinkHtml;\n",
              "          element.appendChild(docLink);\n",
              "        }\n",
              "      </script>\n",
              "    </div>\n",
              "  </div>\n",
              "  "
            ]
          },
          "metadata": {},
          "execution_count": 48
        }
      ]
    },
    {
      "cell_type": "code",
      "source": [
        "column_drop.append(\"Age\")\n",
        "continuous_features.remove(\"Age\")\n",
        "categorical_features.append(\"Age_Section\")"
      ],
      "metadata": {
        "id": "0Q3TjoiELiE6"
      },
      "execution_count": null,
      "outputs": []
    },
    {
      "cell_type": "markdown",
      "source": [
        "###Target Column\n",
        "If we found that the target column is biased we have to perform add some rows with the minority class as 1"
      ],
      "metadata": {
        "id": "AFKpe0WJwzxG"
      }
    },
    {
      "cell_type": "code",
      "source": [
        "insurance[\"Response\"].value_counts()         #our target column is biased"
      ],
      "metadata": {
        "colab": {
          "base_uri": "https://localhost:8080/"
        },
        "id": "r4HfDcCjwyXz",
        "outputId": "ec7fab46-503c-41d9-f1fa-50c313e17dfa"
      },
      "execution_count": null,
      "outputs": [
        {
          "output_type": "execute_result",
          "data": {
            "text/plain": [
              "0    325634\n",
              "1     45155\n",
              "Name: Response, dtype: int64"
            ]
          },
          "metadata": {},
          "execution_count": 50
        }
      ]
    },
    {
      "cell_type": "code",
      "source": [
        "45155/(325634+45155)    #we have only 12% entries for positive response, so our model will not be able to get trends"
      ],
      "metadata": {
        "colab": {
          "base_uri": "https://localhost:8080/"
        },
        "id": "KYC2E32QxUT8",
        "outputId": "e1b72c34-5fd8-44e4-9fd9-065a7ffbba0c"
      },
      "execution_count": null,
      "outputs": [
        {
          "output_type": "execute_result",
          "data": {
            "text/plain": [
              "0.12178085110399715"
            ]
          },
          "metadata": {},
          "execution_count": 51
        }
      ]
    },
    {
      "cell_type": "markdown",
      "source": [
        "####Over sampling using smote of target column"
      ],
      "metadata": {
        "id": "khO_e_Hlykar"
      }
    },
    {
      "cell_type": "code",
      "source": [
        "insurance[\"Response\"].value_counts()   \n",
        "#here the ratio is very less if i take number of positive response to be 250000 that this ratio will be improved"
      ],
      "metadata": {
        "colab": {
          "base_uri": "https://localhost:8080/"
        },
        "id": "W0ulVlg6zlFP",
        "outputId": "788cd0f4-9a7b-4467-c0cf-66bb29e81153"
      },
      "execution_count": null,
      "outputs": [
        {
          "output_type": "execute_result",
          "data": {
            "text/plain": [
              "0    325634\n",
              "1     45155\n",
              "Name: Response, dtype: int64"
            ]
          },
          "metadata": {},
          "execution_count": 52
        }
      ]
    },
    {
      "cell_type": "code",
      "source": [
        "30000/(30000+325634)  # this ratio is not bad."
      ],
      "metadata": {
        "colab": {
          "base_uri": "https://localhost:8080/"
        },
        "id": "PIapegKNz6Nd",
        "outputId": "9946c218-05c6-4099-c766-3ecda5d82b67"
      },
      "execution_count": null,
      "outputs": [
        {
          "output_type": "execute_result",
          "data": {
            "text/plain": [
              "0.08435638887170518"
            ]
          },
          "metadata": {},
          "execution_count": 53
        }
      ]
    },
    {
      "cell_type": "code",
      "source": [
        "from imblearn.over_sampling import BorderlineSMOTE\n",
        "from imblearn.over_sampling import SMOTE\n",
        "smote=BorderlineSMOTE(sampling_strategy={0:325634,1:300000})\n",
        "x=insurance.loc[:, insurance.columns != 'Response']\n",
        "y=insurance[\"Response\"]\n",
        "x_smote, y_smote = smote.fit_resample(x, y)"
      ],
      "metadata": {
        "id": "gsaEI6_Hysxj"
      },
      "execution_count": null,
      "outputs": []
    },
    {
      "cell_type": "code",
      "source": [
        "insurance.drop(list(insurance.columns),axis=1,inplace=True)"
      ],
      "metadata": {
        "id": "jt-FqGYg2e2i"
      },
      "execution_count": null,
      "outputs": []
    },
    {
      "cell_type": "code",
      "source": [
        "insurance=x_smote\n",
        "insurance[\"Response\"]=y_smote"
      ],
      "metadata": {
        "id": "pgNdtpFqysvL"
      },
      "execution_count": null,
      "outputs": []
    },
    {
      "cell_type": "code",
      "source": [
        "insurance.shape"
      ],
      "metadata": {
        "id": "bIzNl6aM0nFQ",
        "colab": {
          "base_uri": "https://localhost:8080/"
        },
        "outputId": "8086546f-ff64-4a9d-be58-923c4acd862a"
      },
      "execution_count": null,
      "outputs": [
        {
          "output_type": "execute_result",
          "data": {
            "text/plain": [
              "(625634, 15)"
            ]
          },
          "metadata": {},
          "execution_count": 57
        }
      ]
    },
    {
      "cell_type": "code",
      "source": [
        "insurance[\"Response\"].value_counts()"
      ],
      "metadata": {
        "id": "gxNTvkDU0qSe",
        "colab": {
          "base_uri": "https://localhost:8080/"
        },
        "outputId": "eb4bc977-ca4e-4527-f148-89d00fc4697b"
      },
      "execution_count": null,
      "outputs": [
        {
          "output_type": "execute_result",
          "data": {
            "text/plain": [
              "0    325634\n",
              "1    300000\n",
              "Name: Response, dtype: int64"
            ]
          },
          "metadata": {},
          "execution_count": 58
        }
      ]
    },
    {
      "cell_type": "markdown",
      "source": [
        "###Final Information:\n"
      ],
      "metadata": {
        "id": "kOKYIr-6yLFt"
      }
    },
    {
      "cell_type": "code",
      "source": [
        "column_drop  #columns we are droping"
      ],
      "metadata": {
        "colab": {
          "base_uri": "https://localhost:8080/"
        },
        "id": "2FlAIWFqMKDk",
        "outputId": "76de7afb-69f3-4f5d-818e-cf8de7864efc"
      },
      "execution_count": null,
      "outputs": [
        {
          "output_type": "execute_result",
          "data": {
            "text/plain": [
              "['id', 'Region_Code', 'Policy_Sales_Channel', 'Vintage', 'Age']"
            ]
          },
          "metadata": {},
          "execution_count": 59
        }
      ]
    },
    {
      "cell_type": "code",
      "source": [
        "insurance.columns"
      ],
      "metadata": {
        "colab": {
          "base_uri": "https://localhost:8080/"
        },
        "id": "JyEoBGyyWbBY",
        "outputId": "ff020a39-8921-4d0d-e0d8-e6d1d791dc05"
      },
      "execution_count": null,
      "outputs": [
        {
          "output_type": "execute_result",
          "data": {
            "text/plain": [
              "Index(['id', 'Gender', 'Age', 'Driving_License', 'Region_Code',\n",
              "       'Previously_Insured', 'Vehicle_Age', 'Vehicle_Damage', 'Annual_Premium',\n",
              "       'Policy_Sales_Channel', 'Vintage', 'Region_Response',\n",
              "       'Channel_Response', 'Age_Section', 'Response'],\n",
              "      dtype='object')"
            ]
          },
          "metadata": {},
          "execution_count": 60
        }
      ]
    },
    {
      "cell_type": "code",
      "source": [
        "insurance.shape"
      ],
      "metadata": {
        "colab": {
          "base_uri": "https://localhost:8080/"
        },
        "id": "Tek7nts1L9-K",
        "outputId": "40f7116e-d3d0-41ae-cdec-ebf13c8a878e"
      },
      "execution_count": null,
      "outputs": [
        {
          "output_type": "execute_result",
          "data": {
            "text/plain": [
              "(625634, 15)"
            ]
          },
          "metadata": {},
          "execution_count": 61
        }
      ]
    },
    {
      "cell_type": "code",
      "source": [
        "insurance.drop(column_drop,axis=1,inplace=True)"
      ],
      "metadata": {
        "id": "lw4q9QNnyQVr"
      },
      "execution_count": null,
      "outputs": []
    },
    {
      "cell_type": "code",
      "source": [
        "insurance.columns"
      ],
      "metadata": {
        "colab": {
          "base_uri": "https://localhost:8080/"
        },
        "id": "yt3i91Z-WZJJ",
        "outputId": "fdea7c25-5bd3-41b2-cce0-3bc1ee433322"
      },
      "execution_count": null,
      "outputs": [
        {
          "output_type": "execute_result",
          "data": {
            "text/plain": [
              "Index(['Gender', 'Driving_License', 'Previously_Insured', 'Vehicle_Age',\n",
              "       'Vehicle_Damage', 'Annual_Premium', 'Region_Response',\n",
              "       'Channel_Response', 'Age_Section', 'Response'],\n",
              "      dtype='object')"
            ]
          },
          "metadata": {},
          "execution_count": 63
        }
      ]
    },
    {
      "cell_type": "code",
      "source": [
        "insurance.shape"
      ],
      "metadata": {
        "colab": {
          "base_uri": "https://localhost:8080/"
        },
        "id": "HgVXrwLoMFGQ",
        "outputId": "f7ecbab2-ac5f-4f86-aed4-41d8c39b67f1"
      },
      "execution_count": null,
      "outputs": [
        {
          "output_type": "execute_result",
          "data": {
            "text/plain": [
              "(625634, 10)"
            ]
          },
          "metadata": {},
          "execution_count": 64
        }
      ]
    },
    {
      "cell_type": "code",
      "source": [
        "categorical_features"
      ],
      "metadata": {
        "id": "vQaHeSBryZ2z",
        "colab": {
          "base_uri": "https://localhost:8080/"
        },
        "outputId": "34fa6414-e027-494e-8965-0fe736906f6f"
      },
      "execution_count": null,
      "outputs": [
        {
          "output_type": "execute_result",
          "data": {
            "text/plain": [
              "['Gender',\n",
              " 'Driving_License',\n",
              " 'Previously_Insured',\n",
              " 'Vehicle_Age',\n",
              " 'Vehicle_Damage',\n",
              " 'Response',\n",
              " 'Age_Section']"
            ]
          },
          "metadata": {},
          "execution_count": 65
        }
      ]
    },
    {
      "cell_type": "code",
      "source": [
        "continuous_features"
      ],
      "metadata": {
        "id": "4A5JCrheyZ04",
        "colab": {
          "base_uri": "https://localhost:8080/"
        },
        "outputId": "4861ce6b-4080-4ac2-909d-f752d297adab"
      },
      "execution_count": null,
      "outputs": [
        {
          "output_type": "execute_result",
          "data": {
            "text/plain": [
              "['Annual_Premium', 'Region_Response', 'Channel_Response']"
            ]
          },
          "metadata": {},
          "execution_count": 66
        }
      ]
    },
    {
      "cell_type": "markdown",
      "source": [
        "##EDA: Exploratory Data Analysis\n",
        "\n",
        "Let's now do some exploratory analysis on our to draw some conclusion, important for real world and for our model as well."
      ],
      "metadata": {
        "id": "8U9ZvSMWvd7Q"
      }
    },
    {
      "cell_type": "markdown",
      "source": [
        "###Univariate Analysis\n",
        "here we will analyse the distribution of continuous columns,\n",
        "and visualize the distribution of our categorrical columns through pie chart"
      ],
      "metadata": {
        "id": "4UmyWg5vYevV"
      }
    },
    {
      "cell_type": "code",
      "source": [
        "insurance[continuous_features].hist(figsize=(12,8), rwidth=0.95)\n"
      ],
      "metadata": {
        "id": "RjJ4fCHbvj08",
        "colab": {
          "base_uri": "https://localhost:8080/",
          "height": 591
        },
        "outputId": "2a2e2337-aa4e-419a-ad4d-7239abc8a18e"
      },
      "execution_count": null,
      "outputs": [
        {
          "output_type": "execute_result",
          "data": {
            "text/plain": [
              "array([[<matplotlib.axes._subplots.AxesSubplot object at 0x7f158a39b110>,\n",
              "        <matplotlib.axes._subplots.AxesSubplot object at 0x7f158a332e50>],\n",
              "       [<matplotlib.axes._subplots.AxesSubplot object at 0x7f158a36f490>,\n",
              "        <matplotlib.axes._subplots.AxesSubplot object at 0x7f158a323a90>]],\n",
              "      dtype=object)"
            ]
          },
          "metadata": {},
          "execution_count": 67
        },
        {
          "output_type": "display_data",
          "data": {
            "text/plain": [
              "<Figure size 864x576 with 4 Axes>"
            ],
            "image/png": "[encoded data removed]"
          },
          "metadata": {
            "needs_background": "light"
          }
        }
      ]
    },
    {
      "cell_type": "markdown",
      "source": [
        "- From above we note that there are very less number of companies that have very high annual premium\n",
        "- In channel response either the percentage of response is mainly between 0-5 or between 15-20\n",
        "\n",
        "so we can categorize this column as\n",
        "\n",
        "0- percentage of response between 0-15\n",
        "\n",
        "1- percentage of respense above 15\n",
        "\n",
        "but first we will try fitting our data on this only, and if we do not get good result than we will perform this transformation"
      ],
      "metadata": {
        "id": "je4Sjmw0f7rq"
      }
    },
    {
      "cell_type": "code",
      "source": [
        "#for  categorical columns using pie plot\n",
        "def make_pieplot(data,y_axis,title = None):\n",
        "  '''\n",
        "  input\n",
        "  data: Pandas series for pie plotting\n",
        "  y_axis: column of pandas dataframe\n",
        "  title: String value for plot title\n",
        "\n",
        "  output \n",
        "  Display a pie chart  \n",
        "  '''\n",
        "  explode_list = data.value_counts().tolist()\n",
        "  explode_ = [0 if elem != max(explode_list) else 0.01 for elem in explode_list]\n",
        "  dict_data=data.value_counts()\n",
        "  dict_data.plot(kind = 'pie', y = y_axis, autopct='%1.2f%%', figsize =(15,10),explode = explode_, fontsize = 10,legend=True,rot=45)\n",
        "  #plt.legend(title ='market_segment',loc ='lower right')\n",
        "  plt.title(title,bbox={'facecolor':'0.8', 'pad':5}, fontsize = 20)\n",
        "  plt.show()"
      ],
      "metadata": {
        "id": "5BwJNANgvjxB"
      },
      "execution_count": null,
      "outputs": []
    },
    {
      "cell_type": "code",
      "source": [
        "for c in categorical_features:\n",
        "  make_pieplot(insurance[c],c,f\"{c} ratio\")"
      ],
      "metadata": {
        "id": "WG6M3op3vju8",
        "colab": {
          "base_uri": "https://localhost:8080/",
          "height": 1000
        },
        "outputId": "372a8cd9-a4a4-4b89-ac33-f8ada86f9d7c"
      },
      "execution_count": null,
      "outputs": [
        {
          "output_type": "display_data",
          "data": {
            "text/plain": [
              "<Figure size 1080x720 with 1 Axes>"
            ],
            "image/png": "[encoded data removed]"
          },
          "metadata": {}
        },
        {
          "output_type": "display_data",
          "data": {
            "text/plain": [
              "<Figure size 1080x720 with 1 Axes>"
            ],
            "image/png": "[encoded data removed]"
          },
          "metadata": {}
        },
        {
          "output_type": "display_data",
          "data": {
            "text/plain": [
              "<Figure size 1080x720 with 1 Axes>"
            ],
            "image/png": "[encoded data removed]"
          },
          "metadata": {}
        },
        {
          "output_type": "display_data",
          "data": {
            "text/plain": [
              "<Figure size 1080x720 with 1 Axes>"
            ],
            "image/png": "[encoded data removed]"
          },
          "metadata": {}
        },
        {
          "output_type": "display_data",
          "data": {
            "text/plain": [
              "<Figure size 1080x720 with 1 Axes>"
            ],
            "image/png": "[encoded data removed]"
          },
          "metadata": {}
        },
        {
          "output_type": "display_data",
          "data": {
            "text/plain": [
              "<Figure size 1080x720 with 1 Axes>"
            ],
            "image/png": "[encoded data removed]"
          },
          "metadata": {}
        },
        {
          "output_type": "display_data",
          "data": {
            "text/plain": [
              "<Figure size 1080x720 with 1 Axes>"
            ],
            "image/png": "[encoded data removed]"
          },
          "metadata": {}
        }
      ]
    },
    {
      "cell_type": "markdown",
      "source": [
        "here we note that:\n",
        "- there are very less number of peoples not having driving liscence\n",
        "- there are only 26.17% of people who have insured previously\n",
        "- there are comaparitively lesser number of peoples belonging to age group 60-80"
      ],
      "metadata": {
        "id": "VXYl7RPivSl_"
      }
    },
    {
      "cell_type": "markdown",
      "source": [
        "###Bivariate Analysis"
      ],
      "metadata": {
        "id": "C0lVUZJY5tI_"
      }
    },
    {
      "cell_type": "markdown",
      "source": [
        "####Finding relation between our target feature and categorical features using cross tab"
      ],
      "metadata": {
        "id": "_8or_OXe6P7D"
      }
    },
    {
      "cell_type": "code",
      "source": [
        "categorical_features"
      ],
      "metadata": {
        "id": "fxcjjsqXvjrk",
        "colab": {
          "base_uri": "https://localhost:8080/"
        },
        "outputId": "8920c42b-82b1-4f6c-c43c-c3a4ab1e790c"
      },
      "execution_count": null,
      "outputs": [
        {
          "output_type": "execute_result",
          "data": {
            "text/plain": [
              "['Gender',\n",
              " 'Driving_License',\n",
              " 'Previously_Insured',\n",
              " 'Vehicle_Age',\n",
              " 'Vehicle_Damage',\n",
              " 'Response',\n",
              " 'Age_Section']"
            ]
          },
          "metadata": {},
          "execution_count": 70
        }
      ]
    },
    {
      "cell_type": "code",
      "source": [
        "def category_comparision(data,indep,dep):\n",
        "  var_response = pd.crosstab(insurance[indep],insurance[dep])\n",
        "  var_response.plot(kind = 'bar',y = list(var_response.columns),figsize = (8,5))\n",
        "  plt.show()"
      ],
      "metadata": {
        "id": "s_zTCZDt8a4I"
      },
      "execution_count": null,
      "outputs": []
    },
    {
      "cell_type": "code",
      "source": [
        "independent_categorical_features=[c for c in categorical_features if c not in [\"Response\"] ]\n",
        "\n",
        "for c in independent_categorical_features:\n",
        "  category_comparision(insurance,c,\"Response\")"
      ],
      "metadata": {
        "id": "iZIbv8Ujvjpo",
        "colab": {
          "base_uri": "https://localhost:8080/",
          "height": 1000
        },
        "outputId": "743fb91f-d753-4d7a-fd71-f00606d11f6b"
      },
      "execution_count": null,
      "outputs": [
        {
          "output_type": "display_data",
          "data": {
            "text/plain": [
              "<Figure size 576x360 with 1 Axes>"
            ],
            "image/png": "[encoded data removed]"
          },
          "metadata": {
            "needs_background": "light"
          }
        },
        {
          "output_type": "display_data",
          "data": {
            "text/plain": [
              "<Figure size 576x360 with 1 Axes>"
            ],
            "image/png": "[encoded data removed]"
          },
          "metadata": {
            "needs_background": "light"
          }
        },
        {
          "output_type": "display_data",
          "data": {
            "text/plain": [
              "<Figure size 576x360 with 1 Axes>"
            ],
            "image/png": "[encoded data removed]"
          },
          "metadata": {
            "needs_background": "light"
          }
        },
        {
          "output_type": "display_data",
          "data": {
            "text/plain": [
              "<Figure size 576x360 with 1 Axes>"
            ],
            "image/png": "[encoded data removed]"
          },
          "metadata": {
            "needs_background": "light"
          }
        },
        {
          "output_type": "display_data",
          "data": {
            "text/plain": [
              "<Figure size 576x360 with 1 Axes>"
            ],
            "image/png": "[encoded data removed]"
          },
          "metadata": {
            "needs_background": "light"
          }
        },
        {
          "output_type": "display_data",
          "data": {
            "text/plain": [
              "<Figure size 576x360 with 1 Axes>"
            ],
            "image/png": "[encoded data removed]"
          },
          "metadata": {
            "needs_background": "light"
          }
        }
      ]
    },
    {
      "cell_type": "code",
      "source": [
        "#now distrribution of continuous features and how they affect the dependent column\n",
        "continuous_features"
      ],
      "metadata": {
        "id": "wfDPaB1Du8-F",
        "colab": {
          "base_uri": "https://localhost:8080/"
        },
        "outputId": "cfffe4bf-e85d-41dd-ff40-7261f92393f5"
      },
      "execution_count": null,
      "outputs": [
        {
          "output_type": "execute_result",
          "data": {
            "text/plain": [
              "['Annual_Premium', 'Region_Response', 'Channel_Response']"
            ]
          },
          "metadata": {},
          "execution_count": 73
        }
      ]
    },
    {
      "cell_type": "code",
      "source": [
        "insurance.shape"
      ],
      "metadata": {
        "colab": {
          "base_uri": "https://localhost:8080/"
        },
        "id": "jSRE0TyCGCCy",
        "outputId": "d5c24439-49a8-4a99-f0ed-adc6a064e395"
      },
      "execution_count": null,
      "outputs": [
        {
          "output_type": "execute_result",
          "data": {
            "text/plain": [
              "(625634, 10)"
            ]
          },
          "metadata": {},
          "execution_count": 76
        }
      ]
    },
    {
      "cell_type": "code",
      "source": [
        "insurance[\"Annual_Premium\"].value_counts()"
      ],
      "metadata": {
        "colab": {
          "base_uri": "https://localhost:8080/"
        },
        "id": "4H8g4P5HGEz6",
        "outputId": "503fb01f-30ec-4016-e36e-d439921ce538"
      },
      "execution_count": null,
      "outputs": [
        {
          "output_type": "execute_result",
          "data": {
            "text/plain": [
              "2630.000000     114528\n",
              "39008.000000        41\n",
              "45179.000000        38\n",
              "38287.000000        38\n",
              "43707.000000        36\n",
              "                 ...  \n",
              "25646.046817         1\n",
              "42754.924183         1\n",
              "27741.341797         1\n",
              "35361.648136         1\n",
              "40960.840309         1\n",
              "Name: Annual_Premium, Length: 246675, dtype: int64"
            ]
          },
          "metadata": {},
          "execution_count": 74
        }
      ]
    },
    {
      "cell_type": "code",
      "source": [
        "premium_response=(pd.crosstab(insurance[\"Annual_Premium\"],insurance[\"Response\"])).sort_values(by=1,ascending=False)#.plot(kind=\"line\",rot=45)\n",
        "premium_response"
      ],
      "metadata": {
        "colab": {
          "base_uri": "https://localhost:8080/",
          "height": 455
        },
        "id": "Y7TmF4e75Yeo",
        "outputId": "541eb1f3-cbf3-4429-b69b-7181d41cdae8"
      },
      "execution_count": null,
      "outputs": [
        {
          "output_type": "execute_result",
          "data": {
            "text/plain": [
              "Response            0      1\n",
              "Annual_Premium              \n",
              "2630.0          56372  58156\n",
              "40088.0            18     13\n",
              "40547.0             7     12\n",
              "51234.0             5     11\n",
              "45179.0            27     11\n",
              "...               ...    ...\n",
              "37496.0             6      0\n",
              "50998.0             1      0\n",
              "34446.0            14      0\n",
              "50997.0             4      0\n",
              "61892.0             2      0\n",
              "\n",
              "[246675 rows x 2 columns]"
            ],
            "text/html": [
              "\n",
              "  <div id=\"df-efe0019e-1155-46c5-b5f6-1e01d118dff4\">\n",
              "    <div class=\"colab-df-container\">\n",
              "      <div>\n",
              "<style scoped>\n",
              "    .dataframe tbody tr th:only-of-type {\n",
              "        vertical-align: middle;\n",
              "    }\n",
              "\n",
              "    .dataframe tbody tr th {\n",
              "        vertical-align: top;\n",
              "    }\n",
              "\n",
              "    .dataframe thead th {\n",
              "        text-align: right;\n",
              "    }\n",
              "</style>\n",
              "<table border=\"1\" class=\"dataframe\">\n",
              "  <thead>\n",
              "    <tr style=\"text-align: right;\">\n",
              "      <th>Response</th>\n",
              "      <th>0</th>\n",
              "      <th>1</th>\n",
              "    </tr>\n",
              "    <tr>\n",
              "      <th>Annual_Premium</th>\n",
              "      <th></th>\n",
              "      <th></th>\n",
              "    </tr>\n",
              "  </thead>\n",
              "  <tbody>\n",
              "    <tr>\n",
              "      <th>2630.0</th>\n",
              "      <td>56372</td>\n",
              "      <td>58156</td>\n",
              "    </tr>\n",
              "    <tr>\n",
              "      <th>40088.0</th>\n",
              "      <td>18</td>\n",
              "      <td>13</td>\n",
              "    </tr>\n",
              "    <tr>\n",
              "      <th>40547.0</th>\n",
              "      <td>7</td>\n",
              "      <td>12</td>\n",
              "    </tr>\n",
              "    <tr>\n",
              "      <th>51234.0</th>\n",
              "      <td>5</td>\n",
              "      <td>11</td>\n",
              "    </tr>\n",
              "    <tr>\n",
              "      <th>45179.0</th>\n",
              "      <td>27</td>\n",
              "      <td>11</td>\n",
              "    </tr>\n",
              "    <tr>\n",
              "      <th>...</th>\n",
              "      <td>...</td>\n",
              "      <td>...</td>\n",
              "    </tr>\n",
              "    <tr>\n",
              "      <th>37496.0</th>\n",
              "      <td>6</td>\n",
              "      <td>0</td>\n",
              "    </tr>\n",
              "    <tr>\n",
              "      <th>50998.0</th>\n",
              "      <td>1</td>\n",
              "      <td>0</td>\n",
              "    </tr>\n",
              "    <tr>\n",
              "      <th>34446.0</th>\n",
              "      <td>14</td>\n",
              "      <td>0</td>\n",
              "    </tr>\n",
              "    <tr>\n",
              "      <th>50997.0</th>\n",
              "      <td>4</td>\n",
              "      <td>0</td>\n",
              "    </tr>\n",
              "    <tr>\n",
              "      <th>61892.0</th>\n",
              "      <td>2</td>\n",
              "      <td>0</td>\n",
              "    </tr>\n",
              "  </tbody>\n",
              "</table>\n",
              "<p>246675 rows × 2 columns</p>\n",
              "</div>\n",
              "      <button class=\"colab-df-convert\" onclick=\"convertToInteractive('df-efe0019e-1155-46c5-b5f6-1e01d118dff4')\"\n",
              "              title=\"Convert this dataframe to an interactive table.\"\n",
              "              style=\"display:none;\">\n",
              "        \n",
              "  <svg xmlns=\"http://www.w3.org/2000/svg\" height=\"24px\"viewBox=\"0 0 24 24\"\n",
              "       width=\"24px\">\n",
              "    <path d=\"M0 0h24v24H0V0z\" fill=\"none\"/>\n",
              "    <path d=\"M18.56 5.44l.94 2.06.94-2.06 2.06-.94-2.06-.94-.94-2.06-.94 2.06-2.06.94zm-11 1L8.5 8.5l.94-2.06 2.06-.94-2.06-.94L8.5 2.5l-.94 2.06-2.06.94zm10 10l.94 2.06.94-2.06 2.06-.94-2.06-.94-.94-2.06-.94 2.06-2.06.94z\"/><path d=\"M17.41 7.96l-1.37-1.37c-.4-.4-.92-.59-1.43-.59-.52 0-1.04.2-1.43.59L10.3 9.45l-7.72 7.72c-.78.78-.78 2.05 0 2.83L4 21.41c.39.39.9.59 1.41.59.51 0 1.02-.2 1.41-.59l7.78-7.78 2.81-2.81c.8-.78.8-2.07 0-2.86zM5.41 20L4 18.59l7.72-7.72 1.47 1.35L5.41 20z\"/>\n",
              "  </svg>\n",
              "      </button>\n",
              "      \n",
              "  <style>\n",
              "    .colab-df-container {\n",
              "      display:flex;\n",
              "      flex-wrap:wrap;\n",
              "      gap: 12px;\n",
              "    }\n",
              "\n",
              "    .colab-df-convert {\n",
              "      background-color: #E8F0FE;\n",
              "      border: none;\n",
              "      border-radius: 50%;\n",
              "      cursor: pointer;\n",
              "      display: none;\n",
              "      fill: #1967D2;\n",
              "      height: 32px;\n",
              "      padding: 0 0 0 0;\n",
              "      width: 32px;\n",
              "    }\n",
              "\n",
              "    .colab-df-convert:hover {\n",
              "      background-color: #E2EBFA;\n",
              "      box-shadow: 0px 1px 2px rgba(60, 64, 67, 0.3), 0px 1px 3px 1px rgba(60, 64, 67, 0.15);\n",
              "      fill: #174EA6;\n",
              "    }\n",
              "\n",
              "    [theme=dark] .colab-df-convert {\n",
              "      background-color: #3B4455;\n",
              "      fill: #D2E3FC;\n",
              "    }\n",
              "\n",
              "    [theme=dark] .colab-df-convert:hover {\n",
              "      background-color: #434B5C;\n",
              "      box-shadow: 0px 1px 3px 1px rgba(0, 0, 0, 0.15);\n",
              "      filter: drop-shadow(0px 1px 2px rgba(0, 0, 0, 0.3));\n",
              "      fill: #FFFFFF;\n",
              "    }\n",
              "  </style>\n",
              "\n",
              "      <script>\n",
              "        const buttonEl =\n",
              "          document.querySelector('#df-efe0019e-1155-46c5-b5f6-1e01d118dff4 button.colab-df-convert');\n",
              "        buttonEl.style.display =\n",
              "          google.colab.kernel.accessAllowed ? 'block' : 'none';\n",
              "\n",
              "        async function convertToInteractive(key) {\n",
              "          const element = document.querySelector('#df-efe0019e-1155-46c5-b5f6-1e01d118dff4');\n",
              "          const dataTable =\n",
              "            await google.colab.kernel.invokeFunction('convertToInteractive',\n",
              "                                                     [key], {});\n",
              "          if (!dataTable) return;\n",
              "\n",
              "          const docLinkHtml = 'Like what you see? Visit the ' +\n",
              "            '<a target=\"_blank\" href=https://colab.research.google.com/notebooks/data_table.ipynb>data table notebook</a>'\n",
              "            + ' to learn more about interactive tables.';\n",
              "          element.innerHTML = '';\n",
              "          dataTable['output_type'] = 'display_data';\n",
              "          await google.colab.output.renderOutput(dataTable, element);\n",
              "          const docLink = document.createElement('div');\n",
              "          docLink.innerHTML = docLinkHtml;\n",
              "          element.appendChild(docLink);\n",
              "        }\n",
              "      </script>\n",
              "    </div>\n",
              "  </div>\n",
              "  "
            ]
          },
          "metadata": {},
          "execution_count": 75
        }
      ]
    },
    {
      "cell_type": "markdown",
      "source": [
        "##Model Building"
      ],
      "metadata": {
        "id": "iMNHZvgDdL_h"
      }
    },
    {
      "cell_type": "code",
      "source": [
        "corr_class=abs((insurance.corr())[\"Response\"]).sort_values(ascending=False)\n",
        "independent_var=(corr_class.index)[2:]\n",
        "dependent_var=[\"Response\"]"
      ],
      "metadata": {
        "id": "NY1DauWXdVLt"
      },
      "execution_count": null,
      "outputs": []
    },
    {
      "cell_type": "code",
      "source": [
        "def model_checking(original,predicted,labels=[\"possibility1\",\"possibility2\"]):\n",
        "  from sklearn.metrics import accuracy_score, confusion_matrix, roc_auc_score\n",
        "  model_accuracy=accuracy_score(predicted,original)\n",
        "  print(\"The accuracy of model is= \", model_accuracy,\"\\n\")\n",
        "  rocauc_score=roc_auc_score(original,predicted)\n",
        "  print(\"The roc_auc score of model is= \", rocauc_score,\"\\n\")\n",
        "  print(\"Confusion matrix: \\n\")\n",
        "  cm=confusion_matrix(original,predicted)\n",
        "  print(cm)\n",
        "  ax= plt.subplot()\n",
        "  sns.heatmap(cm, annot=True, ax = ax) #annot=True to annotate cells\n",
        "  # labels, title and ticks\n",
        "  ax.set_xlabel('Predicted labels')\n",
        "  ax.set_ylabel('True labels')\n",
        "  ax.set_title('Confusion Matrix')\n",
        "  ax.xaxis.set_ticklabels(labels)\n",
        "  ax.yaxis.set_ticklabels(labels)"
      ],
      "metadata": {
        "id": "IQ1itSP_dVJp"
      },
      "execution_count": null,
      "outputs": []
    },
    {
      "cell_type": "code",
      "source": [
        "from sklearn.model_selection import train_test_split\n",
        "x=insurance[independent_var].copy()  #independent features\n",
        "y=insurance[\"Response\"].copy()       #dependent features\n",
        "x_train,x_test,y_train,y_test=train_test_split(x,y,test_size=0.2, random_state=0,stratify=y)"
      ],
      "metadata": {
        "id": "bxa3p1jjdxvE"
      },
      "execution_count": null,
      "outputs": []
    },
    {
      "cell_type": "markdown",
      "source": [
        "###Logistic regression"
      ],
      "metadata": {
        "id": "xHINiEZzdPTk"
      }
    },
    {
      "cell_type": "code",
      "source": [
        "from sklearn import metrics\n",
        "from sklearn.linear_model import LogisticRegression"
      ],
      "metadata": {
        "id": "xX07iLZhdOfJ"
      },
      "execution_count": null,
      "outputs": []
    },
    {
      "cell_type": "code",
      "source": [
        "from sklearn.linear_model import LogisticRegression\n",
        "logistic=LogisticRegression(fit_intercept=True, max_iter=10000)\n",
        "logistic.fit(x_train,y_train)"
      ],
      "metadata": {
        "colab": {
          "base_uri": "https://localhost:8080/"
        },
        "id": "r0Sv8ZlWeQvM",
        "outputId": "fe2f1651-0762-4fde-ee59-9353c0a439ec"
      },
      "execution_count": null,
      "outputs": [
        {
          "output_type": "execute_result",
          "data": {
            "text/plain": [
              "LogisticRegression(max_iter=10000)"
            ]
          },
          "metadata": {},
          "execution_count": 83
        }
      ]
    },
    {
      "cell_type": "code",
      "execution_count": null,
      "metadata": {
        "id": "hofqCy056qid"
      },
      "outputs": [],
      "source": [
        "train_predict=logistic.predict_proba(x_train)[:,1]\n",
        "test_predict=logistic.predict_proba(x_test)[:,1]"
      ]
    },
    {
      "cell_type": "code",
      "execution_count": null,
      "metadata": {
        "id": "4qKRqfrP7Kor"
      },
      "outputs": [],
      "source": [
        "train_predicted=logistic.predict(x_train)\n",
        "test_predicted=logistic.predict(x_test)"
      ]
    },
    {
      "cell_type": "code",
      "execution_count": null,
      "metadata": {
        "id": "IlwN2cGNbRzh",
        "colab": {
          "base_uri": "https://localhost:8080/"
        },
        "outputId": "42a9ec9f-2145-4cc3-fd27-6375a47be38d"
      },
      "outputs": [
        {
          "output_type": "stream",
          "name": "stdout",
          "text": [
            "The accuracy of model is=  0.7930278697400835 \n",
            "\n",
            "The roc_auc score of model is=  0.79537835605985 \n",
            "\n",
            "Confusion matrix: \n",
            "\n",
            "[[192257  68250]\n",
            " [ 35341 204659]]\n"
          ]
        },
        {
          "output_type": "display_data",
          "data": {
            "text/plain": [
              "<Figure size 432x288 with 2 Axes>"
            ],
            "image/png": "[encoded data removed]"
          },
          "metadata": {
            "needs_background": "light"
          }
        }
      ],
      "source": [
        "model_checking(y_train, train_predicted,labels=[\"0\",\"1\"])"
      ]
    },
    {
      "cell_type": "code",
      "source": [
        "model_checking(y_test, test_predicted,labels=[\"0\",\"1\"])"
      ],
      "metadata": {
        "colab": {
          "base_uri": "https://localhost:8080/"
        },
        "id": "mU3-lG1jfop6",
        "outputId": "a31cebd5-96d6-4143-9489-4c36a5945d2d"
      },
      "execution_count": null,
      "outputs": [
        {
          "output_type": "stream",
          "name": "stdout",
          "text": [
            "The accuracy of model is=  0.7951201579195537 \n",
            "\n",
            "The roc_auc score of model is=  0.7973505086216162 \n",
            "\n",
            "Confusion matrix: \n",
            "\n",
            "[[48384 16743]\n",
            " [ 8893 51107]]\n"
          ]
        },
        {
          "output_type": "display_data",
          "data": {
            "text/plain": [
              "<Figure size 432x288 with 2 Axes>"
            ],
            "image/png": "[encoded data removed]"
          },
          "metadata": {
            "needs_background": "light"
          }
        }
      ]
    },
    {
      "cell_type": "code",
      "source": [
        ""
      ],
      "metadata": {
        "id": "EJdsNg-1eRkX"
      },
      "execution_count": null,
      "outputs": []
    },
    {
      "cell_type": "markdown",
      "source": [
        "###Decesion Tree"
      ],
      "metadata": {
        "id": "nQDdL_JWgRNq"
      }
    },
    {
      "cell_type": "code",
      "source": [
        ""
      ],
      "metadata": {
        "id": "gFu6qqWCgTgD"
      },
      "execution_count": null,
      "outputs": []
    },
    {
      "cell_type": "code",
      "execution_count": null,
      "metadata": {
        "id": "XsJmM_-OV6ah"
      },
      "outputs": [],
      "source": [
        "from sklearn.model_selection import train_test_split\n",
        "from sklearn.tree import DecisionTreeClassifier"
      ]
    },
    {
      "cell_type": "code",
      "execution_count": null,
      "metadata": {
        "colab": {
          "base_uri": "https://localhost:8080/"
        },
        "id": "f0jFYbGqVAbW",
        "outputId": "0af4fb19-a895-4bfa-bc52-36b1380676e4"
      },
      "outputs": [
        {
          "output_type": "execute_result",
          "data": {
            "text/plain": [
              "DecisionTreeClassifier(criterion='entropy', max_depth=10, max_leaf_nodes=20,\n",
              "                       random_state=0)"
            ]
          },
          "metadata": {},
          "execution_count": 89
        }
      ],
      "source": [
        "#fitting on train data\n",
        "dtree=DecisionTreeClassifier(criterion=\"entropy\",max_leaf_nodes=20,max_depth=10,random_state=0)\n",
        "dtree.fit(x_train,y_train)"
      ]
    },
    {
      "cell_type": "code",
      "execution_count": null,
      "metadata": {
        "id": "Fg4NlvPQVAWz"
      },
      "outputs": [],
      "source": [
        "test_predicted=dtree.predict(x_test)\n",
        "train_predicted=dtree.predict(x_train)"
      ]
    },
    {
      "cell_type": "code",
      "source": [
        "model_checking(y_train, train_predicted,labels=[\"0\",\"1\"])"
      ],
      "metadata": {
        "colab": {
          "base_uri": "https://localhost:8080/"
        },
        "id": "3SqtYPcOg2E4",
        "outputId": "08eb00f8-2156-48fd-a951-e4b838274013"
      },
      "execution_count": null,
      "outputs": [
        {
          "output_type": "stream",
          "name": "stdout",
          "text": [
            "The accuracy of model is=  0.8276327803607142 \n",
            "\n",
            "The roc_auc score of model is=  0.831768039734377 \n",
            "\n",
            "Confusion matrix: \n",
            "\n",
            "[[190389  70118]\n",
            " [ 16153 223847]]\n"
          ]
        },
        {
          "output_type": "display_data",
          "data": {
            "text/plain": [
              "<Figure size 432x288 with 2 Axes>"
            ],
            "image/png": "[encoded data removed]"
          },
          "metadata": {
            "needs_background": "light"
          }
        }
      ]
    },
    {
      "cell_type": "code",
      "source": [
        "model_checking(y_test, test_predicted,labels=[\"0\",\"1\"])"
      ],
      "metadata": {
        "colab": {
          "base_uri": "https://localhost:8080/"
        },
        "id": "7J0sVN9qg4iS",
        "outputId": "2801a840-f0ee-4b62-fb2f-1b2abe0f84d5"
      },
      "execution_count": null,
      "outputs": [
        {
          "output_type": "stream",
          "name": "stdout",
          "text": [
            "The accuracy of model is=  0.8291575759028826 \n",
            "\n",
            "The roc_auc score of model is=  0.8332266064765765 \n",
            "\n",
            "Confusion matrix: \n",
            "\n",
            "[[47798 17329]\n",
            " [ 4048 55952]]\n"
          ]
        },
        {
          "output_type": "display_data",
          "data": {
            "text/plain": [
              "<Figure size 432x288 with 2 Axes>"
            ],
            "image/png": "[encoded data removed]"
          },
          "metadata": {
            "needs_background": "light"
          }
        }
      ]
    },
    {
      "cell_type": "code",
      "source": [
        ""
      ],
      "metadata": {
        "id": "W0dtqPfHMSng"
      },
      "execution_count": null,
      "outputs": []
    },
    {
      "cell_type": "markdown",
      "source": [
        "###Gradient boosting"
      ],
      "metadata": {
        "id": "NkV5uu4yhtL3"
      }
    },
    {
      "cell_type": "code",
      "execution_count": null,
      "metadata": {
        "id": "PEgwgwgNEyPV",
        "colab": {
          "base_uri": "https://localhost:8080/"
        },
        "outputId": "24a1a87e-3227-49ee-eeb4-14c4061672d2"
      },
      "outputs": [
        {
          "data": {
            "text/plain": [
              "GridSearchCV(cv=5, estimator=GradientBoostingClassifier(),\n",
              "             param_grid={'max_depth': [6, 8], 'n_estimators': [50, 80]},\n",
              "             scoring='roc_auc')"
            ]
          },
          "execution_count": 94,
          "metadata": {},
          "output_type": "execute_result"
        }
      ],
      "source": [
        "#gradient boosting\n",
        "from sklearn.model_selection import GridSearchCV\n",
        "from sklearn.ensemble import GradientBoostingClassifier\n",
        "gbc=GradientBoostingClassifier()\n",
        "grid_values = {'n_estimators':[50, 80], 'max_depth':[6, 8]}\n",
        "gbc = GridSearchCV(gbc, param_grid = grid_values, scoring = 'roc_auc', cv=5)\n",
        "\n",
        "gbc.fit(x_train,y_train)\n"
      ]
    },
    {
      "cell_type": "code",
      "execution_count": null,
      "metadata": {
        "id": "yDS_zkXmkW-D"
      },
      "outputs": [],
      "source": [
        "test_predicted=gbc.predict(x_test)\n",
        "train_predicted=gbc.predict(x_train)"
      ]
    },
    {
      "cell_type": "code",
      "source": [
        "model_checking(y_train, train_predicted,labels=[\"0\",\"1\"])"
      ],
      "metadata": {
        "colab": {
          "base_uri": "https://localhost:8080/",
          "height": 434
        },
        "outputId": "103dea8c-0ebc-48b0-ab79-53db44b6b50b",
        "id": "HVjaAdnAkW-E"
      },
      "execution_count": null,
      "outputs": [
        {
          "metadata": {
            "tags": null
          },
          "name": "stdout",
          "output_type": "stream",
          "text": [
            "The accuracy of model is=  0.9028505095832825 \n",
            "\n",
            "The roc_auc score of model is=  0.9015253767013298 \n",
            "\n",
            "Confusion matrix: \n",
            "\n",
            "[[243279  17228]\n",
            " [ 31396 208604]]\n"
          ]
        },
        {
          "data": {
            "image/png": "[encoded data removed]",
            "text/plain": [
              "<Figure size 432x288 with 2 Axes>"
            ]
          },
          "metadata": {},
          "output_type": "display_data"
        }
      ]
    },
    {
      "cell_type": "code",
      "source": [
        "model_checking(y_test, test_predicted,labels=[\"0\",\"1\"])"
      ],
      "metadata": {
        "colab": {
          "base_uri": "https://localhost:8080/",
          "height": 434
        },
        "outputId": "ee6ad8c8-a156-4e29-d5e6-d0647588b699",
        "id": "N3U4fgmpkW-F"
      },
      "execution_count": null,
      "outputs": [
        {
          "metadata": {
            "tags": null
          },
          "name": "stdout",
          "output_type": "stream",
          "text": [
            "The accuracy of model is=  0.9019955724983417 \n",
            "\n",
            "The roc_auc score of model is=  0.9006738545457336 \n",
            "\n",
            "Confusion matrix: \n",
            "\n",
            "[[60759  4368]\n",
            " [ 7895 52105]]\n"
          ]
        },
        {
          "data": {
            "image/png": "[encoded data removed]",
            "text/plain": [
              "<Figure size 432x288 with 2 Axes>"
            ]
          },
          "metadata": {},
          "output_type": "display_data"
        }
      ]
    },
    {
      "cell_type": "markdown",
      "source": [
        "##XGBClassifier"
      ],
      "metadata": {
        "id": "_lINhQfa-C61"
      }
    },
    {
      "cell_type": "code",
      "source": [
        "from sklearn.model_selection import GridSearchCV\n",
        "from xgboost import XGBClassifier\n",
        "XGB_model = XGBClassifier()\n",
        "XGB_model.fit(x_train,y_train)"
      ],
      "metadata": {
        "colab": {
          "base_uri": "https://localhost:8080/"
        },
        "id": "gK7-PZTq8TIs",
        "outputId": "2067cfe8-12b6-4d1e-8cd0-0ec12be1d829"
      },
      "execution_count": null,
      "outputs": [
        {
          "output_type": "execute_result",
          "data": {
            "text/plain": [
              "XGBClassifier()"
            ]
          },
          "metadata": {},
          "execution_count": 79
        }
      ]
    },
    {
      "cell_type": "code",
      "source": [
        "xgb_train_pred = XGB_model.predict(x_train)\n",
        "model_checking(y_train, xgb_train_pred,labels=[\"0\",\"1\"])"
      ],
      "metadata": {
        "colab": {
          "base_uri": "https://localhost:8080/",
          "height": 443
        },
        "id": "szRGU-u2-F0x",
        "outputId": "e3ba32a0-faeb-4277-e3d3-70335b2fcbd2"
      },
      "execution_count": null,
      "outputs": [
        {
          "output_type": "stream",
          "name": "stdout",
          "text": [
            "The accuracy of model is=  0.8632646496452597 \n",
            "\n",
            "The roc_auc score of model is=  0.8644141988107166 \n",
            "\n",
            "Confusion matrix: \n",
            "\n",
            "[[217877  42630]\n",
            " [ 25807 214193]]\n"
          ]
        },
        {
          "output_type": "display_data",
          "data": {
            "text/plain": [
              "<Figure size 432x288 with 2 Axes>"
            ],
            "image/png": "[encoded data removed]"
          },
          "metadata": {
            "needs_background": "light"
          }
        }
      ]
    },
    {
      "cell_type": "code",
      "source": [
        "xgb_test_pred = XGB_model.predict(x_test)\n",
        "model_checking(y_test, xgb_test_pred,labels=[\"0\",\"1\"])"
      ],
      "metadata": {
        "colab": {
          "base_uri": "https://localhost:8080/",
          "height": 443
        },
        "id": "SncmjSCD-pJc",
        "outputId": "3be5917d-280c-4b17-a87d-56cd0e06507d"
      },
      "execution_count": null,
      "outputs": [
        {
          "output_type": "stream",
          "name": "stdout",
          "text": [
            "The accuracy of model is=  0.8640421331926762 \n",
            "\n",
            "The roc_auc score of model is=  0.8651124211156663 \n",
            "\n",
            "Confusion matrix: \n",
            "\n",
            "[[54641 10486]\n",
            " [ 6526 53474]]\n"
          ]
        },
        {
          "output_type": "display_data",
          "data": {
            "text/plain": [
              "<Figure size 432x288 with 2 Axes>"
            ],
            "image/png": "[encoded data removed]"
          },
          "metadata": {
            "needs_background": "light"
          }
        }
      ]
    },
    {
      "cell_type": "code",
      "source": [
        "learning_rate = [0.5,1]\n",
        "subsample = [0.9,1.2]\n",
        "max_depth = [5,7]\n",
        "grid = dict(learning_rate=learning_rate, subsample=subsample, max_depth=max_depth)\n",
        "xgb_tuned = GridSearchCV(XGB_model,param_grid = grid,scoring = 'roc_auc', cv = 3)\n",
        "xgb_tuned.fit(x_train,y_train)"
      ],
      "metadata": {
        "colab": {
          "base_uri": "https://localhost:8080/"
        },
        "id": "QALpHGiv-2iJ",
        "outputId": "b940dab5-5393-4c94-fc4f-6a06489f28a5"
      },
      "execution_count": null,
      "outputs": [
        {
          "output_type": "stream",
          "name": "stderr",
          "text": [
            "/usr/local/lib/python3.7/dist-packages/sklearn/model_selection/_validation.py:372: FitFailedWarning: \n",
            "12 fits failed out of a total of 24.\n",
            "The score on these train-test partitions for these parameters will be set to nan.\n",
            "If these failures are not expected, you can try to debug them by setting error_score='raise'.\n",
            "\n",
            "Below are more details about the failures:\n",
            "--------------------------------------------------------------------------------\n",
            "12 fits failed with the following error:\n",
            "Traceback (most recent call last):\n",
            "  File \"/usr/local/lib/python3.7/dist-packages/sklearn/model_selection/_validation.py\", line 680, in _fit_and_score\n",
            "    estimator.fit(X_train, y_train, **fit_params)\n",
            "  File \"/usr/local/lib/python3.7/dist-packages/xgboost/sklearn.py\", line 732, in fit\n",
            "    callbacks=callbacks)\n",
            "  File \"/usr/local/lib/python3.7/dist-packages/xgboost/training.py\", line 216, in train\n",
            "    xgb_model=xgb_model, callbacks=callbacks)\n",
            "  File \"/usr/local/lib/python3.7/dist-packages/xgboost/training.py\", line 74, in _train_internal\n",
            "    bst.update(dtrain, i, obj)\n",
            "  File \"/usr/local/lib/python3.7/dist-packages/xgboost/core.py\", line 1109, in update\n",
            "    dtrain.handle))\n",
            "  File \"/usr/local/lib/python3.7/dist-packages/xgboost/core.py\", line 176, in _check_call\n",
            "    raise XGBoostError(py_str(_LIB.XGBGetLastError()))\n",
            "xgboost.core.XGBoostError: value 1.2 for Parameter subsample exceed bound [0,1]\n",
            "\n",
            "  warnings.warn(some_fits_failed_message, FitFailedWarning)\n",
            "/usr/local/lib/python3.7/dist-packages/sklearn/model_selection/_search.py:972: UserWarning: One or more of the test scores are non-finite: [0.97247705        nan 0.97229769        nan 0.97161783        nan\n",
            " 0.9701249         nan]\n",
            "  category=UserWarning,\n"
          ]
        },
        {
          "output_type": "execute_result",
          "data": {
            "text/plain": [
              "GridSearchCV(cv=3, estimator=XGBClassifier(),\n",
              "             param_grid={'learning_rate': [0.5, 1], 'max_depth': [5, 7],\n",
              "                         'subsample': [0.9, 1.2]},\n",
              "             scoring='roc_auc')"
            ]
          },
          "metadata": {},
          "execution_count": 83
        }
      ]
    },
    {
      "cell_type": "code",
      "source": [
        "print(\"Best: %f using %s\" % (xgb_tuned.best_score_, xgb_tuned.best_params_))"
      ],
      "metadata": {
        "colab": {
          "base_uri": "https://localhost:8080/"
        },
        "id": "5bxRsSLr_W9U",
        "outputId": "428027ed-f3f9-42c8-c6c5-1003bcd4b466"
      },
      "execution_count": null,
      "outputs": [
        {
          "output_type": "stream",
          "name": "stdout",
          "text": [
            "Best: 0.972477 using {'learning_rate': 0.5, 'max_depth': 5, 'subsample': 0.9}\n"
          ]
        }
      ]
    },
    {
      "cell_type": "code",
      "source": [
        "xgb_tuned_train_pred = xgb_tuned.predict(x_train)\n",
        "model_checking(y_train, xgb_tuned_train_pred,labels=[\"0\",\"1\"])"
      ],
      "metadata": {
        "colab": {
          "base_uri": "https://localhost:8080/",
          "height": 443
        },
        "id": "C_2PXY15DPjD",
        "outputId": "282374e7-50b4-4800-d3bb-f20a5d1de9c8"
      },
      "execution_count": null,
      "outputs": [
        {
          "output_type": "stream",
          "name": "stdout",
          "text": [
            "The accuracy of model is=  0.9110022437248629 \n",
            "\n",
            "The roc_auc score of model is=  0.908828839180265 \n",
            "\n",
            "Confusion matrix: \n",
            "\n",
            "[[250575   9932]\n",
            " [ 34612 205388]]\n"
          ]
        },
        {
          "output_type": "display_data",
          "data": {
            "text/plain": [
              "<Figure size 432x288 with 2 Axes>"
            ],
            "image/png": "[encoded data removed]"
          },
          "metadata": {
            "needs_background": "light"
          }
        }
      ]
    },
    {
      "cell_type": "code",
      "source": [
        "xgb_tuned_test_pred = xgb_tuned.predict(x_test)\n",
        "model_checking(y_test, xgb_tuned_test_pred,labels=[\"0\",\"1\"])"
      ],
      "metadata": {
        "colab": {
          "base_uri": "https://localhost:8080/",
          "height": 443
        },
        "id": "gwOC0SIHD8fC",
        "outputId": "415a20fc-20ed-4f22-b6ae-e6cd933da4ce"
      },
      "execution_count": null,
      "outputs": [
        {
          "output_type": "stream",
          "name": "stdout",
          "text": [
            "The accuracy of model is=  0.9097556882207677 \n",
            "\n",
            "The roc_auc score of model is=  0.9075866426366944 \n",
            "\n",
            "Confusion matrix: \n",
            "\n",
            "[[62556  2571]\n",
            " [ 8721 51279]]\n"
          ]
        },
        {
          "output_type": "display_data",
          "data": {
            "text/plain": [
              "<Figure size 432x288 with 2 Axes>"
            ],
            "image/png": "[encoded data removed]"
          },
          "metadata": {
            "needs_background": "light"
          }
        }
      ]
    },
    {
      "cell_type": "markdown",
      "source": [
        "## Random_forest"
      ],
      "metadata": {
        "id": "E-8RuJL2Er-R"
      }
    },
    {
      "cell_type": "code",
      "source": [
        "from sklearn.ensemble import RandomForestClassifier\n",
        "RF = RandomForestClassifier()\n",
        "RF.fit(x_train,y_train)"
      ],
      "metadata": {
        "colab": {
          "base_uri": "https://localhost:8080/"
        },
        "id": "OjHSbEdEEWEa",
        "outputId": "e0618671-a33f-44ae-a690-218686e405d3"
      },
      "execution_count": null,
      "outputs": [
        {
          "output_type": "execute_result",
          "data": {
            "text/plain": [
              "RandomForestClassifier()"
            ]
          },
          "metadata": {},
          "execution_count": 88
        }
      ]
    },
    {
      "cell_type": "code",
      "source": [
        "RF_train_pred = RF.predict(x_train)\n",
        "model_checking(y_train, RF_train_pred,labels=[\"0\",\"1\"])"
      ],
      "metadata": {
        "colab": {
          "base_uri": "https://localhost:8080/",
          "height": 443
        },
        "id": "q7J5oc8gFCMe",
        "outputId": "e924f5ac-5dc8-40c5-d308-2ff17f854f1b"
      },
      "execution_count": null,
      "outputs": [
        {
          "output_type": "stream",
          "name": "stdout",
          "text": [
            "The accuracy of model is=  0.9843758428953041 \n",
            "\n",
            "The roc_auc score of model is=  0.9838998842961354 \n",
            "\n",
            "Confusion matrix: \n",
            "\n",
            "[[259339   1168]\n",
            " [  6652 233348]]\n"
          ]
        },
        {
          "output_type": "display_data",
          "data": {
            "text/plain": [
              "<Figure size 432x288 with 2 Axes>"
            ],
            "image/png": "[encoded data removed]"
          },
          "metadata": {
            "needs_background": "light"
          }
        }
      ]
    },
    {
      "cell_type": "code",
      "source": [
        "RF_test_pred = RF.predict(x_test)\n",
        "model_checking(y_test, RF_test_pred,labels=[\"0\",\"1\"])"
      ],
      "metadata": {
        "colab": {
          "base_uri": "https://localhost:8080/",
          "height": 443
        },
        "id": "FeolxrGFF0OA",
        "outputId": "be88f100-b72c-484a-9fcf-9e2a65e13dea"
      },
      "execution_count": null,
      "outputs": [
        {
          "output_type": "stream",
          "name": "stdout",
          "text": [
            "The accuracy of model is=  0.8821277581976712 \n",
            "\n",
            "The roc_auc score of model is=  0.8812056052021435 \n",
            "\n",
            "Confusion matrix: \n",
            "\n",
            "[[58856  6271]\n",
            " [ 8478 51522]]\n"
          ]
        },
        {
          "output_type": "display_data",
          "data": {
            "text/plain": [
              "<Figure size 432x288 with 2 Axes>"
            ],
            "image/png": "[encoded data removed]"
          },
          "metadata": {
            "needs_background": "light"
          }
        }
      ]
    },
    {
      "cell_type": "code",
      "source": [
        "from sklearn.metrics import classification_report\n",
        "print(classification_report(y_train,RF_train_pred))\n",
        "print(\"\\n\")\n",
        "print(classification_report(y_test,RF_test_pred))"
      ],
      "metadata": {
        "colab": {
          "base_uri": "https://localhost:8080/"
        },
        "id": "IX7pebNwGGuV",
        "outputId": "923c4be2-66ab-4ce1-be90-f0c8328251a7"
      },
      "execution_count": null,
      "outputs": [
        {
          "output_type": "stream",
          "name": "stdout",
          "text": [
            "              precision    recall  f1-score   support\n",
            "\n",
            "           0       0.97      1.00      0.99    260507\n",
            "           1       1.00      0.97      0.98    240000\n",
            "\n",
            "    accuracy                           0.98    500507\n",
            "   macro avg       0.99      0.98      0.98    500507\n",
            "weighted avg       0.98      0.98      0.98    500507\n",
            "\n",
            "\n",
            "\n",
            "              precision    recall  f1-score   support\n",
            "\n",
            "           0       0.87      0.90      0.89     65127\n",
            "           1       0.89      0.86      0.87     60000\n",
            "\n",
            "    accuracy                           0.88    125127\n",
            "   macro avg       0.88      0.88      0.88    125127\n",
            "weighted avg       0.88      0.88      0.88    125127\n",
            "\n"
          ]
        }
      ]
    },
    {
      "cell_type": "markdown",
      "source": [
        "##HyperParameter Tuning on RandomForest"
      ],
      "metadata": {
        "id": "AN3hVK74HodK"
      }
    },
    {
      "cell_type": "code",
      "source": [
        "grid_value = {'max_depth':[6,8], 'min_samples_split':[2,5], 'min_impurity_decrease':[0.1,0.2]}\n",
        "RF_tuned = GridSearchCV(RF,grid_value, scoring = 'roc_auc', cv = 3)\n",
        "RF_tuned.fit(x_train,y_train)"
      ],
      "metadata": {
        "colab": {
          "base_uri": "https://localhost:8080/"
        },
        "id": "7Xi_0y6WGx4J",
        "outputId": "71e65a82-1912-4a8f-b50c-1f39ccdf6bec"
      },
      "execution_count": null,
      "outputs": [
        {
          "output_type": "execute_result",
          "data": {
            "text/plain": [
              "GridSearchCV(cv=3, estimator=RandomForestClassifier(),\n",
              "             param_grid={'max_depth': [6, 8],\n",
              "                         'min_impurity_decrease': [0.1, 0.2],\n",
              "                         'min_samples_split': [2, 5]},\n",
              "             scoring='roc_auc')"
            ]
          },
          "metadata": {},
          "execution_count": 95
        }
      ]
    },
    {
      "cell_type": "code",
      "source": [
        "print(\"Best: %f using %s\" % (RF_tuned.best_score_, RF_tuned.best_params_))"
      ],
      "metadata": {
        "colab": {
          "base_uri": "https://localhost:8080/"
        },
        "id": "GOI-c8aMIw1T",
        "outputId": "3dd1af49-61b4-478f-cec5-bc5eca405138"
      },
      "execution_count": null,
      "outputs": [
        {
          "output_type": "stream",
          "name": "stdout",
          "text": [
            "Best: 0.816697 using {'max_depth': 6, 'min_impurity_decrease': 0.1, 'min_samples_split': 2}\n"
          ]
        }
      ]
    },
    {
      "cell_type": "code",
      "source": [
        "RF_tune_train_pred = RF_tuned.predict(x_train)\n",
        "model_checking(y_train, RF_tune_train_pred,labels=[\"0\",\"1\"])"
      ],
      "metadata": {
        "colab": {
          "base_uri": "https://localhost:8080/",
          "height": 443
        },
        "id": "leQ0gZcXKGyN",
        "outputId": "daf049fc-4385-43c1-f765-7b1a10b86b13"
      },
      "execution_count": null,
      "outputs": [
        {
          "output_type": "stream",
          "name": "stdout",
          "text": [
            "The accuracy of model is=  0.8003104851680396 \n",
            "\n",
            "The roc_auc score of model is=  0.8056825193836763 \n",
            "\n",
            "Confusion matrix: \n",
            "\n",
            "[[175730  84777]\n",
            " [ 15169 224831]]\n"
          ]
        },
        {
          "output_type": "display_data",
          "data": {
            "text/plain": [
              "<Figure size 432x288 with 2 Axes>"
            ],
            "image/png": "[encoded data removed]"
          },
          "metadata": {
            "needs_background": "light"
          }
        }
      ]
    },
    {
      "cell_type": "code",
      "source": [
        "RF_tune_test_pred = RF_tuned.predict(x_test)\n",
        "model_checking(y_test, RF_tune_test_pred,labels=[\"0\",\"1\"])"
      ],
      "metadata": {
        "colab": {
          "base_uri": "https://localhost:8080/",
          "height": 443
        },
        "id": "JswogVYCKow8",
        "outputId": "774e2608-3836-4ae9-ca03-4bd31dcdab16"
      },
      "execution_count": null,
      "outputs": [
        {
          "output_type": "stream",
          "name": "stdout",
          "text": [
            "The accuracy of model is=  0.8008343522980652 \n",
            "\n",
            "The roc_auc score of model is=  0.8061126967310024 \n",
            "\n",
            "Confusion matrix: \n",
            "\n",
            "[[44110 21017]\n",
            " [ 3904 56096]]\n"
          ]
        },
        {
          "output_type": "display_data",
          "data": {
            "text/plain": [
              "<Figure size 432x288 with 2 Axes>"
            ],
            "image/png": "[encoded data removed]"
          },
          "metadata": {
            "needs_background": "light"
          }
        }
      ]
    },
    {
      "cell_type": "code",
      "source": [
        ""
      ],
      "metadata": {
        "id": "fLl-XgkeK6z4"
      },
      "execution_count": null,
      "outputs": []
    }
  ]
}