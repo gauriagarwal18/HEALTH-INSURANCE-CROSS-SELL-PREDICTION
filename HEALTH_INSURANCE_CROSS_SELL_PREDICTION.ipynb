{
  "nbformat": 4,
  "nbformat_minor": 0,
  "metadata": {
    "colab": {
      "name": "HEALTH INSURANCE CROSS SELL PREDICTION.ipynb",
      "provenance": [],
      "include_colab_link": true
    },
    "kernelspec": {
      "name": "python3",
      "display_name": "Python 3"
    },
    "language_info": {
      "name": "python"
    }
  },
  "cells": [
    {
      "cell_type": "markdown",
      "metadata": {
        "id": "view-in-github",
        "colab_type": "text"
      },
      "source": [
        "<a href=\"https://colab.research.google.com/github/gauriagarwal18/HEALTH-INSURANCE-CROSS-SELL-PREDICTION/blob/master/HEALTH_INSURANCE_CROSS_SELL_PREDICTION.ipynb\" target=\"_parent\"><img src=\"https://colab.research.google.com/assets/colab-badge.svg\" alt=\"Open In Colab\"/></a>"
      ]
    },
    {
      "cell_type": "markdown",
      "metadata": {
        "id": "LGcl5Bv9ed6u"
      },
      "source": [
        "# **Problem Statement**"
      ]
    },
    {
      "cell_type": "markdown",
      "metadata": {
        "id": "jJAmGx75jJk1"
      },
      "source": [
        "Our client is an Insurance company that has provided Health Insurance to its customers now they need your help in building a model to predict whether the policyholders (customers) from past year will also be interested in Vehicle Insurance provided by the company.\n",
        "\n",
        "An insurance policy is an arrangement by which a company undertakes to provide a guarantee of compensation for specified loss, damage, illness, or death in return for the payment of a specified premium. A premium is a sum of money that the customer needs to pay regularly to an insurance company for this guarantee.\n",
        "\n",
        "For example, you may pay a premium of Rs. 5000 each year for a health insurance cover of Rs. 200,000/- so that if, God forbid, you fall ill and need to be hospitalised in that year, the insurance provider company will bear the cost of hospitalisation etc. for upto Rs. 200,000. Now if you are wondering how can company bear such high hospitalisation cost when it charges a premium of only Rs. 5000/-, that is where the concept of probabilities comes in picture. For example, like you, there may be 100 customers who would be paying a premium of Rs. 5000 every year, but only a few of them (say 2-3) would get hospitalised that year and not everyone. This way everyone shares the risk of everyone else.\n",
        "\n",
        "Just like medical insurance, there is vehicle insurance where every year customer needs to pay a premium of certain amount to insurance provider company so that in case of unfortunate accident by the vehicle, the insurance provider company will provide a compensation (called ‘sum assured’) to the customer.\n",
        "\n",
        "Building a model to predict whether a customer would be interested in Vehicle Insurance is extremely helpful for the company because it can then accordingly plan its communication strategy to reach out to those customers and optimise its business model and revenue.\n",
        "\n",
        "Now, in order to predict, whether the customer would be interested in Vehicle insurance, you have information about demographics (gender, age, region code type), Vehicles (Vehicle Age, Damage), Policy (Premium, sourcing channel) etc."
      ]
    },
    {
      "cell_type": "markdown",
      "metadata": {
        "id": "AzGDqdC4fZ-b"
      },
      "source": [
        "## Attribute Information"
      ]
    },
    {
      "cell_type": "markdown",
      "metadata": {
        "id": "oEJxl68MjYbs"
      },
      "source": [
        "1. id :\tUnique ID for the customer\n",
        "\n",
        "2. Gender\t: Gender of the customer\n",
        "\n",
        "3. Age :\tAge of the customer\n",
        "\n",
        "4. Driving_License\t0 : Customer does not have DL, 1 : Customer already has DL\n",
        "\n",
        "5. Region_Code :\tUnique code for the region of the customer\n",
        "\n",
        "6. Previously_Insured\t: 1 : Customer already has Vehicle Insurance, 0 : Customer doesn't have Vehicle Insurance\n",
        "\n",
        "7. Vehicle_Age :\tAge of the Vehicle\n",
        "\n",
        "8. Vehicle_Damage\t :1 : Customer got his/her vehicle damaged in the past. 0 : Customer didn't get his/her vehicle damaged in the past.\n",
        "\n",
        "9. Annual_Premium\t: The amount customer needs to pay as premium in the year\n",
        "\n",
        "10. PolicySalesChannel :\tAnonymized Code for the channel of outreaching to the customer ie. Different Agents, Over Mail, Over Phone, In Person, etc.\n",
        "\n",
        "11. Vintage :\tNumber of Days, Customer has been associated with the company\n",
        "\n",
        "12. Response :\t1 : Customer is interested, 0 : Customer is not interested"
      ]
    },
    {
      "cell_type": "markdown",
      "source": [
        "##Reading Data And Importing Libraries Required For Analysis"
      ],
      "metadata": {
        "id": "wEdLAxhJiEz1"
      }
    },
    {
      "cell_type": "code",
      "source": [
        "import numpy as np\n",
        "import pandas as pd\n",
        "import seaborn as sns\n",
        "import matplotlib.pyplot as plt"
      ],
      "metadata": {
        "id": "nzXFALPfWNnl"
      },
      "execution_count": 518,
      "outputs": []
    },
    {
      "cell_type": "code",
      "source": [
        "#Download datasets \n",
        "from google.colab import drive\n",
        "drive.mount('/content/drive')\n",
        "import os\n",
        "path=\"/content/drive/My Drive/AlmaBetter_Capstone_projects/capstone_project3/TRAIN-HEALTH INSURANCE CROSS SELL PREDICTION.csv\"\n",
        "insurance_original=pd.read_csv(path,parse_dates=[2,3])\n",
        "insurance= insurance_original.copy()"
      ],
      "metadata": {
        "colab": {
          "base_uri": "https://localhost:8080/"
        },
        "id": "MgcK5MRMWNkr",
        "outputId": "caffaa87-426a-44d3-9107-cac29d18067a"
      },
      "execution_count": 519,
      "outputs": [
        {
          "output_type": "stream",
          "name": "stdout",
          "text": [
            "Drive already mounted at /content/drive; to attempt to forcibly remount, call drive.mount(\"/content/drive\", force_remount=True).\n"
          ]
        }
      ]
    },
    {
      "cell_type": "markdown",
      "source": [
        "##Data Cleaning And Description"
      ],
      "metadata": {
        "id": "AzQlNgNHtJXo"
      }
    },
    {
      "cell_type": "code",
      "source": [
        "insurance.head()"
      ],
      "metadata": {
        "colab": {
          "base_uri": "https://localhost:8080/",
          "height": 206
        },
        "id": "hQQ1AYCUWNio",
        "outputId": "435f620c-78e6-4043-c070-77ae0bdfc3c8"
      },
      "execution_count": 520,
      "outputs": [
        {
          "output_type": "execute_result",
          "data": {
            "text/plain": [
              "   id  Gender Age Driving_License  Region_Code  Previously_Insured  \\\n",
              "0   1    Male  44               1         28.0                   0   \n",
              "1   2    Male  76               1          3.0                   0   \n",
              "2   3    Male  47               1         28.0                   0   \n",
              "3   4    Male  21               1         11.0                   1   \n",
              "4   5  Female  29               1         41.0                   1   \n",
              "\n",
              "  Vehicle_Age Vehicle_Damage  Annual_Premium  Policy_Sales_Channel  Vintage  \\\n",
              "0   > 2 Years            Yes         40454.0                  26.0      217   \n",
              "1    1-2 Year             No         33536.0                  26.0      183   \n",
              "2   > 2 Years            Yes         38294.0                  26.0       27   \n",
              "3    < 1 Year             No         28619.0                 152.0      203   \n",
              "4    < 1 Year             No         27496.0                 152.0       39   \n",
              "\n",
              "   Response  \n",
              "0         1  \n",
              "1         0  \n",
              "2         1  \n",
              "3         0  \n",
              "4         0  "
            ],
            "text/html": [
              "\n",
              "  <div id=\"df-a4d5686e-5950-4c01-9853-921562f68f2c\">\n",
              "    <div class=\"colab-df-container\">\n",
              "      <div>\n",
              "<style scoped>\n",
              "    .dataframe tbody tr th:only-of-type {\n",
              "        vertical-align: middle;\n",
              "    }\n",
              "\n",
              "    .dataframe tbody tr th {\n",
              "        vertical-align: top;\n",
              "    }\n",
              "\n",
              "    .dataframe thead th {\n",
              "        text-align: right;\n",
              "    }\n",
              "</style>\n",
              "<table border=\"1\" class=\"dataframe\">\n",
              "  <thead>\n",
              "    <tr style=\"text-align: right;\">\n",
              "      <th></th>\n",
              "      <th>id</th>\n",
              "      <th>Gender</th>\n",
              "      <th>Age</th>\n",
              "      <th>Driving_License</th>\n",
              "      <th>Region_Code</th>\n",
              "      <th>Previously_Insured</th>\n",
              "      <th>Vehicle_Age</th>\n",
              "      <th>Vehicle_Damage</th>\n",
              "      <th>Annual_Premium</th>\n",
              "      <th>Policy_Sales_Channel</th>\n",
              "      <th>Vintage</th>\n",
              "      <th>Response</th>\n",
              "    </tr>\n",
              "  </thead>\n",
              "  <tbody>\n",
              "    <tr>\n",
              "      <th>0</th>\n",
              "      <td>1</td>\n",
              "      <td>Male</td>\n",
              "      <td>44</td>\n",
              "      <td>1</td>\n",
              "      <td>28.0</td>\n",
              "      <td>0</td>\n",
              "      <td>&gt; 2 Years</td>\n",
              "      <td>Yes</td>\n",
              "      <td>40454.0</td>\n",
              "      <td>26.0</td>\n",
              "      <td>217</td>\n",
              "      <td>1</td>\n",
              "    </tr>\n",
              "    <tr>\n",
              "      <th>1</th>\n",
              "      <td>2</td>\n",
              "      <td>Male</td>\n",
              "      <td>76</td>\n",
              "      <td>1</td>\n",
              "      <td>3.0</td>\n",
              "      <td>0</td>\n",
              "      <td>1-2 Year</td>\n",
              "      <td>No</td>\n",
              "      <td>33536.0</td>\n",
              "      <td>26.0</td>\n",
              "      <td>183</td>\n",
              "      <td>0</td>\n",
              "    </tr>\n",
              "    <tr>\n",
              "      <th>2</th>\n",
              "      <td>3</td>\n",
              "      <td>Male</td>\n",
              "      <td>47</td>\n",
              "      <td>1</td>\n",
              "      <td>28.0</td>\n",
              "      <td>0</td>\n",
              "      <td>&gt; 2 Years</td>\n",
              "      <td>Yes</td>\n",
              "      <td>38294.0</td>\n",
              "      <td>26.0</td>\n",
              "      <td>27</td>\n",
              "      <td>1</td>\n",
              "    </tr>\n",
              "    <tr>\n",
              "      <th>3</th>\n",
              "      <td>4</td>\n",
              "      <td>Male</td>\n",
              "      <td>21</td>\n",
              "      <td>1</td>\n",
              "      <td>11.0</td>\n",
              "      <td>1</td>\n",
              "      <td>&lt; 1 Year</td>\n",
              "      <td>No</td>\n",
              "      <td>28619.0</td>\n",
              "      <td>152.0</td>\n",
              "      <td>203</td>\n",
              "      <td>0</td>\n",
              "    </tr>\n",
              "    <tr>\n",
              "      <th>4</th>\n",
              "      <td>5</td>\n",
              "      <td>Female</td>\n",
              "      <td>29</td>\n",
              "      <td>1</td>\n",
              "      <td>41.0</td>\n",
              "      <td>1</td>\n",
              "      <td>&lt; 1 Year</td>\n",
              "      <td>No</td>\n",
              "      <td>27496.0</td>\n",
              "      <td>152.0</td>\n",
              "      <td>39</td>\n",
              "      <td>0</td>\n",
              "    </tr>\n",
              "  </tbody>\n",
              "</table>\n",
              "</div>\n",
              "      <button class=\"colab-df-convert\" onclick=\"convertToInteractive('df-a4d5686e-5950-4c01-9853-921562f68f2c')\"\n",
              "              title=\"Convert this dataframe to an interactive table.\"\n",
              "              style=\"display:none;\">\n",
              "        \n",
              "  <svg xmlns=\"http://www.w3.org/2000/svg\" height=\"24px\"viewBox=\"0 0 24 24\"\n",
              "       width=\"24px\">\n",
              "    <path d=\"M0 0h24v24H0V0z\" fill=\"none\"/>\n",
              "    <path d=\"M18.56 5.44l.94 2.06.94-2.06 2.06-.94-2.06-.94-.94-2.06-.94 2.06-2.06.94zm-11 1L8.5 8.5l.94-2.06 2.06-.94-2.06-.94L8.5 2.5l-.94 2.06-2.06.94zm10 10l.94 2.06.94-2.06 2.06-.94-2.06-.94-.94-2.06-.94 2.06-2.06.94z\"/><path d=\"M17.41 7.96l-1.37-1.37c-.4-.4-.92-.59-1.43-.59-.52 0-1.04.2-1.43.59L10.3 9.45l-7.72 7.72c-.78.78-.78 2.05 0 2.83L4 21.41c.39.39.9.59 1.41.59.51 0 1.02-.2 1.41-.59l7.78-7.78 2.81-2.81c.8-.78.8-2.07 0-2.86zM5.41 20L4 18.59l7.72-7.72 1.47 1.35L5.41 20z\"/>\n",
              "  </svg>\n",
              "      </button>\n",
              "      \n",
              "  <style>\n",
              "    .colab-df-container {\n",
              "      display:flex;\n",
              "      flex-wrap:wrap;\n",
              "      gap: 12px;\n",
              "    }\n",
              "\n",
              "    .colab-df-convert {\n",
              "      background-color: #E8F0FE;\n",
              "      border: none;\n",
              "      border-radius: 50%;\n",
              "      cursor: pointer;\n",
              "      display: none;\n",
              "      fill: #1967D2;\n",
              "      height: 32px;\n",
              "      padding: 0 0 0 0;\n",
              "      width: 32px;\n",
              "    }\n",
              "\n",
              "    .colab-df-convert:hover {\n",
              "      background-color: #E2EBFA;\n",
              "      box-shadow: 0px 1px 2px rgba(60, 64, 67, 0.3), 0px 1px 3px 1px rgba(60, 64, 67, 0.15);\n",
              "      fill: #174EA6;\n",
              "    }\n",
              "\n",
              "    [theme=dark] .colab-df-convert {\n",
              "      background-color: #3B4455;\n",
              "      fill: #D2E3FC;\n",
              "    }\n",
              "\n",
              "    [theme=dark] .colab-df-convert:hover {\n",
              "      background-color: #434B5C;\n",
              "      box-shadow: 0px 1px 3px 1px rgba(0, 0, 0, 0.15);\n",
              "      filter: drop-shadow(0px 1px 2px rgba(0, 0, 0, 0.3));\n",
              "      fill: #FFFFFF;\n",
              "    }\n",
              "  </style>\n",
              "\n",
              "      <script>\n",
              "        const buttonEl =\n",
              "          document.querySelector('#df-a4d5686e-5950-4c01-9853-921562f68f2c button.colab-df-convert');\n",
              "        buttonEl.style.display =\n",
              "          google.colab.kernel.accessAllowed ? 'block' : 'none';\n",
              "\n",
              "        async function convertToInteractive(key) {\n",
              "          const element = document.querySelector('#df-a4d5686e-5950-4c01-9853-921562f68f2c');\n",
              "          const dataTable =\n",
              "            await google.colab.kernel.invokeFunction('convertToInteractive',\n",
              "                                                     [key], {});\n",
              "          if (!dataTable) return;\n",
              "\n",
              "          const docLinkHtml = 'Like what you see? Visit the ' +\n",
              "            '<a target=\"_blank\" href=https://colab.research.google.com/notebooks/data_table.ipynb>data table notebook</a>'\n",
              "            + ' to learn more about interactive tables.';\n",
              "          element.innerHTML = '';\n",
              "          dataTable['output_type'] = 'display_data';\n",
              "          await google.colab.output.renderOutput(dataTable, element);\n",
              "          const docLink = document.createElement('div');\n",
              "          docLink.innerHTML = docLinkHtml;\n",
              "          element.appendChild(docLink);\n",
              "        }\n",
              "      </script>\n",
              "    </div>\n",
              "  </div>\n",
              "  "
            ]
          },
          "metadata": {},
          "execution_count": 520
        }
      ]
    },
    {
      "cell_type": "markdown",
      "source": [
        "From above we note that:\n",
        "- in gender we have to do encoding, for male and female\n",
        "- in vehical age we have to check the number of categories and then we will try to do ordinal encoding\n",
        "- We will normalize the column of annual premium"
      ],
      "metadata": {
        "id": "cOxdonEiiR-y"
      }
    },
    {
      "cell_type": "code",
      "source": [
        "insurance.info()"
      ],
      "metadata": {
        "colab": {
          "base_uri": "https://localhost:8080/"
        },
        "id": "M0OH6ggpWNf8",
        "outputId": "5912eebe-ff5a-474b-8709-3f18a3987a52"
      },
      "execution_count": 521,
      "outputs": [
        {
          "output_type": "stream",
          "name": "stdout",
          "text": [
            "<class 'pandas.core.frame.DataFrame'>\n",
            "RangeIndex: 381109 entries, 0 to 381108\n",
            "Data columns (total 12 columns):\n",
            " #   Column                Non-Null Count   Dtype  \n",
            "---  ------                --------------   -----  \n",
            " 0   id                    381109 non-null  int64  \n",
            " 1   Gender                381109 non-null  object \n",
            " 2   Age                   381109 non-null  object \n",
            " 3   Driving_License       381109 non-null  object \n",
            " 4   Region_Code           381109 non-null  float64\n",
            " 5   Previously_Insured    381109 non-null  int64  \n",
            " 6   Vehicle_Age           381109 non-null  object \n",
            " 7   Vehicle_Damage        381109 non-null  object \n",
            " 8   Annual_Premium        381109 non-null  float64\n",
            " 9   Policy_Sales_Channel  381109 non-null  float64\n",
            " 10  Vintage               381109 non-null  int64  \n",
            " 11  Response              381109 non-null  int64  \n",
            "dtypes: float64(3), int64(4), object(5)\n",
            "memory usage: 34.9+ MB\n"
          ]
        }
      ]
    },
    {
      "cell_type": "markdown",
      "source": [
        "- there is no null value in the data\n",
        "- but we note that some columns are of object type so we will convert it to int to ensure that there is no garbage value"
      ],
      "metadata": {
        "id": "8KxcZVh6i-dV"
      }
    },
    {
      "cell_type": "code",
      "source": [
        "insurance_describe=insurance.describe()  #later we have to change some columns so for some information is required for analysis so we store this result\n",
        "insurance_describe"
      ],
      "metadata": {
        "colab": {
          "base_uri": "https://localhost:8080/",
          "height": 300
        },
        "id": "IKKq343xbn5A",
        "outputId": "b704d6b2-8256-4169-d637-83ac106b9cf4"
      },
      "execution_count": 522,
      "outputs": [
        {
          "output_type": "execute_result",
          "data": {
            "text/plain": [
              "                  id    Region_Code  Previously_Insured  Annual_Premium  \\\n",
              "count  381109.000000  381109.000000       381109.000000   381109.000000   \n",
              "mean   190555.000000      26.388807            0.458210    30564.389581   \n",
              "std    110016.836208      13.229888            0.498251    17213.155057   \n",
              "min         1.000000       0.000000            0.000000     2630.000000   \n",
              "25%     95278.000000      15.000000            0.000000    24405.000000   \n",
              "50%    190555.000000      28.000000            0.000000    31669.000000   \n",
              "75%    285832.000000      35.000000            1.000000    39400.000000   \n",
              "max    381109.000000      52.000000            1.000000   540165.000000   \n",
              "\n",
              "       Policy_Sales_Channel        Vintage       Response  \n",
              "count         381109.000000  381109.000000  381109.000000  \n",
              "mean             112.034295     154.347397       0.122563  \n",
              "std               54.203995      83.671304       0.327936  \n",
              "min                1.000000      10.000000       0.000000  \n",
              "25%               29.000000      82.000000       0.000000  \n",
              "50%              133.000000     154.000000       0.000000  \n",
              "75%              152.000000     227.000000       0.000000  \n",
              "max              163.000000     299.000000       1.000000  "
            ],
            "text/html": [
              "\n",
              "  <div id=\"df-64b0584a-297d-4649-b626-200bf160a1ae\">\n",
              "    <div class=\"colab-df-container\">\n",
              "      <div>\n",
              "<style scoped>\n",
              "    .dataframe tbody tr th:only-of-type {\n",
              "        vertical-align: middle;\n",
              "    }\n",
              "\n",
              "    .dataframe tbody tr th {\n",
              "        vertical-align: top;\n",
              "    }\n",
              "\n",
              "    .dataframe thead th {\n",
              "        text-align: right;\n",
              "    }\n",
              "</style>\n",
              "<table border=\"1\" class=\"dataframe\">\n",
              "  <thead>\n",
              "    <tr style=\"text-align: right;\">\n",
              "      <th></th>\n",
              "      <th>id</th>\n",
              "      <th>Region_Code</th>\n",
              "      <th>Previously_Insured</th>\n",
              "      <th>Annual_Premium</th>\n",
              "      <th>Policy_Sales_Channel</th>\n",
              "      <th>Vintage</th>\n",
              "      <th>Response</th>\n",
              "    </tr>\n",
              "  </thead>\n",
              "  <tbody>\n",
              "    <tr>\n",
              "      <th>count</th>\n",
              "      <td>381109.000000</td>\n",
              "      <td>381109.000000</td>\n",
              "      <td>381109.000000</td>\n",
              "      <td>381109.000000</td>\n",
              "      <td>381109.000000</td>\n",
              "      <td>381109.000000</td>\n",
              "      <td>381109.000000</td>\n",
              "    </tr>\n",
              "    <tr>\n",
              "      <th>mean</th>\n",
              "      <td>190555.000000</td>\n",
              "      <td>26.388807</td>\n",
              "      <td>0.458210</td>\n",
              "      <td>30564.389581</td>\n",
              "      <td>112.034295</td>\n",
              "      <td>154.347397</td>\n",
              "      <td>0.122563</td>\n",
              "    </tr>\n",
              "    <tr>\n",
              "      <th>std</th>\n",
              "      <td>110016.836208</td>\n",
              "      <td>13.229888</td>\n",
              "      <td>0.498251</td>\n",
              "      <td>17213.155057</td>\n",
              "      <td>54.203995</td>\n",
              "      <td>83.671304</td>\n",
              "      <td>0.327936</td>\n",
              "    </tr>\n",
              "    <tr>\n",
              "      <th>min</th>\n",
              "      <td>1.000000</td>\n",
              "      <td>0.000000</td>\n",
              "      <td>0.000000</td>\n",
              "      <td>2630.000000</td>\n",
              "      <td>1.000000</td>\n",
              "      <td>10.000000</td>\n",
              "      <td>0.000000</td>\n",
              "    </tr>\n",
              "    <tr>\n",
              "      <th>25%</th>\n",
              "      <td>95278.000000</td>\n",
              "      <td>15.000000</td>\n",
              "      <td>0.000000</td>\n",
              "      <td>24405.000000</td>\n",
              "      <td>29.000000</td>\n",
              "      <td>82.000000</td>\n",
              "      <td>0.000000</td>\n",
              "    </tr>\n",
              "    <tr>\n",
              "      <th>50%</th>\n",
              "      <td>190555.000000</td>\n",
              "      <td>28.000000</td>\n",
              "      <td>0.000000</td>\n",
              "      <td>31669.000000</td>\n",
              "      <td>133.000000</td>\n",
              "      <td>154.000000</td>\n",
              "      <td>0.000000</td>\n",
              "    </tr>\n",
              "    <tr>\n",
              "      <th>75%</th>\n",
              "      <td>285832.000000</td>\n",
              "      <td>35.000000</td>\n",
              "      <td>1.000000</td>\n",
              "      <td>39400.000000</td>\n",
              "      <td>152.000000</td>\n",
              "      <td>227.000000</td>\n",
              "      <td>0.000000</td>\n",
              "    </tr>\n",
              "    <tr>\n",
              "      <th>max</th>\n",
              "      <td>381109.000000</td>\n",
              "      <td>52.000000</td>\n",
              "      <td>1.000000</td>\n",
              "      <td>540165.000000</td>\n",
              "      <td>163.000000</td>\n",
              "      <td>299.000000</td>\n",
              "      <td>1.000000</td>\n",
              "    </tr>\n",
              "  </tbody>\n",
              "</table>\n",
              "</div>\n",
              "      <button class=\"colab-df-convert\" onclick=\"convertToInteractive('df-64b0584a-297d-4649-b626-200bf160a1ae')\"\n",
              "              title=\"Convert this dataframe to an interactive table.\"\n",
              "              style=\"display:none;\">\n",
              "        \n",
              "  <svg xmlns=\"http://www.w3.org/2000/svg\" height=\"24px\"viewBox=\"0 0 24 24\"\n",
              "       width=\"24px\">\n",
              "    <path d=\"M0 0h24v24H0V0z\" fill=\"none\"/>\n",
              "    <path d=\"M18.56 5.44l.94 2.06.94-2.06 2.06-.94-2.06-.94-.94-2.06-.94 2.06-2.06.94zm-11 1L8.5 8.5l.94-2.06 2.06-.94-2.06-.94L8.5 2.5l-.94 2.06-2.06.94zm10 10l.94 2.06.94-2.06 2.06-.94-2.06-.94-.94-2.06-.94 2.06-2.06.94z\"/><path d=\"M17.41 7.96l-1.37-1.37c-.4-.4-.92-.59-1.43-.59-.52 0-1.04.2-1.43.59L10.3 9.45l-7.72 7.72c-.78.78-.78 2.05 0 2.83L4 21.41c.39.39.9.59 1.41.59.51 0 1.02-.2 1.41-.59l7.78-7.78 2.81-2.81c.8-.78.8-2.07 0-2.86zM5.41 20L4 18.59l7.72-7.72 1.47 1.35L5.41 20z\"/>\n",
              "  </svg>\n",
              "      </button>\n",
              "      \n",
              "  <style>\n",
              "    .colab-df-container {\n",
              "      display:flex;\n",
              "      flex-wrap:wrap;\n",
              "      gap: 12px;\n",
              "    }\n",
              "\n",
              "    .colab-df-convert {\n",
              "      background-color: #E8F0FE;\n",
              "      border: none;\n",
              "      border-radius: 50%;\n",
              "      cursor: pointer;\n",
              "      display: none;\n",
              "      fill: #1967D2;\n",
              "      height: 32px;\n",
              "      padding: 0 0 0 0;\n",
              "      width: 32px;\n",
              "    }\n",
              "\n",
              "    .colab-df-convert:hover {\n",
              "      background-color: #E2EBFA;\n",
              "      box-shadow: 0px 1px 2px rgba(60, 64, 67, 0.3), 0px 1px 3px 1px rgba(60, 64, 67, 0.15);\n",
              "      fill: #174EA6;\n",
              "    }\n",
              "\n",
              "    [theme=dark] .colab-df-convert {\n",
              "      background-color: #3B4455;\n",
              "      fill: #D2E3FC;\n",
              "    }\n",
              "\n",
              "    [theme=dark] .colab-df-convert:hover {\n",
              "      background-color: #434B5C;\n",
              "      box-shadow: 0px 1px 3px 1px rgba(0, 0, 0, 0.15);\n",
              "      filter: drop-shadow(0px 1px 2px rgba(0, 0, 0, 0.3));\n",
              "      fill: #FFFFFF;\n",
              "    }\n",
              "  </style>\n",
              "\n",
              "      <script>\n",
              "        const buttonEl =\n",
              "          document.querySelector('#df-64b0584a-297d-4649-b626-200bf160a1ae button.colab-df-convert');\n",
              "        buttonEl.style.display =\n",
              "          google.colab.kernel.accessAllowed ? 'block' : 'none';\n",
              "\n",
              "        async function convertToInteractive(key) {\n",
              "          const element = document.querySelector('#df-64b0584a-297d-4649-b626-200bf160a1ae');\n",
              "          const dataTable =\n",
              "            await google.colab.kernel.invokeFunction('convertToInteractive',\n",
              "                                                     [key], {});\n",
              "          if (!dataTable) return;\n",
              "\n",
              "          const docLinkHtml = 'Like what you see? Visit the ' +\n",
              "            '<a target=\"_blank\" href=https://colab.research.google.com/notebooks/data_table.ipynb>data table notebook</a>'\n",
              "            + ' to learn more about interactive tables.';\n",
              "          element.innerHTML = '';\n",
              "          dataTable['output_type'] = 'display_data';\n",
              "          await google.colab.output.renderOutput(dataTable, element);\n",
              "          const docLink = document.createElement('div');\n",
              "          docLink.innerHTML = docLinkHtml;\n",
              "          element.appendChild(docLink);\n",
              "        }\n",
              "      </script>\n",
              "    </div>\n",
              "  </div>\n",
              "  "
            ]
          },
          "metadata": {},
          "execution_count": 522
        }
      ]
    },
    {
      "cell_type": "markdown",
      "source": [
        ""
      ],
      "metadata": {
        "id": "FywZAwUGbnjZ"
      }
    },
    {
      "cell_type": "code",
      "source": [
        "insurance.columns"
      ],
      "metadata": {
        "colab": {
          "base_uri": "https://localhost:8080/"
        },
        "id": "F2vJaPiCXnJ-",
        "outputId": "f2779878-334d-4254-ec0b-e2918dd00132"
      },
      "execution_count": 523,
      "outputs": [
        {
          "output_type": "execute_result",
          "data": {
            "text/plain": [
              "Index(['id', 'Gender', 'Age', 'Driving_License', 'Region_Code',\n",
              "       'Previously_Insured', 'Vehicle_Age', 'Vehicle_Damage', 'Annual_Premium',\n",
              "       'Policy_Sales_Channel', 'Vintage', 'Response'],\n",
              "      dtype='object')"
            ]
          },
          "metadata": {},
          "execution_count": 523
        }
      ]
    },
    {
      "cell_type": "code",
      "source": [
        "def remove_outliers2(df,continuous_col=[]):\n",
        "\n",
        "  if len(continuous_col)==0:\n",
        "\n",
        "   continuous_col=df.describe().columns\n",
        "  df[continuous_col].boxplot(rot=90)\n",
        "  plt.title(\"before removing outliers\",)\n",
        "  plt.show()\n",
        "  \n",
        "  for c in continuous_col:\n",
        "    df.index=np.arange(0,df.shape[0])\n",
        "    Q1=np.quantile(df[c],0.25)\n",
        "    Q3=np.quantile(df[c],0.75)\n",
        "    IQR= Q3 - Q1\n",
        "    upper=np.where(df[c]>=(Q3+1.5*IQR))[0]\n",
        "    #print(upper[0])\n",
        "    lower=np.where(df[c]<=(Q1-1.5*IQR))[0]   #it will be a tuple and we require a numpy array which is at it's first index.\n",
        "    #print(lower)\n",
        "    outliers_idx=np.unique(np.append(upper,lower)) \n",
        "    df.drop(outliers_idx, inplace = True) \n",
        "    \n",
        "    #df.loc[upper][c]=Q3\n",
        "    #df.loc[lower][c]=Q1\n",
        "     \n",
        "  df[continuous_col].boxplot(rot=90)\n",
        "  plt.title(\"after removing outliers\",)\n",
        "  plt.show()\n",
        "  return df"
      ],
      "metadata": {
        "id": "YNN3brlhdgzq"
      },
      "execution_count": 524,
      "outputs": []
    },
    {
      "cell_type": "code",
      "source": [
        "insurance.shape"
      ],
      "metadata": {
        "colab": {
          "base_uri": "https://localhost:8080/"
        },
        "id": "i7q1G6Oed7Da",
        "outputId": "0ad007ee-c4b4-43e1-de99-e61addf26878"
      },
      "execution_count": 525,
      "outputs": [
        {
          "output_type": "execute_result",
          "data": {
            "text/plain": [
              "(381109, 12)"
            ]
          },
          "metadata": {},
          "execution_count": 525
        }
      ]
    },
    {
      "cell_type": "code",
      "source": [
        "insurance = remove_outliers2(insurance,[\"Annual_Premium\"])"
      ],
      "metadata": {
        "colab": {
          "base_uri": "https://localhost:8080/",
          "height": 695
        },
        "id": "m1hvM0JJdn5e",
        "outputId": "cd40c782-8b90-4833-96a5-32604198a245"
      },
      "execution_count": 526,
      "outputs": [
        {
          "output_type": "display_data",
          "data": {
            "text/plain": [
              "<Figure size 432x288 with 1 Axes>"
            ],
            "image/png": "[encoded data removed]"
          },
          "metadata": {
            "needs_background": "light"
          }
        },
        {
          "output_type": "display_data",
          "data": {
            "text/plain": [
              "<Figure size 432x288 with 1 Axes>"
            ],
            "image/png": "[encoded data removed]"
          },
          "metadata": {
            "needs_background": "light"
          }
        }
      ]
    },
    {
      "cell_type": "code",
      "source": [
        "insurance.shape"
      ],
      "metadata": {
        "colab": {
          "base_uri": "https://localhost:8080/"
        },
        "id": "bBVe902fd6na",
        "outputId": "b8510a1d-782f-48e2-b89d-f53dbdc73509"
      },
      "execution_count": 527,
      "outputs": [
        {
          "output_type": "execute_result",
          "data": {
            "text/plain": [
              "(370789, 12)"
            ]
          },
          "metadata": {},
          "execution_count": 527
        }
      ]
    },
    {
      "cell_type": "code",
      "source": [
        "insurance_describe=insurance.describe()  #later we have to change some columns so for some information is required for analysis so we store this result\n",
        "insurance_describe"
      ],
      "metadata": {
        "colab": {
          "base_uri": "https://localhost:8080/",
          "height": 300
        },
        "outputId": "00df36fd-ea6c-41f3-b431-63e3a9812a4a",
        "id": "NvMb8g5YcSIT"
      },
      "execution_count": 528,
      "outputs": [
        {
          "output_type": "execute_result",
          "data": {
            "text/plain": [
              "                  id    Region_Code  Previously_Insured  Annual_Premium  \\\n",
              "count  370789.000000  370789.000000       370789.000000   370789.000000   \n",
              "mean   190534.855484      26.437281            0.459666    29264.643973   \n",
              "std    110036.802591      13.310391            0.498371    14743.056656   \n",
              "min         1.000000       0.000000            0.000000     2630.000000   \n",
              "25%     95219.000000      15.000000            0.000000    24102.000000   \n",
              "50%    190529.000000      28.000000            0.000000    31319.000000   \n",
              "75%    285823.000000      36.000000            1.000000    38596.000000   \n",
              "max    381109.000000      52.000000            1.000000    61892.000000   \n",
              "\n",
              "       Policy_Sales_Channel        Vintage       Response  \n",
              "count         370789.000000  370789.000000  370789.000000  \n",
              "mean             112.542923     154.345442       0.121781  \n",
              "std               54.039616      83.670478       0.327033  \n",
              "min                1.000000      10.000000       0.000000  \n",
              "25%               30.000000      82.000000       0.000000  \n",
              "50%              151.000000     154.000000       0.000000  \n",
              "75%              152.000000     227.000000       0.000000  \n",
              "max              163.000000     299.000000       1.000000  "
            ],
            "text/html": [
              "\n",
              "  <div id=\"df-64b26b0e-fb23-45ff-9dbc-9a49f90ccbbe\">\n",
              "    <div class=\"colab-df-container\">\n",
              "      <div>\n",
              "<style scoped>\n",
              "    .dataframe tbody tr th:only-of-type {\n",
              "        vertical-align: middle;\n",
              "    }\n",
              "\n",
              "    .dataframe tbody tr th {\n",
              "        vertical-align: top;\n",
              "    }\n",
              "\n",
              "    .dataframe thead th {\n",
              "        text-align: right;\n",
              "    }\n",
              "</style>\n",
              "<table border=\"1\" class=\"dataframe\">\n",
              "  <thead>\n",
              "    <tr style=\"text-align: right;\">\n",
              "      <th></th>\n",
              "      <th>id</th>\n",
              "      <th>Region_Code</th>\n",
              "      <th>Previously_Insured</th>\n",
              "      <th>Annual_Premium</th>\n",
              "      <th>Policy_Sales_Channel</th>\n",
              "      <th>Vintage</th>\n",
              "      <th>Response</th>\n",
              "    </tr>\n",
              "  </thead>\n",
              "  <tbody>\n",
              "    <tr>\n",
              "      <th>count</th>\n",
              "      <td>370789.000000</td>\n",
              "      <td>370789.000000</td>\n",
              "      <td>370789.000000</td>\n",
              "      <td>370789.000000</td>\n",
              "      <td>370789.000000</td>\n",
              "      <td>370789.000000</td>\n",
              "      <td>370789.000000</td>\n",
              "    </tr>\n",
              "    <tr>\n",
              "      <th>mean</th>\n",
              "      <td>190534.855484</td>\n",
              "      <td>26.437281</td>\n",
              "      <td>0.459666</td>\n",
              "      <td>29264.643973</td>\n",
              "      <td>112.542923</td>\n",
              "      <td>154.345442</td>\n",
              "      <td>0.121781</td>\n",
              "    </tr>\n",
              "    <tr>\n",
              "      <th>std</th>\n",
              "      <td>110036.802591</td>\n",
              "      <td>13.310391</td>\n",
              "      <td>0.498371</td>\n",
              "      <td>14743.056656</td>\n",
              "      <td>54.039616</td>\n",
              "      <td>83.670478</td>\n",
              "      <td>0.327033</td>\n",
              "    </tr>\n",
              "    <tr>\n",
              "      <th>min</th>\n",
              "      <td>1.000000</td>\n",
              "      <td>0.000000</td>\n",
              "      <td>0.000000</td>\n",
              "      <td>2630.000000</td>\n",
              "      <td>1.000000</td>\n",
              "      <td>10.000000</td>\n",
              "      <td>0.000000</td>\n",
              "    </tr>\n",
              "    <tr>\n",
              "      <th>25%</th>\n",
              "      <td>95219.000000</td>\n",
              "      <td>15.000000</td>\n",
              "      <td>0.000000</td>\n",
              "      <td>24102.000000</td>\n",
              "      <td>30.000000</td>\n",
              "      <td>82.000000</td>\n",
              "      <td>0.000000</td>\n",
              "    </tr>\n",
              "    <tr>\n",
              "      <th>50%</th>\n",
              "      <td>190529.000000</td>\n",
              "      <td>28.000000</td>\n",
              "      <td>0.000000</td>\n",
              "      <td>31319.000000</td>\n",
              "      <td>151.000000</td>\n",
              "      <td>154.000000</td>\n",
              "      <td>0.000000</td>\n",
              "    </tr>\n",
              "    <tr>\n",
              "      <th>75%</th>\n",
              "      <td>285823.000000</td>\n",
              "      <td>36.000000</td>\n",
              "      <td>1.000000</td>\n",
              "      <td>38596.000000</td>\n",
              "      <td>152.000000</td>\n",
              "      <td>227.000000</td>\n",
              "      <td>0.000000</td>\n",
              "    </tr>\n",
              "    <tr>\n",
              "      <th>max</th>\n",
              "      <td>381109.000000</td>\n",
              "      <td>52.000000</td>\n",
              "      <td>1.000000</td>\n",
              "      <td>61892.000000</td>\n",
              "      <td>163.000000</td>\n",
              "      <td>299.000000</td>\n",
              "      <td>1.000000</td>\n",
              "    </tr>\n",
              "  </tbody>\n",
              "</table>\n",
              "</div>\n",
              "      <button class=\"colab-df-convert\" onclick=\"convertToInteractive('df-64b26b0e-fb23-45ff-9dbc-9a49f90ccbbe')\"\n",
              "              title=\"Convert this dataframe to an interactive table.\"\n",
              "              style=\"display:none;\">\n",
              "        \n",
              "  <svg xmlns=\"http://www.w3.org/2000/svg\" height=\"24px\"viewBox=\"0 0 24 24\"\n",
              "       width=\"24px\">\n",
              "    <path d=\"M0 0h24v24H0V0z\" fill=\"none\"/>\n",
              "    <path d=\"M18.56 5.44l.94 2.06.94-2.06 2.06-.94-2.06-.94-.94-2.06-.94 2.06-2.06.94zm-11 1L8.5 8.5l.94-2.06 2.06-.94-2.06-.94L8.5 2.5l-.94 2.06-2.06.94zm10 10l.94 2.06.94-2.06 2.06-.94-2.06-.94-.94-2.06-.94 2.06-2.06.94z\"/><path d=\"M17.41 7.96l-1.37-1.37c-.4-.4-.92-.59-1.43-.59-.52 0-1.04.2-1.43.59L10.3 9.45l-7.72 7.72c-.78.78-.78 2.05 0 2.83L4 21.41c.39.39.9.59 1.41.59.51 0 1.02-.2 1.41-.59l7.78-7.78 2.81-2.81c.8-.78.8-2.07 0-2.86zM5.41 20L4 18.59l7.72-7.72 1.47 1.35L5.41 20z\"/>\n",
              "  </svg>\n",
              "      </button>\n",
              "      \n",
              "  <style>\n",
              "    .colab-df-container {\n",
              "      display:flex;\n",
              "      flex-wrap:wrap;\n",
              "      gap: 12px;\n",
              "    }\n",
              "\n",
              "    .colab-df-convert {\n",
              "      background-color: #E8F0FE;\n",
              "      border: none;\n",
              "      border-radius: 50%;\n",
              "      cursor: pointer;\n",
              "      display: none;\n",
              "      fill: #1967D2;\n",
              "      height: 32px;\n",
              "      padding: 0 0 0 0;\n",
              "      width: 32px;\n",
              "    }\n",
              "\n",
              "    .colab-df-convert:hover {\n",
              "      background-color: #E2EBFA;\n",
              "      box-shadow: 0px 1px 2px rgba(60, 64, 67, 0.3), 0px 1px 3px 1px rgba(60, 64, 67, 0.15);\n",
              "      fill: #174EA6;\n",
              "    }\n",
              "\n",
              "    [theme=dark] .colab-df-convert {\n",
              "      background-color: #3B4455;\n",
              "      fill: #D2E3FC;\n",
              "    }\n",
              "\n",
              "    [theme=dark] .colab-df-convert:hover {\n",
              "      background-color: #434B5C;\n",
              "      box-shadow: 0px 1px 3px 1px rgba(0, 0, 0, 0.15);\n",
              "      filter: drop-shadow(0px 1px 2px rgba(0, 0, 0, 0.3));\n",
              "      fill: #FFFFFF;\n",
              "    }\n",
              "  </style>\n",
              "\n",
              "      <script>\n",
              "        const buttonEl =\n",
              "          document.querySelector('#df-64b26b0e-fb23-45ff-9dbc-9a49f90ccbbe button.colab-df-convert');\n",
              "        buttonEl.style.display =\n",
              "          google.colab.kernel.accessAllowed ? 'block' : 'none';\n",
              "\n",
              "        async function convertToInteractive(key) {\n",
              "          const element = document.querySelector('#df-64b26b0e-fb23-45ff-9dbc-9a49f90ccbbe');\n",
              "          const dataTable =\n",
              "            await google.colab.kernel.invokeFunction('convertToInteractive',\n",
              "                                                     [key], {});\n",
              "          if (!dataTable) return;\n",
              "\n",
              "          const docLinkHtml = 'Like what you see? Visit the ' +\n",
              "            '<a target=\"_blank\" href=https://colab.research.google.com/notebooks/data_table.ipynb>data table notebook</a>'\n",
              "            + ' to learn more about interactive tables.';\n",
              "          element.innerHTML = '';\n",
              "          dataTable['output_type'] = 'display_data';\n",
              "          await google.colab.output.renderOutput(dataTable, element);\n",
              "          const docLink = document.createElement('div');\n",
              "          docLink.innerHTML = docLinkHtml;\n",
              "          element.appendChild(docLink);\n",
              "        }\n",
              "      </script>\n",
              "    </div>\n",
              "  </div>\n",
              "  "
            ]
          },
          "metadata": {},
          "execution_count": 528
        }
      ]
    },
    {
      "cell_type": "markdown",
      "source": [
        "##Feature Engineering"
      ],
      "metadata": {
        "id": "hxRiNcgRjh20"
      }
    },
    {
      "cell_type": "markdown",
      "source": [
        "###Some Basic Requirements"
      ],
      "metadata": {
        "id": "56WthuUqtS78"
      }
    },
    {
      "cell_type": "code",
      "source": [
        "column_drop=[]  #here we will append all the columns one-by-one which are needed to drop so drop function needs not to be executed again and again"
      ],
      "metadata": {
        "id": "bM3B3ENSmx6p"
      },
      "execution_count": 529,
      "outputs": []
    },
    {
      "cell_type": "code",
      "source": [
        "insurance.columns"
      ],
      "metadata": {
        "colab": {
          "base_uri": "https://localhost:8080/"
        },
        "id": "ECPdewyvpEAW",
        "outputId": "6c0fed94-1631-4984-b70e-b9fa82f789d8"
      },
      "execution_count": 530,
      "outputs": [
        {
          "output_type": "execute_result",
          "data": {
            "text/plain": [
              "Index(['id', 'Gender', 'Age', 'Driving_License', 'Region_Code',\n",
              "       'Previously_Insured', 'Vehicle_Age', 'Vehicle_Damage', 'Annual_Premium',\n",
              "       'Policy_Sales_Channel', 'Vintage', 'Response'],\n",
              "      dtype='object')"
            ]
          },
          "metadata": {},
          "execution_count": 530
        }
      ]
    },
    {
      "cell_type": "code",
      "source": [
        "#now we note that all the features in our data are numerical\n",
        "continuous_features=[\"Annual_Premium\",\"Vintage\",'Age']\n",
        "categorical_features=[ 'Gender', 'Driving_License', 'Region_Code','Previously_Insured', 'Vehicle_Age', 'Vehicle_Damage', 'Policy_Sales_Channel', 'Response']"
      ],
      "metadata": {
        "id": "ydZleJpq7yLr"
      },
      "execution_count": 531,
      "outputs": []
    },
    {
      "cell_type": "code",
      "source": [
        "def percentage_response(df,indep_col,dep_col):\n",
        "  col_response=pd.crosstab(df[indep_col],df[dep_col])\n",
        "  col_response_percentage=col_response.copy()\n",
        "  total = col_response[0]+col_response[1]\n",
        "  col_response_percentage[0] = round((col_response[0]/total)*100,2)\n",
        "  col_response_percentage[1] = round((col_response[1]/total)*100,2)\n",
        "  col_response_percentage.sort_values(by=1,inplace=True,ascending=False)\n",
        "  return col_response_percentage\n",
        "    \n"
      ],
      "metadata": {
        "id": "sB_IsLWPHbsM"
      },
      "execution_count": 532,
      "outputs": []
    },
    {
      "cell_type": "markdown",
      "source": [
        "###Encoding Categorical Variables"
      ],
      "metadata": {
        "id": "-uNmsyw8n6re"
      }
    },
    {
      "cell_type": "code",
      "source": [
        "#changing gender and vehical damage to 0,1:\n",
        "\"\"\"\n",
        "in gender\n",
        "0- male\n",
        "1- female\n",
        "\n",
        "in Vehical_Damage\n",
        "0- no\n",
        "1- yes\n",
        "\n",
        "\"\"\""
      ],
      "metadata": {
        "colab": {
          "base_uri": "https://localhost:8080/",
          "height": 35
        },
        "id": "HntCF5-Tjhi6",
        "outputId": "309d347f-df44-486f-cf47-d72c7211a7e2"
      },
      "execution_count": 533,
      "outputs": [
        {
          "output_type": "execute_result",
          "data": {
            "text/plain": [
              "'\\nin gender\\n0- male\\n1- female\\n\\nin Vehical_Damage\\n0- no\\n1- yes\\n\\n'"
            ],
            "application/vnd.google.colaboratory.intrinsic+json": {
              "type": "string"
            }
          },
          "metadata": {},
          "execution_count": 533
        }
      ]
    },
    {
      "cell_type": "code",
      "source": [
        "gender_dict={\"Male\":0,\"Female\":1}\n",
        "for c in insurance[\"Gender\"].unique():\n",
        "  insurance[\"Gender\"][insurance[\"Gender\"]==c]=gender_dict[c]\n"
      ],
      "metadata": {
        "colab": {
          "base_uri": "https://localhost:8080/"
        },
        "id": "-smhSL01j9Ef",
        "outputId": "4d568d5e-4e74-48fe-a71c-a1d403f6dc5f"
      },
      "execution_count": 534,
      "outputs": [
        {
          "output_type": "stream",
          "name": "stderr",
          "text": [
            "/usr/local/lib/python3.7/dist-packages/ipykernel_launcher.py:3: SettingWithCopyWarning: \n",
            "A value is trying to be set on a copy of a slice from a DataFrame\n",
            "\n",
            "See the caveats in the documentation: https://pandas.pydata.org/pandas-docs/stable/user_guide/indexing.html#returning-a-view-versus-a-copy\n",
            "  This is separate from the ipykernel package so we can avoid doing imports until\n"
          ]
        }
      ]
    },
    {
      "cell_type": "code",
      "source": [
        "damage_dict={\"Yes\":1,\"No\":0}\n",
        "for c in insurance[\"Vehicle_Damage\"].unique():\n",
        "  insurance[\"Vehicle_Damage\"][insurance[\"Vehicle_Damage\"]==c]=damage_dict[c]"
      ],
      "metadata": {
        "colab": {
          "base_uri": "https://localhost:8080/"
        },
        "id": "WELTIaOFj84O",
        "outputId": "f146e191-9304-4e1b-8880-608b2768f2bc"
      },
      "execution_count": 535,
      "outputs": [
        {
          "output_type": "stream",
          "name": "stderr",
          "text": [
            "/usr/local/lib/python3.7/dist-packages/ipykernel_launcher.py:3: SettingWithCopyWarning: \n",
            "A value is trying to be set on a copy of a slice from a DataFrame\n",
            "\n",
            "See the caveats in the documentation: https://pandas.pydata.org/pandas-docs/stable/user_guide/indexing.html#returning-a-view-versus-a-copy\n",
            "  This is separate from the ipykernel package so we can avoid doing imports until\n"
          ]
        }
      ]
    },
    {
      "cell_type": "code",
      "source": [
        "#now changing vehical age, so checking the  different categories it is having\n",
        "insurance[\"Vehicle_Age\"].unique()"
      ],
      "metadata": {
        "colab": {
          "base_uri": "https://localhost:8080/"
        },
        "id": "NgZGmG5J0nGW",
        "outputId": "2256123a-67cd-4aff-d49e-6d588e985336"
      },
      "execution_count": 536,
      "outputs": [
        {
          "output_type": "execute_result",
          "data": {
            "text/plain": [
              "array(['> 2 Years', '1-2 Year', '< 1 Year'], dtype=object)"
            ]
          },
          "metadata": {},
          "execution_count": 536
        }
      ]
    },
    {
      "cell_type": "markdown",
      "source": [
        "from above we note that vehical age is categorized into three types:\n",
        "0- age is less than 1 year\n",
        "1- age is between 1-2 years\n",
        "2- age is greater than 2 years\n",
        "\n",
        "so for this feature we will do ordinal encoding "
      ],
      "metadata": {
        "id": "zBZ_TnM_1Er2"
      }
    },
    {
      "cell_type": "code",
      "source": [
        "age_dict={\"< 1 Year\":0,\"1-2 Year\":1,\"> 2 Years\":2}"
      ],
      "metadata": {
        "id": "q3w9d_Mb3DVj"
      },
      "execution_count": 537,
      "outputs": []
    },
    {
      "cell_type": "code",
      "source": [
        "insurance[\"Vehicle_Age\"]=insurance[\"Vehicle_Age\"].replace(age_dict)"
      ],
      "metadata": {
        "id": "GSMwXgmy1DrM"
      },
      "execution_count": 538,
      "outputs": []
    },
    {
      "cell_type": "code",
      "source": [
        "#now all the columns in data are integer columns so changing their dtype\n",
        "for c in insurance.columns:\n",
        "  insurance[c]=pd.to_numeric(insurance[c])"
      ],
      "metadata": {
        "id": "6PMIxOOd7ySu"
      },
      "execution_count": 539,
      "outputs": []
    },
    {
      "cell_type": "code",
      "source": [
        "insurance.info()"
      ],
      "metadata": {
        "colab": {
          "base_uri": "https://localhost:8080/"
        },
        "id": "QGgXC0kl7yQ-",
        "outputId": "79b0d6b1-9ed2-4947-fb23-f9a5ae1ca868"
      },
      "execution_count": 445,
      "outputs": [
        {
          "output_type": "stream",
          "name": "stdout",
          "text": [
            "<class 'pandas.core.frame.DataFrame'>\n",
            "Int64Index: 370789 entries, 0 to 381108\n",
            "Data columns (total 12 columns):\n",
            " #   Column                Non-Null Count   Dtype  \n",
            "---  ------                --------------   -----  \n",
            " 0   id                    370789 non-null  int64  \n",
            " 1   Gender                370789 non-null  int64  \n",
            " 2   Age                   370789 non-null  int64  \n",
            " 3   Driving_License       370789 non-null  int64  \n",
            " 4   Region_Code           370789 non-null  float64\n",
            " 5   Previously_Insured    370789 non-null  int64  \n",
            " 6   Vehicle_Age           370789 non-null  int64  \n",
            " 7   Vehicle_Damage        370789 non-null  int64  \n",
            " 8   Annual_Premium        370789 non-null  float64\n",
            " 9   Policy_Sales_Channel  370789 non-null  float64\n",
            " 10  Vintage               370789 non-null  int64  \n",
            " 11  Response              370789 non-null  int64  \n",
            "dtypes: float64(3), int64(9)\n",
            "memory usage: 36.8 MB\n"
          ]
        }
      ]
    },
    {
      "cell_type": "markdown",
      "source": [
        "###Feature Engineering on Categorical Data"
      ],
      "metadata": {
        "id": "WRuCLe8coWHO"
      }
    },
    {
      "cell_type": "markdown",
      "source": [
        "####Basic Information"
      ],
      "metadata": {
        "id": "ehEfhkPhvJx-"
      }
    },
    {
      "cell_type": "code",
      "source": [
        "#counting the number of unique values in each feature\n",
        "for c in categorical_features:\n",
        "  print(f\"number of unique values in column {c}: {(insurance[c].unique()).size}\")"
      ],
      "metadata": {
        "colab": {
          "base_uri": "https://localhost:8080/"
        },
        "id": "eJ49qJLU7yJq",
        "outputId": "01ad9093-7191-46fd-e30c-1f7c9135c489"
      },
      "execution_count": 446,
      "outputs": [
        {
          "output_type": "stream",
          "name": "stdout",
          "text": [
            "number of unique values in column Gender: 2\n",
            "number of unique values in column Driving_License: 2\n",
            "number of unique values in column Region_Code: 53\n",
            "number of unique values in column Previously_Insured: 2\n",
            "number of unique values in column Vehicle_Age: 3\n",
            "number of unique values in column Vehicle_Damage: 2\n",
            "number of unique values in column Policy_Sales_Channel: 155\n",
            "number of unique values in column Response: 2\n"
          ]
        }
      ]
    },
    {
      "cell_type": "markdown",
      "source": [
        "- **id**: the column id is of no use as it is just showing the id of a customer which is unique for every row, so it does'nt effect our result\n",
        "- Gender: no feature engineering required\n",
        "- **Region Code**: In this we have to observe some important points to check how this feature is useful.\n",
        "- Previously_Insured: no feature engineering required\n",
        "- Vehical_Age: no feature engineering required\n",
        "- Vehical_Damage: no feature engineering requiredd\n",
        "- **Policy_sales_channels**: There are total 155 policy sales channels, let's check if there is any particular order or we have to perform some feature engineering\n",
        "- response: no feature engineering required"
      ],
      "metadata": {
        "id": "1unsbX7N9s9l"
      }
    },
    {
      "cell_type": "code",
      "source": [
        "column_drop.append(\"id\")"
      ],
      "metadata": {
        "id": "A-k1FAs1-gcq"
      },
      "execution_count": 447,
      "outputs": []
    },
    {
      "cell_type": "code",
      "source": [
        "#value_counts for categorical features\n",
        "\n",
        "for c in categorical_features:\n",
        "  print(f\"for column {c}:\\n{insurance[c].value_counts()}\",\"\\n\")"
      ],
      "metadata": {
        "colab": {
          "base_uri": "https://localhost:8080/"
        },
        "id": "NhhTxw5qX1oA",
        "outputId": "9b01d173-0248-4c03-9f2b-1440f5c01be4"
      },
      "execution_count": 448,
      "outputs": [
        {
          "output_type": "stream",
          "name": "stdout",
          "text": [
            "for column Gender:\n",
            "0    200319\n",
            "1    170470\n",
            "Name: Gender, dtype: int64 \n",
            "\n",
            "for column Driving_License:\n",
            "1    370026\n",
            "0       763\n",
            "Name: Driving_License, dtype: int64 \n",
            "\n",
            "for column Region_Code:\n",
            "28.0    99741\n",
            "8.0     32069\n",
            "46.0    19628\n",
            "41.0    17941\n",
            "15.0    13178\n",
            "30.0    12179\n",
            "29.0    10871\n",
            "50.0    10188\n",
            "3.0      9172\n",
            "11.0     9116\n",
            "36.0     8700\n",
            "33.0     7613\n",
            "47.0     7418\n",
            "35.0     6883\n",
            "6.0      6273\n",
            "45.0     5571\n",
            "37.0     5483\n",
            "18.0     5115\n",
            "48.0     4681\n",
            "14.0     4647\n",
            "39.0     4558\n",
            "10.0     4364\n",
            "21.0     4257\n",
            "2.0      4038\n",
            "13.0     4029\n",
            "12.0     3188\n",
            "7.0      3168\n",
            "9.0      3094\n",
            "27.0     2816\n",
            "32.0     2786\n",
            "43.0     2616\n",
            "26.0     2584\n",
            "17.0     2535\n",
            "25.0     2491\n",
            "24.0     2408\n",
            "0.0      2019\n",
            "38.0     2006\n",
            "16.0     2006\n",
            "31.0     1960\n",
            "23.0     1958\n",
            "20.0     1934\n",
            "49.0     1824\n",
            "4.0      1796\n",
            "34.0     1656\n",
            "19.0     1534\n",
            "22.0     1298\n",
            "40.0     1285\n",
            "5.0      1275\n",
            "1.0      1008\n",
            "44.0      805\n",
            "42.0      590\n",
            "52.0      262\n",
            "51.0      174\n",
            "Name: Region_Code, dtype: int64 \n",
            "\n",
            "for column Previously_Insured:\n",
            "0    200350\n",
            "1    170439\n",
            "Name: Previously_Insured, dtype: int64 \n",
            "\n",
            "for column Vehicle_Age:\n",
            "1    194212\n",
            "0    161547\n",
            "2     15030\n",
            "Name: Vehicle_Age, dtype: int64 \n",
            "\n",
            "for column Vehicle_Damage:\n",
            "1    186561\n",
            "0    184228\n",
            "Name: Vehicle_Damage, dtype: int64 \n",
            "\n",
            "for column Policy_Sales_Channel:\n",
            "152.0    132168\n",
            "26.0      76375\n",
            "124.0     71902\n",
            "160.0     21489\n",
            "156.0     10591\n",
            "          ...  \n",
            "149.0         1\n",
            "43.0          1\n",
            "144.0         1\n",
            "143.0         1\n",
            "41.0          1\n",
            "Name: Policy_Sales_Channel, Length: 155, dtype: int64 \n",
            "\n",
            "for column Response:\n",
            "0    325634\n",
            "1     45155\n",
            "Name: Response, dtype: int64 \n",
            "\n"
          ]
        }
      ]
    },
    {
      "cell_type": "markdown",
      "source": [
        "####Feature Engineering on Region_Code column"
      ],
      "metadata": {
        "id": "hMpf0oXnsilL"
      }
    },
    {
      "cell_type": "code",
      "source": [
        "insurance[\"Region_Code\"].value_counts()  #here no region code have very less value, so we cannot include others here "
      ],
      "metadata": {
        "colab": {
          "base_uri": "https://localhost:8080/"
        },
        "id": "rcY3QLw8siYC",
        "outputId": "e13a8a4a-5e03-4a5d-d3e0-6f46e07fb800"
      },
      "execution_count": 449,
      "outputs": [
        {
          "output_type": "execute_result",
          "data": {
            "text/plain": [
              "28.0    99741\n",
              "8.0     32069\n",
              "46.0    19628\n",
              "41.0    17941\n",
              "15.0    13178\n",
              "30.0    12179\n",
              "29.0    10871\n",
              "50.0    10188\n",
              "3.0      9172\n",
              "11.0     9116\n",
              "36.0     8700\n",
              "33.0     7613\n",
              "47.0     7418\n",
              "35.0     6883\n",
              "6.0      6273\n",
              "45.0     5571\n",
              "37.0     5483\n",
              "18.0     5115\n",
              "48.0     4681\n",
              "14.0     4647\n",
              "39.0     4558\n",
              "10.0     4364\n",
              "21.0     4257\n",
              "2.0      4038\n",
              "13.0     4029\n",
              "12.0     3188\n",
              "7.0      3168\n",
              "9.0      3094\n",
              "27.0     2816\n",
              "32.0     2786\n",
              "43.0     2616\n",
              "26.0     2584\n",
              "17.0     2535\n",
              "25.0     2491\n",
              "24.0     2408\n",
              "0.0      2019\n",
              "38.0     2006\n",
              "16.0     2006\n",
              "31.0     1960\n",
              "23.0     1958\n",
              "20.0     1934\n",
              "49.0     1824\n",
              "4.0      1796\n",
              "34.0     1656\n",
              "19.0     1534\n",
              "22.0     1298\n",
              "40.0     1285\n",
              "5.0      1275\n",
              "1.0      1008\n",
              "44.0      805\n",
              "42.0      590\n",
              "52.0      262\n",
              "51.0      174\n",
              "Name: Region_Code, dtype: int64"
            ]
          },
          "metadata": {},
          "execution_count": 449
        }
      ]
    },
    {
      "cell_type": "code",
      "source": [
        "region_response_percentage=percentage_response(insurance,\"Region_Code\",\"Response\")\n"
      ],
      "metadata": {
        "id": "f9a1skihJDtY"
      },
      "execution_count": 450,
      "outputs": []
    },
    {
      "cell_type": "code",
      "source": [
        "region_Response_dict=dict(region_response_percentage[1])\n",
        "insurance[\"Region_Response\"]=insurance[\"Region_Code\"].replace(region_Response_dict)\n"
      ],
      "metadata": {
        "id": "CeuOBh37uPtN"
      },
      "execution_count": 451,
      "outputs": []
    },
    {
      "cell_type": "code",
      "source": [
        "column_drop.append(\"Region_Code\")\n",
        "continuous_features.append(\"Region_Response\")\n",
        "categorical_features.remove(\"Region_Code\")"
      ],
      "metadata": {
        "id": "SZL-i3Jd32yi"
      },
      "execution_count": 452,
      "outputs": []
    },
    {
      "cell_type": "markdown",
      "source": [
        "####Policy Sales Channel\n",
        "From value counts we observe that there is no particular trend in the column, also some of the channels have very less contribution"
      ],
      "metadata": {
        "id": "WbFXf5g3nQ48"
      }
    },
    {
      "cell_type": "code",
      "source": [
        "#from above in policy sales channel we note that at last channels are very less active channels at beginning are more useful\n",
        "\n",
        "channels=insurance[\"Policy_Sales_Channel\"].value_counts()\n",
        "lesser_insurance=channels.index[channels.values<100]\n",
        "\n",
        "#these all indexes have less than 100 contribution which is very less as compared to higher contributions as be observed from above so let's consider\n",
        "#these all as 1 channel with index  0.0\n",
        "\n",
        "to_0=[True if c in lesser_insurance else False for c in insurance[\"Policy_Sales_Channel\"] ]\n",
        "insurance[\"Policy_Sales_Channel\"][to_0]=0\n"
      ],
      "metadata": {
        "colab": {
          "base_uri": "https://localhost:8080/"
        },
        "id": "wbPkDZe3_ne8",
        "outputId": "434f173f-5b1c-42d1-bf62-a06aca825fee"
      },
      "execution_count": 453,
      "outputs": [
        {
          "output_type": "stream",
          "name": "stderr",
          "text": [
            "/usr/local/lib/python3.7/dist-packages/ipykernel_launcher.py:10: SettingWithCopyWarning: \n",
            "A value is trying to be set on a copy of a slice from a DataFrame\n",
            "\n",
            "See the caveats in the documentation: https://pandas.pydata.org/pandas-docs/stable/user_guide/indexing.html#returning-a-view-versus-a-copy\n",
            "  # Remove the CWD from sys.path while we load stuff.\n"
          ]
        }
      ]
    },
    {
      "cell_type": "code",
      "source": [
        "insurance[\"Policy_Sales_Channel\"].value_counts()"
      ],
      "metadata": {
        "colab": {
          "base_uri": "https://localhost:8080/"
        },
        "id": "PsD4rpEhDc82",
        "outputId": "e514b4f1-1a51-4202-d5ab-e3d14fa45797"
      },
      "execution_count": 454,
      "outputs": [
        {
          "output_type": "execute_result",
          "data": {
            "text/plain": [
              "152.0    132168\n",
              "26.0      76375\n",
              "124.0     71902\n",
              "160.0     21489\n",
              "156.0     10591\n",
              "          ...  \n",
              "127.0       105\n",
              "113.0       104\n",
              "119.0       101\n",
              "135.0       101\n",
              "54.0        100\n",
              "Name: Policy_Sales_Channel, Length: 63, dtype: int64"
            ]
          },
          "metadata": {},
          "execution_count": 454
        }
      ]
    },
    {
      "cell_type": "markdown",
      "source": [
        "Now we have added a new column named Channel Response which shows the percentage of customers for a given policy channel who takes vehical insurance, as there are so many policy channels and there is no particular order so after adding this useful column we will drop policy channel column"
      ],
      "metadata": {
        "id": "N-mXXeWaluK4"
      }
    },
    {
      "cell_type": "code",
      "source": [
        "channel_response_percentage=percentage_response(insurance,\"Policy_Sales_Channel\",\"Response\")"
      ],
      "metadata": {
        "id": "J5YCrsFJUZjT"
      },
      "execution_count": 455,
      "outputs": []
    },
    {
      "cell_type": "code",
      "source": [
        "Channel_Response_dict=dict(channel_response_percentage[1])\n",
        "insurance[\"Channel_Response\"]=insurance[\"Policy_Sales_Channel\"].replace(Channel_Response_dict)\n",
        "column_drop.append(\"Policy_Sales_Channel\")\n",
        "continuous_features.append(\"Channel_Response\")\n",
        "categorical_features.remove(\"Policy_Sales_Channel\")"
      ],
      "metadata": {
        "id": "O15Va6FSV1zi"
      },
      "execution_count": 456,
      "outputs": []
    },
    {
      "cell_type": "markdown",
      "source": [
        "###Feature Engineering on Continuous Attributes"
      ],
      "metadata": {
        "id": "E6siNLHMsCsA"
      }
    },
    {
      "cell_type": "markdown",
      "source": [
        "####Basic Understanding"
      ],
      "metadata": {
        "id": "kF2Ygc80LzH_"
      }
    },
    {
      "cell_type": "code",
      "source": [
        "continuous_features"
      ],
      "metadata": {
        "colab": {
          "base_uri": "https://localhost:8080/"
        },
        "id": "qVVqoASjsKP8",
        "outputId": "520b116b-f887-44f1-df79-be12b024d8c6"
      },
      "execution_count": 457,
      "outputs": [
        {
          "output_type": "execute_result",
          "data": {
            "text/plain": [
              "['Annual_Premium', 'Vintage', 'Age', 'Region_Response', 'Channel_Response']"
            ]
          },
          "metadata": {},
          "execution_count": 457
        }
      ]
    },
    {
      "cell_type": "code",
      "source": [
        "insurance[continuous_features].boxplot(rot=90)   #here we note that we do not have any outlier in our data"
      ],
      "metadata": {
        "colab": {
          "base_uri": "https://localhost:8080/",
          "height": 0
        },
        "id": "AXMlgwCNsKLs",
        "outputId": "9740e0dd-772d-4e2a-9c5f-008a56520baa"
      },
      "execution_count": 458,
      "outputs": [
        {
          "output_type": "execute_result",
          "data": {
            "text/plain": [
              "<matplotlib.axes._subplots.AxesSubplot at 0x7f3f45731410>"
            ]
          },
          "metadata": {},
          "execution_count": 458
        },
        {
          "output_type": "display_data",
          "data": {
            "text/plain": [
              "<Figure size 432x288 with 1 Axes>"
            ],
            "image/png": "[encoded data removed]"
          },
          "metadata": {
            "needs_background": "light"
          }
        }
      ]
    },
    {
      "cell_type": "code",
      "source": [
        "for c in continuous_features:\n",
        "  print(f\"number of unique values in column {c}: {(insurance[c].unique()).size}\")"
      ],
      "metadata": {
        "colab": {
          "base_uri": "https://localhost:8080/"
        },
        "id": "Q_bgjtVRw5OH",
        "outputId": "7dcafe13-c5aa-461a-f627-a69c802f8c01"
      },
      "execution_count": 459,
      "outputs": [
        {
          "output_type": "stream",
          "name": "stdout",
          "text": [
            "number of unique values in column Annual_Premium: 41667\n",
            "number of unique values in column Vintage: 290\n",
            "number of unique values in column Age: 66\n",
            "number of unique values in column Region_Response: 51\n",
            "number of unique values in column Channel_Response: 62\n"
          ]
        }
      ]
    },
    {
      "cell_type": "markdown",
      "source": [
        "- Annual_Premium: We will normalize this column\n",
        "- vintage: observe if there is any correlation with response or not\n",
        "- Age: observe if there is any correlation with response or not, if we are able to note some trend then we will divide ages in some categories and make age a categorical column.\n",
        "- We will do nothing with Region_Responses and Channel_Responses as we have added them using feature engineering and there is no need to make any changes"
      ],
      "metadata": {
        "id": "xcawU3MaxCB1"
      }
    },
    {
      "cell_type": "markdown",
      "source": [
        "####Normalising Annual_Premium"
      ],
      "metadata": {
        "id": "2AT58Wp6y8bW"
      }
    },
    {
      "cell_type": "code",
      "execution_count": 460,
      "metadata": {
        "id": "He4__3iv2ZH_"
      },
      "outputs": [],
      "source": [
        "def normalization(df,col_list):\n",
        "\n",
        "  for c1 in col_list:\n",
        "    try:\n",
        "      mx=df.max()[c1]\n",
        "      mn=df.min()[c1]\n",
        "      df[c1]=(df[c1]-mn)/(mx-mn)\n",
        "      col_list.remove(c1)    #so that c1 do  not get normalized again and again\n",
        "    except:\n",
        "      print(f\"{c1} is not a numerical column, so it can not be normalized\")\n",
        "      col_list.remove(c1)\n",
        "      normalization(df,col_list)\n",
        "  return df"
      ]
    },
    {
      "cell_type": "code",
      "source": [
        "insurance=normalization(insurance,[\"Annual_Premium\"])"
      ],
      "metadata": {
        "id": "my1KnIQWw1fB"
      },
      "execution_count": 461,
      "outputs": []
    },
    {
      "cell_type": "markdown",
      "source": [
        "####Vintage"
      ],
      "metadata": {
        "id": "Pf7YxEaX0FId"
      }
    },
    {
      "cell_type": "code",
      "source": [
        "insurance[\"Vintage\"].value_counts()\n",
        "#vintage column is not showing very much variation there are all categories of people, those who are old customers to those who have recently joined."
      ],
      "metadata": {
        "id": "4-Do1KaYw1ZB",
        "colab": {
          "base_uri": "https://localhost:8080/"
        },
        "outputId": "b824a486-618b-4e1f-c653-2d9520fc5d1a"
      },
      "execution_count": 462,
      "outputs": [
        {
          "output_type": "execute_result",
          "data": {
            "text/plain": [
              "256    1382\n",
              "73     1375\n",
              "282    1361\n",
              "126    1355\n",
              "158    1354\n",
              "       ... \n",
              "224    1204\n",
              "89     1201\n",
              "205    1198\n",
              "32     1194\n",
              "277    1179\n",
              "Name: Vintage, Length: 290, dtype: int64"
            ]
          },
          "metadata": {},
          "execution_count": 462
        }
      ]
    },
    {
      "cell_type": "code",
      "source": [
        "percentage_response(insurance,\"Vintage\",\"Response\")\n",
        "#here we note that vintage does not very much affect the percentage or probabililty of person's response so we will drop this column\n"
      ],
      "metadata": {
        "colab": {
          "base_uri": "https://localhost:8080/",
          "height": 0
        },
        "id": "kssA6b9KJ-wn",
        "outputId": "efb9bbd6-1892-4dd6-bcc7-6250e1667e9a"
      },
      "execution_count": 463,
      "outputs": [
        {
          "output_type": "execute_result",
          "data": {
            "text/plain": [
              "Response      0      1\n",
              "Vintage               \n",
              "220       85.44  14.56\n",
              "212       85.63  14.37\n",
              "164       85.70  14.30\n",
              "189       85.78  14.22\n",
              "11        85.86  14.14\n",
              "...         ...    ...\n",
              "78        89.66  10.34\n",
              "156       89.68  10.32\n",
              "273       89.72  10.28\n",
              "245       89.84  10.16\n",
              "80        90.08   9.92\n",
              "\n",
              "[290 rows x 2 columns]"
            ],
            "text/html": [
              "\n",
              "  <div id=\"df-4d497f92-bac7-4575-ab51-1e81b703aec0\">\n",
              "    <div class=\"colab-df-container\">\n",
              "      <div>\n",
              "<style scoped>\n",
              "    .dataframe tbody tr th:only-of-type {\n",
              "        vertical-align: middle;\n",
              "    }\n",
              "\n",
              "    .dataframe tbody tr th {\n",
              "        vertical-align: top;\n",
              "    }\n",
              "\n",
              "    .dataframe thead th {\n",
              "        text-align: right;\n",
              "    }\n",
              "</style>\n",
              "<table border=\"1\" class=\"dataframe\">\n",
              "  <thead>\n",
              "    <tr style=\"text-align: right;\">\n",
              "      <th>Response</th>\n",
              "      <th>0</th>\n",
              "      <th>1</th>\n",
              "    </tr>\n",
              "    <tr>\n",
              "      <th>Vintage</th>\n",
              "      <th></th>\n",
              "      <th></th>\n",
              "    </tr>\n",
              "  </thead>\n",
              "  <tbody>\n",
              "    <tr>\n",
              "      <th>220</th>\n",
              "      <td>85.44</td>\n",
              "      <td>14.56</td>\n",
              "    </tr>\n",
              "    <tr>\n",
              "      <th>212</th>\n",
              "      <td>85.63</td>\n",
              "      <td>14.37</td>\n",
              "    </tr>\n",
              "    <tr>\n",
              "      <th>164</th>\n",
              "      <td>85.70</td>\n",
              "      <td>14.30</td>\n",
              "    </tr>\n",
              "    <tr>\n",
              "      <th>189</th>\n",
              "      <td>85.78</td>\n",
              "      <td>14.22</td>\n",
              "    </tr>\n",
              "    <tr>\n",
              "      <th>11</th>\n",
              "      <td>85.86</td>\n",
              "      <td>14.14</td>\n",
              "    </tr>\n",
              "    <tr>\n",
              "      <th>...</th>\n",
              "      <td>...</td>\n",
              "      <td>...</td>\n",
              "    </tr>\n",
              "    <tr>\n",
              "      <th>78</th>\n",
              "      <td>89.66</td>\n",
              "      <td>10.34</td>\n",
              "    </tr>\n",
              "    <tr>\n",
              "      <th>156</th>\n",
              "      <td>89.68</td>\n",
              "      <td>10.32</td>\n",
              "    </tr>\n",
              "    <tr>\n",
              "      <th>273</th>\n",
              "      <td>89.72</td>\n",
              "      <td>10.28</td>\n",
              "    </tr>\n",
              "    <tr>\n",
              "      <th>245</th>\n",
              "      <td>89.84</td>\n",
              "      <td>10.16</td>\n",
              "    </tr>\n",
              "    <tr>\n",
              "      <th>80</th>\n",
              "      <td>90.08</td>\n",
              "      <td>9.92</td>\n",
              "    </tr>\n",
              "  </tbody>\n",
              "</table>\n",
              "<p>290 rows × 2 columns</p>\n",
              "</div>\n",
              "      <button class=\"colab-df-convert\" onclick=\"convertToInteractive('df-4d497f92-bac7-4575-ab51-1e81b703aec0')\"\n",
              "              title=\"Convert this dataframe to an interactive table.\"\n",
              "              style=\"display:none;\">\n",
              "        \n",
              "  <svg xmlns=\"http://www.w3.org/2000/svg\" height=\"24px\"viewBox=\"0 0 24 24\"\n",
              "       width=\"24px\">\n",
              "    <path d=\"M0 0h24v24H0V0z\" fill=\"none\"/>\n",
              "    <path d=\"M18.56 5.44l.94 2.06.94-2.06 2.06-.94-2.06-.94-.94-2.06-.94 2.06-2.06.94zm-11 1L8.5 8.5l.94-2.06 2.06-.94-2.06-.94L8.5 2.5l-.94 2.06-2.06.94zm10 10l.94 2.06.94-2.06 2.06-.94-2.06-.94-.94-2.06-.94 2.06-2.06.94z\"/><path d=\"M17.41 7.96l-1.37-1.37c-.4-.4-.92-.59-1.43-.59-.52 0-1.04.2-1.43.59L10.3 9.45l-7.72 7.72c-.78.78-.78 2.05 0 2.83L4 21.41c.39.39.9.59 1.41.59.51 0 1.02-.2 1.41-.59l7.78-7.78 2.81-2.81c.8-.78.8-2.07 0-2.86zM5.41 20L4 18.59l7.72-7.72 1.47 1.35L5.41 20z\"/>\n",
              "  </svg>\n",
              "      </button>\n",
              "      \n",
              "  <style>\n",
              "    .colab-df-container {\n",
              "      display:flex;\n",
              "      flex-wrap:wrap;\n",
              "      gap: 12px;\n",
              "    }\n",
              "\n",
              "    .colab-df-convert {\n",
              "      background-color: #E8F0FE;\n",
              "      border: none;\n",
              "      border-radius: 50%;\n",
              "      cursor: pointer;\n",
              "      display: none;\n",
              "      fill: #1967D2;\n",
              "      height: 32px;\n",
              "      padding: 0 0 0 0;\n",
              "      width: 32px;\n",
              "    }\n",
              "\n",
              "    .colab-df-convert:hover {\n",
              "      background-color: #E2EBFA;\n",
              "      box-shadow: 0px 1px 2px rgba(60, 64, 67, 0.3), 0px 1px 3px 1px rgba(60, 64, 67, 0.15);\n",
              "      fill: #174EA6;\n",
              "    }\n",
              "\n",
              "    [theme=dark] .colab-df-convert {\n",
              "      background-color: #3B4455;\n",
              "      fill: #D2E3FC;\n",
              "    }\n",
              "\n",
              "    [theme=dark] .colab-df-convert:hover {\n",
              "      background-color: #434B5C;\n",
              "      box-shadow: 0px 1px 3px 1px rgba(0, 0, 0, 0.15);\n",
              "      filter: drop-shadow(0px 1px 2px rgba(0, 0, 0, 0.3));\n",
              "      fill: #FFFFFF;\n",
              "    }\n",
              "  </style>\n",
              "\n",
              "      <script>\n",
              "        const buttonEl =\n",
              "          document.querySelector('#df-4d497f92-bac7-4575-ab51-1e81b703aec0 button.colab-df-convert');\n",
              "        buttonEl.style.display =\n",
              "          google.colab.kernel.accessAllowed ? 'block' : 'none';\n",
              "\n",
              "        async function convertToInteractive(key) {\n",
              "          const element = document.querySelector('#df-4d497f92-bac7-4575-ab51-1e81b703aec0');\n",
              "          const dataTable =\n",
              "            await google.colab.kernel.invokeFunction('convertToInteractive',\n",
              "                                                     [key], {});\n",
              "          if (!dataTable) return;\n",
              "\n",
              "          const docLinkHtml = 'Like what you see? Visit the ' +\n",
              "            '<a target=\"_blank\" href=https://colab.research.google.com/notebooks/data_table.ipynb>data table notebook</a>'\n",
              "            + ' to learn more about interactive tables.';\n",
              "          element.innerHTML = '';\n",
              "          dataTable['output_type'] = 'display_data';\n",
              "          await google.colab.output.renderOutput(dataTable, element);\n",
              "          const docLink = document.createElement('div');\n",
              "          docLink.innerHTML = docLinkHtml;\n",
              "          element.appendChild(docLink);\n",
              "        }\n",
              "      </script>\n",
              "    </div>\n",
              "  </div>\n",
              "  "
            ]
          },
          "metadata": {},
          "execution_count": 463
        }
      ]
    },
    {
      "cell_type": "code",
      "source": [
        "column_drop.append(\"Vintage\")\n",
        "continuous_features.remove(\"Vintage\")"
      ],
      "metadata": {
        "id": "1ihxuxtBLM1A"
      },
      "execution_count": 464,
      "outputs": []
    },
    {
      "cell_type": "markdown",
      "source": [
        "####Age "
      ],
      "metadata": {
        "id": "qoxRvxBnLdRT"
      }
    },
    {
      "cell_type": "code",
      "source": [
        "insurance[[\"Age\"]].agg([\"min\",\"max\"])"
      ],
      "metadata": {
        "colab": {
          "base_uri": "https://localhost:8080/",
          "height": 0
        },
        "id": "Lm2oy6Q7R-I_",
        "outputId": "b514a94a-5e1a-4d10-9eaf-36382060244c"
      },
      "execution_count": 465,
      "outputs": [
        {
          "output_type": "execute_result",
          "data": {
            "text/plain": [
              "     Age\n",
              "min   20\n",
              "max   85"
            ],
            "text/html": [
              "\n",
              "  <div id=\"df-754cb1a0-1265-4fde-bb66-39559b020c98\">\n",
              "    <div class=\"colab-df-container\">\n",
              "      <div>\n",
              "<style scoped>\n",
              "    .dataframe tbody tr th:only-of-type {\n",
              "        vertical-align: middle;\n",
              "    }\n",
              "\n",
              "    .dataframe tbody tr th {\n",
              "        vertical-align: top;\n",
              "    }\n",
              "\n",
              "    .dataframe thead th {\n",
              "        text-align: right;\n",
              "    }\n",
              "</style>\n",
              "<table border=\"1\" class=\"dataframe\">\n",
              "  <thead>\n",
              "    <tr style=\"text-align: right;\">\n",
              "      <th></th>\n",
              "      <th>Age</th>\n",
              "    </tr>\n",
              "  </thead>\n",
              "  <tbody>\n",
              "    <tr>\n",
              "      <th>min</th>\n",
              "      <td>20</td>\n",
              "    </tr>\n",
              "    <tr>\n",
              "      <th>max</th>\n",
              "      <td>85</td>\n",
              "    </tr>\n",
              "  </tbody>\n",
              "</table>\n",
              "</div>\n",
              "      <button class=\"colab-df-convert\" onclick=\"convertToInteractive('df-754cb1a0-1265-4fde-bb66-39559b020c98')\"\n",
              "              title=\"Convert this dataframe to an interactive table.\"\n",
              "              style=\"display:none;\">\n",
              "        \n",
              "  <svg xmlns=\"http://www.w3.org/2000/svg\" height=\"24px\"viewBox=\"0 0 24 24\"\n",
              "       width=\"24px\">\n",
              "    <path d=\"M0 0h24v24H0V0z\" fill=\"none\"/>\n",
              "    <path d=\"M18.56 5.44l.94 2.06.94-2.06 2.06-.94-2.06-.94-.94-2.06-.94 2.06-2.06.94zm-11 1L8.5 8.5l.94-2.06 2.06-.94-2.06-.94L8.5 2.5l-.94 2.06-2.06.94zm10 10l.94 2.06.94-2.06 2.06-.94-2.06-.94-.94-2.06-.94 2.06-2.06.94z\"/><path d=\"M17.41 7.96l-1.37-1.37c-.4-.4-.92-.59-1.43-.59-.52 0-1.04.2-1.43.59L10.3 9.45l-7.72 7.72c-.78.78-.78 2.05 0 2.83L4 21.41c.39.39.9.59 1.41.59.51 0 1.02-.2 1.41-.59l7.78-7.78 2.81-2.81c.8-.78.8-2.07 0-2.86zM5.41 20L4 18.59l7.72-7.72 1.47 1.35L5.41 20z\"/>\n",
              "  </svg>\n",
              "      </button>\n",
              "      \n",
              "  <style>\n",
              "    .colab-df-container {\n",
              "      display:flex;\n",
              "      flex-wrap:wrap;\n",
              "      gap: 12px;\n",
              "    }\n",
              "\n",
              "    .colab-df-convert {\n",
              "      background-color: #E8F0FE;\n",
              "      border: none;\n",
              "      border-radius: 50%;\n",
              "      cursor: pointer;\n",
              "      display: none;\n",
              "      fill: #1967D2;\n",
              "      height: 32px;\n",
              "      padding: 0 0 0 0;\n",
              "      width: 32px;\n",
              "    }\n",
              "\n",
              "    .colab-df-convert:hover {\n",
              "      background-color: #E2EBFA;\n",
              "      box-shadow: 0px 1px 2px rgba(60, 64, 67, 0.3), 0px 1px 3px 1px rgba(60, 64, 67, 0.15);\n",
              "      fill: #174EA6;\n",
              "    }\n",
              "\n",
              "    [theme=dark] .colab-df-convert {\n",
              "      background-color: #3B4455;\n",
              "      fill: #D2E3FC;\n",
              "    }\n",
              "\n",
              "    [theme=dark] .colab-df-convert:hover {\n",
              "      background-color: #434B5C;\n",
              "      box-shadow: 0px 1px 3px 1px rgba(0, 0, 0, 0.15);\n",
              "      filter: drop-shadow(0px 1px 2px rgba(0, 0, 0, 0.3));\n",
              "      fill: #FFFFFF;\n",
              "    }\n",
              "  </style>\n",
              "\n",
              "      <script>\n",
              "        const buttonEl =\n",
              "          document.querySelector('#df-754cb1a0-1265-4fde-bb66-39559b020c98 button.colab-df-convert');\n",
              "        buttonEl.style.display =\n",
              "          google.colab.kernel.accessAllowed ? 'block' : 'none';\n",
              "\n",
              "        async function convertToInteractive(key) {\n",
              "          const element = document.querySelector('#df-754cb1a0-1265-4fde-bb66-39559b020c98');\n",
              "          const dataTable =\n",
              "            await google.colab.kernel.invokeFunction('convertToInteractive',\n",
              "                                                     [key], {});\n",
              "          if (!dataTable) return;\n",
              "\n",
              "          const docLinkHtml = 'Like what you see? Visit the ' +\n",
              "            '<a target=\"_blank\" href=https://colab.research.google.com/notebooks/data_table.ipynb>data table notebook</a>'\n",
              "            + ' to learn more about interactive tables.';\n",
              "          element.innerHTML = '';\n",
              "          dataTable['output_type'] = 'display_data';\n",
              "          await google.colab.output.renderOutput(dataTable, element);\n",
              "          const docLink = document.createElement('div');\n",
              "          docLink.innerHTML = docLinkHtml;\n",
              "          element.appendChild(docLink);\n",
              "        }\n",
              "      </script>\n",
              "    </div>\n",
              "  </div>\n",
              "  "
            ]
          },
          "metadata": {},
          "execution_count": 465
        }
      ]
    },
    {
      "cell_type": "markdown",
      "source": [
        "here we note that the minimum age of a customer is 20 and the maximum age is 85"
      ],
      "metadata": {
        "id": "HG1WAwzSSGai"
      }
    },
    {
      "cell_type": "code",
      "source": [
        "insurance[\"Age\"].value_counts()"
      ],
      "metadata": {
        "colab": {
          "base_uri": "https://localhost:8080/"
        },
        "id": "5cmafLqKLigc",
        "outputId": "a31f9a59-ff33-451a-e542-85ef26fa5b71"
      },
      "execution_count": 466,
      "outputs": [
        {
          "output_type": "execute_result",
          "data": {
            "text/plain": [
              "24    25400\n",
              "23    23810\n",
              "22    20572\n",
              "25    20159\n",
              "21    16161\n",
              "      ...  \n",
              "81       53\n",
              "82       28\n",
              "83       21\n",
              "84       11\n",
              "85       10\n",
              "Name: Age, Length: 66, dtype: int64"
            ]
          },
          "metadata": {},
          "execution_count": 466
        }
      ]
    },
    {
      "cell_type": "code",
      "source": [
        "pd.crosstab(insurance[\"Age\"],insurance[\"Response\"])"
      ],
      "metadata": {
        "colab": {
          "base_uri": "https://localhost:8080/",
          "height": 0
        },
        "id": "8OEGNR6HSOVD",
        "outputId": "2bfb2721-0302-4dd7-b07a-17fa5db23b44"
      },
      "execution_count": 467,
      "outputs": [
        {
          "output_type": "execute_result",
          "data": {
            "text/plain": [
              "Response      0    1\n",
              "Age                 \n",
              "20         5979  171\n",
              "21        15599  562\n",
              "22        19824  748\n",
              "23        22935  875\n",
              "24        24501  899\n",
              "..          ...  ...\n",
              "81           49    4\n",
              "82           27    1\n",
              "83           20    1\n",
              "84           11    0\n",
              "85           10    0\n",
              "\n",
              "[66 rows x 2 columns]"
            ],
            "text/html": [
              "\n",
              "  <div id=\"df-a6e7f31e-4e90-40bf-8324-f2563ff350e4\">\n",
              "    <div class=\"colab-df-container\">\n",
              "      <div>\n",
              "<style scoped>\n",
              "    .dataframe tbody tr th:only-of-type {\n",
              "        vertical-align: middle;\n",
              "    }\n",
              "\n",
              "    .dataframe tbody tr th {\n",
              "        vertical-align: top;\n",
              "    }\n",
              "\n",
              "    .dataframe thead th {\n",
              "        text-align: right;\n",
              "    }\n",
              "</style>\n",
              "<table border=\"1\" class=\"dataframe\">\n",
              "  <thead>\n",
              "    <tr style=\"text-align: right;\">\n",
              "      <th>Response</th>\n",
              "      <th>0</th>\n",
              "      <th>1</th>\n",
              "    </tr>\n",
              "    <tr>\n",
              "      <th>Age</th>\n",
              "      <th></th>\n",
              "      <th></th>\n",
              "    </tr>\n",
              "  </thead>\n",
              "  <tbody>\n",
              "    <tr>\n",
              "      <th>20</th>\n",
              "      <td>5979</td>\n",
              "      <td>171</td>\n",
              "    </tr>\n",
              "    <tr>\n",
              "      <th>21</th>\n",
              "      <td>15599</td>\n",
              "      <td>562</td>\n",
              "    </tr>\n",
              "    <tr>\n",
              "      <th>22</th>\n",
              "      <td>19824</td>\n",
              "      <td>748</td>\n",
              "    </tr>\n",
              "    <tr>\n",
              "      <th>23</th>\n",
              "      <td>22935</td>\n",
              "      <td>875</td>\n",
              "    </tr>\n",
              "    <tr>\n",
              "      <th>24</th>\n",
              "      <td>24501</td>\n",
              "      <td>899</td>\n",
              "    </tr>\n",
              "    <tr>\n",
              "      <th>...</th>\n",
              "      <td>...</td>\n",
              "      <td>...</td>\n",
              "    </tr>\n",
              "    <tr>\n",
              "      <th>81</th>\n",
              "      <td>49</td>\n",
              "      <td>4</td>\n",
              "    </tr>\n",
              "    <tr>\n",
              "      <th>82</th>\n",
              "      <td>27</td>\n",
              "      <td>1</td>\n",
              "    </tr>\n",
              "    <tr>\n",
              "      <th>83</th>\n",
              "      <td>20</td>\n",
              "      <td>1</td>\n",
              "    </tr>\n",
              "    <tr>\n",
              "      <th>84</th>\n",
              "      <td>11</td>\n",
              "      <td>0</td>\n",
              "    </tr>\n",
              "    <tr>\n",
              "      <th>85</th>\n",
              "      <td>10</td>\n",
              "      <td>0</td>\n",
              "    </tr>\n",
              "  </tbody>\n",
              "</table>\n",
              "<p>66 rows × 2 columns</p>\n",
              "</div>\n",
              "      <button class=\"colab-df-convert\" onclick=\"convertToInteractive('df-a6e7f31e-4e90-40bf-8324-f2563ff350e4')\"\n",
              "              title=\"Convert this dataframe to an interactive table.\"\n",
              "              style=\"display:none;\">\n",
              "        \n",
              "  <svg xmlns=\"http://www.w3.org/2000/svg\" height=\"24px\"viewBox=\"0 0 24 24\"\n",
              "       width=\"24px\">\n",
              "    <path d=\"M0 0h24v24H0V0z\" fill=\"none\"/>\n",
              "    <path d=\"M18.56 5.44l.94 2.06.94-2.06 2.06-.94-2.06-.94-.94-2.06-.94 2.06-2.06.94zm-11 1L8.5 8.5l.94-2.06 2.06-.94-2.06-.94L8.5 2.5l-.94 2.06-2.06.94zm10 10l.94 2.06.94-2.06 2.06-.94-2.06-.94-.94-2.06-.94 2.06-2.06.94z\"/><path d=\"M17.41 7.96l-1.37-1.37c-.4-.4-.92-.59-1.43-.59-.52 0-1.04.2-1.43.59L10.3 9.45l-7.72 7.72c-.78.78-.78 2.05 0 2.83L4 21.41c.39.39.9.59 1.41.59.51 0 1.02-.2 1.41-.59l7.78-7.78 2.81-2.81c.8-.78.8-2.07 0-2.86zM5.41 20L4 18.59l7.72-7.72 1.47 1.35L5.41 20z\"/>\n",
              "  </svg>\n",
              "      </button>\n",
              "      \n",
              "  <style>\n",
              "    .colab-df-container {\n",
              "      display:flex;\n",
              "      flex-wrap:wrap;\n",
              "      gap: 12px;\n",
              "    }\n",
              "\n",
              "    .colab-df-convert {\n",
              "      background-color: #E8F0FE;\n",
              "      border: none;\n",
              "      border-radius: 50%;\n",
              "      cursor: pointer;\n",
              "      display: none;\n",
              "      fill: #1967D2;\n",
              "      height: 32px;\n",
              "      padding: 0 0 0 0;\n",
              "      width: 32px;\n",
              "    }\n",
              "\n",
              "    .colab-df-convert:hover {\n",
              "      background-color: #E2EBFA;\n",
              "      box-shadow: 0px 1px 2px rgba(60, 64, 67, 0.3), 0px 1px 3px 1px rgba(60, 64, 67, 0.15);\n",
              "      fill: #174EA6;\n",
              "    }\n",
              "\n",
              "    [theme=dark] .colab-df-convert {\n",
              "      background-color: #3B4455;\n",
              "      fill: #D2E3FC;\n",
              "    }\n",
              "\n",
              "    [theme=dark] .colab-df-convert:hover {\n",
              "      background-color: #434B5C;\n",
              "      box-shadow: 0px 1px 3px 1px rgba(0, 0, 0, 0.15);\n",
              "      filter: drop-shadow(0px 1px 2px rgba(0, 0, 0, 0.3));\n",
              "      fill: #FFFFFF;\n",
              "    }\n",
              "  </style>\n",
              "\n",
              "      <script>\n",
              "        const buttonEl =\n",
              "          document.querySelector('#df-a6e7f31e-4e90-40bf-8324-f2563ff350e4 button.colab-df-convert');\n",
              "        buttonEl.style.display =\n",
              "          google.colab.kernel.accessAllowed ? 'block' : 'none';\n",
              "\n",
              "        async function convertToInteractive(key) {\n",
              "          const element = document.querySelector('#df-a6e7f31e-4e90-40bf-8324-f2563ff350e4');\n",
              "          const dataTable =\n",
              "            await google.colab.kernel.invokeFunction('convertToInteractive',\n",
              "                                                     [key], {});\n",
              "          if (!dataTable) return;\n",
              "\n",
              "          const docLinkHtml = 'Like what you see? Visit the ' +\n",
              "            '<a target=\"_blank\" href=https://colab.research.google.com/notebooks/data_table.ipynb>data table notebook</a>'\n",
              "            + ' to learn more about interactive tables.';\n",
              "          element.innerHTML = '';\n",
              "          dataTable['output_type'] = 'display_data';\n",
              "          await google.colab.output.renderOutput(dataTable, element);\n",
              "          const docLink = document.createElement('div');\n",
              "          docLink.innerHTML = docLinkHtml;\n",
              "          element.appendChild(docLink);\n",
              "        }\n",
              "      </script>\n",
              "    </div>\n",
              "  </div>\n",
              "  "
            ]
          },
          "metadata": {},
          "execution_count": 467
        }
      ]
    },
    {
      "cell_type": "markdown",
      "source": [
        "let's try dividing age in three categories\n",
        "40 and below 40- 0\n",
        "40-60- 1\n",
        "60above- 2"
      ],
      "metadata": {
        "id": "EXmSvOoXSZvw"
      }
    },
    {
      "cell_type": "code",
      "source": [
        "insurance[\"Age_Section\"]=insurance[\"Age\"].copy()"
      ],
      "metadata": {
        "id": "NqJ4WSVZTAI6"
      },
      "execution_count": 468,
      "outputs": []
    },
    {
      "cell_type": "code",
      "source": [
        "insurance[\"Age_Section\"][insurance[\"Age\"]<=40]=0\n",
        "insurance[\"Age_Section\"][(insurance[\"Age\"]>40)&(insurance[\"Age\"]<=60)]=1\n",
        "insurance[\"Age_Section\"][insurance[\"Age\"]>60]=2"
      ],
      "metadata": {
        "colab": {
          "base_uri": "https://localhost:8080/"
        },
        "id": "H2UcI7doSZCK",
        "outputId": "fa3ec29a-e9c3-454e-c9ef-befda205820d"
      },
      "execution_count": 469,
      "outputs": [
        {
          "output_type": "stream",
          "name": "stderr",
          "text": [
            "/usr/local/lib/python3.7/dist-packages/ipykernel_launcher.py:1: SettingWithCopyWarning: \n",
            "A value is trying to be set on a copy of a slice from a DataFrame\n",
            "\n",
            "See the caveats in the documentation: https://pandas.pydata.org/pandas-docs/stable/user_guide/indexing.html#returning-a-view-versus-a-copy\n",
            "  \"\"\"Entry point for launching an IPython kernel.\n",
            "/usr/local/lib/python3.7/dist-packages/ipykernel_launcher.py:2: SettingWithCopyWarning: \n",
            "A value is trying to be set on a copy of a slice from a DataFrame\n",
            "\n",
            "See the caveats in the documentation: https://pandas.pydata.org/pandas-docs/stable/user_guide/indexing.html#returning-a-view-versus-a-copy\n",
            "  \n",
            "/usr/local/lib/python3.7/dist-packages/ipykernel_launcher.py:3: SettingWithCopyWarning: \n",
            "A value is trying to be set on a copy of a slice from a DataFrame\n",
            "\n",
            "See the caveats in the documentation: https://pandas.pydata.org/pandas-docs/stable/user_guide/indexing.html#returning-a-view-versus-a-copy\n",
            "  This is separate from the ipykernel package so we can avoid doing imports until\n"
          ]
        }
      ]
    },
    {
      "cell_type": "code",
      "source": [
        "pd.crosstab(insurance[\"Age_Section\"],insurance[\"Response\"],margins=True)\n"
      ],
      "metadata": {
        "colab": {
          "base_uri": "https://localhost:8080/",
          "height": 0
        },
        "id": "jzGeipY2TVFv",
        "outputId": "9e13f00e-bd11-4969-ea35-77eaafd77994"
      },
      "execution_count": 470,
      "outputs": [
        {
          "output_type": "execute_result",
          "data": {
            "text/plain": [
              "Response          0      1     All\n",
              "Age_Section                       \n",
              "0            193825  18390  212215\n",
              "1             94630  22851  117481\n",
              "2             37179   3914   41093\n",
              "All          325634  45155  370789"
            ],
            "text/html": [
              "\n",
              "  <div id=\"df-44464c08-3f59-45ed-b9ce-0e68ba2afc0a\">\n",
              "    <div class=\"colab-df-container\">\n",
              "      <div>\n",
              "<style scoped>\n",
              "    .dataframe tbody tr th:only-of-type {\n",
              "        vertical-align: middle;\n",
              "    }\n",
              "\n",
              "    .dataframe tbody tr th {\n",
              "        vertical-align: top;\n",
              "    }\n",
              "\n",
              "    .dataframe thead th {\n",
              "        text-align: right;\n",
              "    }\n",
              "</style>\n",
              "<table border=\"1\" class=\"dataframe\">\n",
              "  <thead>\n",
              "    <tr style=\"text-align: right;\">\n",
              "      <th>Response</th>\n",
              "      <th>0</th>\n",
              "      <th>1</th>\n",
              "      <th>All</th>\n",
              "    </tr>\n",
              "    <tr>\n",
              "      <th>Age_Section</th>\n",
              "      <th></th>\n",
              "      <th></th>\n",
              "      <th></th>\n",
              "    </tr>\n",
              "  </thead>\n",
              "  <tbody>\n",
              "    <tr>\n",
              "      <th>0</th>\n",
              "      <td>193825</td>\n",
              "      <td>18390</td>\n",
              "      <td>212215</td>\n",
              "    </tr>\n",
              "    <tr>\n",
              "      <th>1</th>\n",
              "      <td>94630</td>\n",
              "      <td>22851</td>\n",
              "      <td>117481</td>\n",
              "    </tr>\n",
              "    <tr>\n",
              "      <th>2</th>\n",
              "      <td>37179</td>\n",
              "      <td>3914</td>\n",
              "      <td>41093</td>\n",
              "    </tr>\n",
              "    <tr>\n",
              "      <th>All</th>\n",
              "      <td>325634</td>\n",
              "      <td>45155</td>\n",
              "      <td>370789</td>\n",
              "    </tr>\n",
              "  </tbody>\n",
              "</table>\n",
              "</div>\n",
              "      <button class=\"colab-df-convert\" onclick=\"convertToInteractive('df-44464c08-3f59-45ed-b9ce-0e68ba2afc0a')\"\n",
              "              title=\"Convert this dataframe to an interactive table.\"\n",
              "              style=\"display:none;\">\n",
              "        \n",
              "  <svg xmlns=\"http://www.w3.org/2000/svg\" height=\"24px\"viewBox=\"0 0 24 24\"\n",
              "       width=\"24px\">\n",
              "    <path d=\"M0 0h24v24H0V0z\" fill=\"none\"/>\n",
              "    <path d=\"M18.56 5.44l.94 2.06.94-2.06 2.06-.94-2.06-.94-.94-2.06-.94 2.06-2.06.94zm-11 1L8.5 8.5l.94-2.06 2.06-.94-2.06-.94L8.5 2.5l-.94 2.06-2.06.94zm10 10l.94 2.06.94-2.06 2.06-.94-2.06-.94-.94-2.06-.94 2.06-2.06.94z\"/><path d=\"M17.41 7.96l-1.37-1.37c-.4-.4-.92-.59-1.43-.59-.52 0-1.04.2-1.43.59L10.3 9.45l-7.72 7.72c-.78.78-.78 2.05 0 2.83L4 21.41c.39.39.9.59 1.41.59.51 0 1.02-.2 1.41-.59l7.78-7.78 2.81-2.81c.8-.78.8-2.07 0-2.86zM5.41 20L4 18.59l7.72-7.72 1.47 1.35L5.41 20z\"/>\n",
              "  </svg>\n",
              "      </button>\n",
              "      \n",
              "  <style>\n",
              "    .colab-df-container {\n",
              "      display:flex;\n",
              "      flex-wrap:wrap;\n",
              "      gap: 12px;\n",
              "    }\n",
              "\n",
              "    .colab-df-convert {\n",
              "      background-color: #E8F0FE;\n",
              "      border: none;\n",
              "      border-radius: 50%;\n",
              "      cursor: pointer;\n",
              "      display: none;\n",
              "      fill: #1967D2;\n",
              "      height: 32px;\n",
              "      padding: 0 0 0 0;\n",
              "      width: 32px;\n",
              "    }\n",
              "\n",
              "    .colab-df-convert:hover {\n",
              "      background-color: #E2EBFA;\n",
              "      box-shadow: 0px 1px 2px rgba(60, 64, 67, 0.3), 0px 1px 3px 1px rgba(60, 64, 67, 0.15);\n",
              "      fill: #174EA6;\n",
              "    }\n",
              "\n",
              "    [theme=dark] .colab-df-convert {\n",
              "      background-color: #3B4455;\n",
              "      fill: #D2E3FC;\n",
              "    }\n",
              "\n",
              "    [theme=dark] .colab-df-convert:hover {\n",
              "      background-color: #434B5C;\n",
              "      box-shadow: 0px 1px 3px 1px rgba(0, 0, 0, 0.15);\n",
              "      filter: drop-shadow(0px 1px 2px rgba(0, 0, 0, 0.3));\n",
              "      fill: #FFFFFF;\n",
              "    }\n",
              "  </style>\n",
              "\n",
              "      <script>\n",
              "        const buttonEl =\n",
              "          document.querySelector('#df-44464c08-3f59-45ed-b9ce-0e68ba2afc0a button.colab-df-convert');\n",
              "        buttonEl.style.display =\n",
              "          google.colab.kernel.accessAllowed ? 'block' : 'none';\n",
              "\n",
              "        async function convertToInteractive(key) {\n",
              "          const element = document.querySelector('#df-44464c08-3f59-45ed-b9ce-0e68ba2afc0a');\n",
              "          const dataTable =\n",
              "            await google.colab.kernel.invokeFunction('convertToInteractive',\n",
              "                                                     [key], {});\n",
              "          if (!dataTable) return;\n",
              "\n",
              "          const docLinkHtml = 'Like what you see? Visit the ' +\n",
              "            '<a target=\"_blank\" href=https://colab.research.google.com/notebooks/data_table.ipynb>data table notebook</a>'\n",
              "            + ' to learn more about interactive tables.';\n",
              "          element.innerHTML = '';\n",
              "          dataTable['output_type'] = 'display_data';\n",
              "          await google.colab.output.renderOutput(dataTable, element);\n",
              "          const docLink = document.createElement('div');\n",
              "          docLink.innerHTML = docLinkHtml;\n",
              "          element.appendChild(docLink);\n",
              "        }\n",
              "      </script>\n",
              "    </div>\n",
              "  </div>\n",
              "  "
            ]
          },
          "metadata": {},
          "execution_count": 470
        }
      ]
    },
    {
      "cell_type": "markdown",
      "source": [
        "From here we note that most of the peoples are from 20-40 age group, also the people from age group 2 that is 40-60 are the peoples having the highest number of positive responses, so this means that if a person belongs to this age category than he will more prefer the vehical insurance, so this classification of age is working good for us, so we will keep column age_section and drop age column"
      ],
      "metadata": {
        "id": "s2gYHKVaVIyl"
      }
    },
    {
      "cell_type": "code",
      "source": [
        "percentage_response(insurance,\"Age_Section\",\"Response\")"
      ],
      "metadata": {
        "colab": {
          "base_uri": "https://localhost:8080/",
          "height": 0
        },
        "id": "nitJQiUrTUzS",
        "outputId": "a48bd4e4-ac83-4fed-a851-3490725f390d"
      },
      "execution_count": 471,
      "outputs": [
        {
          "output_type": "execute_result",
          "data": {
            "text/plain": [
              "Response         0      1\n",
              "Age_Section              \n",
              "1            80.55  19.45\n",
              "2            90.48   9.52\n",
              "0            91.33   8.67"
            ],
            "text/html": [
              "\n",
              "  <div id=\"df-0267679e-76c3-489d-a521-3d35c42b87cf\">\n",
              "    <div class=\"colab-df-container\">\n",
              "      <div>\n",
              "<style scoped>\n",
              "    .dataframe tbody tr th:only-of-type {\n",
              "        vertical-align: middle;\n",
              "    }\n",
              "\n",
              "    .dataframe tbody tr th {\n",
              "        vertical-align: top;\n",
              "    }\n",
              "\n",
              "    .dataframe thead th {\n",
              "        text-align: right;\n",
              "    }\n",
              "</style>\n",
              "<table border=\"1\" class=\"dataframe\">\n",
              "  <thead>\n",
              "    <tr style=\"text-align: right;\">\n",
              "      <th>Response</th>\n",
              "      <th>0</th>\n",
              "      <th>1</th>\n",
              "    </tr>\n",
              "    <tr>\n",
              "      <th>Age_Section</th>\n",
              "      <th></th>\n",
              "      <th></th>\n",
              "    </tr>\n",
              "  </thead>\n",
              "  <tbody>\n",
              "    <tr>\n",
              "      <th>1</th>\n",
              "      <td>80.55</td>\n",
              "      <td>19.45</td>\n",
              "    </tr>\n",
              "    <tr>\n",
              "      <th>2</th>\n",
              "      <td>90.48</td>\n",
              "      <td>9.52</td>\n",
              "    </tr>\n",
              "    <tr>\n",
              "      <th>0</th>\n",
              "      <td>91.33</td>\n",
              "      <td>8.67</td>\n",
              "    </tr>\n",
              "  </tbody>\n",
              "</table>\n",
              "</div>\n",
              "      <button class=\"colab-df-convert\" onclick=\"convertToInteractive('df-0267679e-76c3-489d-a521-3d35c42b87cf')\"\n",
              "              title=\"Convert this dataframe to an interactive table.\"\n",
              "              style=\"display:none;\">\n",
              "        \n",
              "  <svg xmlns=\"http://www.w3.org/2000/svg\" height=\"24px\"viewBox=\"0 0 24 24\"\n",
              "       width=\"24px\">\n",
              "    <path d=\"M0 0h24v24H0V0z\" fill=\"none\"/>\n",
              "    <path d=\"M18.56 5.44l.94 2.06.94-2.06 2.06-.94-2.06-.94-.94-2.06-.94 2.06-2.06.94zm-11 1L8.5 8.5l.94-2.06 2.06-.94-2.06-.94L8.5 2.5l-.94 2.06-2.06.94zm10 10l.94 2.06.94-2.06 2.06-.94-2.06-.94-.94-2.06-.94 2.06-2.06.94z\"/><path d=\"M17.41 7.96l-1.37-1.37c-.4-.4-.92-.59-1.43-.59-.52 0-1.04.2-1.43.59L10.3 9.45l-7.72 7.72c-.78.78-.78 2.05 0 2.83L4 21.41c.39.39.9.59 1.41.59.51 0 1.02-.2 1.41-.59l7.78-7.78 2.81-2.81c.8-.78.8-2.07 0-2.86zM5.41 20L4 18.59l7.72-7.72 1.47 1.35L5.41 20z\"/>\n",
              "  </svg>\n",
              "      </button>\n",
              "      \n",
              "  <style>\n",
              "    .colab-df-container {\n",
              "      display:flex;\n",
              "      flex-wrap:wrap;\n",
              "      gap: 12px;\n",
              "    }\n",
              "\n",
              "    .colab-df-convert {\n",
              "      background-color: #E8F0FE;\n",
              "      border: none;\n",
              "      border-radius: 50%;\n",
              "      cursor: pointer;\n",
              "      display: none;\n",
              "      fill: #1967D2;\n",
              "      height: 32px;\n",
              "      padding: 0 0 0 0;\n",
              "      width: 32px;\n",
              "    }\n",
              "\n",
              "    .colab-df-convert:hover {\n",
              "      background-color: #E2EBFA;\n",
              "      box-shadow: 0px 1px 2px rgba(60, 64, 67, 0.3), 0px 1px 3px 1px rgba(60, 64, 67, 0.15);\n",
              "      fill: #174EA6;\n",
              "    }\n",
              "\n",
              "    [theme=dark] .colab-df-convert {\n",
              "      background-color: #3B4455;\n",
              "      fill: #D2E3FC;\n",
              "    }\n",
              "\n",
              "    [theme=dark] .colab-df-convert:hover {\n",
              "      background-color: #434B5C;\n",
              "      box-shadow: 0px 1px 3px 1px rgba(0, 0, 0, 0.15);\n",
              "      filter: drop-shadow(0px 1px 2px rgba(0, 0, 0, 0.3));\n",
              "      fill: #FFFFFF;\n",
              "    }\n",
              "  </style>\n",
              "\n",
              "      <script>\n",
              "        const buttonEl =\n",
              "          document.querySelector('#df-0267679e-76c3-489d-a521-3d35c42b87cf button.colab-df-convert');\n",
              "        buttonEl.style.display =\n",
              "          google.colab.kernel.accessAllowed ? 'block' : 'none';\n",
              "\n",
              "        async function convertToInteractive(key) {\n",
              "          const element = document.querySelector('#df-0267679e-76c3-489d-a521-3d35c42b87cf');\n",
              "          const dataTable =\n",
              "            await google.colab.kernel.invokeFunction('convertToInteractive',\n",
              "                                                     [key], {});\n",
              "          if (!dataTable) return;\n",
              "\n",
              "          const docLinkHtml = 'Like what you see? Visit the ' +\n",
              "            '<a target=\"_blank\" href=https://colab.research.google.com/notebooks/data_table.ipynb>data table notebook</a>'\n",
              "            + ' to learn more about interactive tables.';\n",
              "          element.innerHTML = '';\n",
              "          dataTable['output_type'] = 'display_data';\n",
              "          await google.colab.output.renderOutput(dataTable, element);\n",
              "          const docLink = document.createElement('div');\n",
              "          docLink.innerHTML = docLinkHtml;\n",
              "          element.appendChild(docLink);\n",
              "        }\n",
              "      </script>\n",
              "    </div>\n",
              "  </div>\n",
              "  "
            ]
          },
          "metadata": {},
          "execution_count": 471
        }
      ]
    },
    {
      "cell_type": "code",
      "source": [
        "column_drop.append(\"Age\")\n",
        "continuous_features.remove(\"Age\")\n",
        "categorical_features.append(\"Age_Section\")"
      ],
      "metadata": {
        "id": "0Q3TjoiELiE6"
      },
      "execution_count": 472,
      "outputs": []
    },
    {
      "cell_type": "markdown",
      "source": [
        "###Target Column\n",
        "If we found that the target column is biased we have to perform add some rows with the minority class as 1"
      ],
      "metadata": {
        "id": "AFKpe0WJwzxG"
      }
    },
    {
      "cell_type": "code",
      "source": [
        "insurance[\"Response\"].value_counts()         #our target column is biased"
      ],
      "metadata": {
        "colab": {
          "base_uri": "https://localhost:8080/"
        },
        "id": "r4HfDcCjwyXz",
        "outputId": "357b5a82-cd9f-4659-fa7e-0b83cd7f2d9d"
      },
      "execution_count": 473,
      "outputs": [
        {
          "output_type": "execute_result",
          "data": {
            "text/plain": [
              "0    325634\n",
              "1     45155\n",
              "Name: Response, dtype: int64"
            ]
          },
          "metadata": {},
          "execution_count": 473
        }
      ]
    },
    {
      "cell_type": "code",
      "source": [
        "45155/(325634+45155)    #we have only 12% entries for positive response, so our model will not be able to get trends"
      ],
      "metadata": {
        "colab": {
          "base_uri": "https://localhost:8080/"
        },
        "id": "KYC2E32QxUT8",
        "outputId": "16a0ec3e-1a5c-4144-98c7-3e0a84fcef51"
      },
      "execution_count": 474,
      "outputs": [
        {
          "output_type": "execute_result",
          "data": {
            "text/plain": [
              "0.12178085110399715"
            ]
          },
          "metadata": {},
          "execution_count": 474
        }
      ]
    },
    {
      "cell_type": "markdown",
      "source": [
        "####Over sampling using smote of target column"
      ],
      "metadata": {
        "id": "khO_e_Hlykar"
      }
    },
    {
      "cell_type": "code",
      "source": [
        "insurance[\"Response\"].value_counts()   \n",
        "#here the ratio is very less if i take number of positive response to be 250000 that this ratio will be improved"
      ],
      "metadata": {
        "colab": {
          "base_uri": "https://localhost:8080/"
        },
        "id": "W0ulVlg6zlFP",
        "outputId": "a557f525-5bd7-41c9-f8a2-6d15ee284529"
      },
      "execution_count": 475,
      "outputs": [
        {
          "output_type": "execute_result",
          "data": {
            "text/plain": [
              "0    325634\n",
              "1     45155\n",
              "Name: Response, dtype: int64"
            ]
          },
          "metadata": {},
          "execution_count": 475
        }
      ]
    },
    {
      "cell_type": "code",
      "source": [
        "30000/(30000+325634)  # this ratio is not bad."
      ],
      "metadata": {
        "colab": {
          "base_uri": "https://localhost:8080/"
        },
        "id": "PIapegKNz6Nd",
        "outputId": "17ed98d5-741e-41ae-8425-fd026fa83148"
      },
      "execution_count": 476,
      "outputs": [
        {
          "output_type": "execute_result",
          "data": {
            "text/plain": [
              "0.43430374161359475"
            ]
          },
          "metadata": {},
          "execution_count": 476
        }
      ]
    },
    {
      "cell_type": "code",
      "source": [
        "from imblearn.over_sampling import BorderlineSMOTE\n",
        "from imblearn.over_sampling import SMOTE\n",
        "smote=BorderlineSMOTE(sampling_strategy={0:325634,1:300000})\n",
        "x=insurance.loc[:, insurance.columns != 'Response']\n",
        "y=insurance[\"Response\"]\n",
        "x_smote, y_smote = smote.fit_resample(x, y)"
      ],
      "metadata": {
        "id": "gsaEI6_Hysxj"
      },
      "execution_count": 581,
      "outputs": []
    },
    {
      "cell_type": "code",
      "source": [
        "insurance.drop(list(insurance.columns),axis=1,inplace=True)"
      ],
      "metadata": {
        "id": "jt-FqGYg2e2i"
      },
      "execution_count": 582,
      "outputs": []
    },
    {
      "cell_type": "code",
      "source": [
        "insurance=x_smote\n",
        "insurance[\"Response\"]=y_smote"
      ],
      "metadata": {
        "id": "pgNdtpFqysvL"
      },
      "execution_count": 583,
      "outputs": []
    },
    {
      "cell_type": "code",
      "source": [
        "insurance.shape"
      ],
      "metadata": {
        "id": "bIzNl6aM0nFQ",
        "colab": {
          "base_uri": "https://localhost:8080/"
        },
        "outputId": "c4aa01e9-ab6f-45f0-a67f-26aa751c2365"
      },
      "execution_count": 481,
      "outputs": [
        {
          "output_type": "execute_result",
          "data": {
            "text/plain": [
              "(625634, 15)"
            ]
          },
          "metadata": {},
          "execution_count": 481
        }
      ]
    },
    {
      "cell_type": "code",
      "source": [
        "insurance[\"Response\"].value_counts()"
      ],
      "metadata": {
        "id": "gxNTvkDU0qSe",
        "colab": {
          "base_uri": "https://localhost:8080/"
        },
        "outputId": "5e7f8466-e0c2-41c1-b0ca-2a95a90281aa"
      },
      "execution_count": 482,
      "outputs": [
        {
          "output_type": "execute_result",
          "data": {
            "text/plain": [
              "0    325634\n",
              "1    300000\n",
              "Name: Response, dtype: int64"
            ]
          },
          "metadata": {},
          "execution_count": 482
        }
      ]
    },
    {
      "cell_type": "markdown",
      "source": [
        "###Final Information:\n"
      ],
      "metadata": {
        "id": "kOKYIr-6yLFt"
      }
    },
    {
      "cell_type": "code",
      "source": [
        "column_drop  #columns we are droping"
      ],
      "metadata": {
        "colab": {
          "base_uri": "https://localhost:8080/"
        },
        "id": "2FlAIWFqMKDk",
        "outputId": "abec7b67-45cd-445a-99c1-d71922ecfaa7"
      },
      "execution_count": 483,
      "outputs": [
        {
          "output_type": "execute_result",
          "data": {
            "text/plain": [
              "['id', 'Region_Code', 'Policy_Sales_Channel', 'Vintage', 'Age']"
            ]
          },
          "metadata": {},
          "execution_count": 483
        }
      ]
    },
    {
      "cell_type": "code",
      "source": [
        "insurance.columns"
      ],
      "metadata": {
        "colab": {
          "base_uri": "https://localhost:8080/"
        },
        "id": "JyEoBGyyWbBY",
        "outputId": "a168376f-707c-4111-dd3d-f230818939d2"
      },
      "execution_count": 484,
      "outputs": [
        {
          "output_type": "execute_result",
          "data": {
            "text/plain": [
              "Index(['id', 'Gender', 'Age', 'Driving_License', 'Region_Code',\n",
              "       'Previously_Insured', 'Vehicle_Age', 'Vehicle_Damage', 'Annual_Premium',\n",
              "       'Policy_Sales_Channel', 'Vintage', 'Region_Response',\n",
              "       'Channel_Response', 'Age_Section', 'Response'],\n",
              "      dtype='object')"
            ]
          },
          "metadata": {},
          "execution_count": 484
        }
      ]
    },
    {
      "cell_type": "code",
      "source": [
        "insurance.shape"
      ],
      "metadata": {
        "colab": {
          "base_uri": "https://localhost:8080/"
        },
        "id": "Tek7nts1L9-K",
        "outputId": "fd3aa177-8cf7-430a-c09c-794c93eb0de4"
      },
      "execution_count": 485,
      "outputs": [
        {
          "output_type": "execute_result",
          "data": {
            "text/plain": [
              "(625634, 15)"
            ]
          },
          "metadata": {},
          "execution_count": 485
        }
      ]
    },
    {
      "cell_type": "code",
      "source": [
        "insurance.drop(column_drop,axis=1,inplace=True)"
      ],
      "metadata": {
        "id": "lw4q9QNnyQVr"
      },
      "execution_count": 486,
      "outputs": []
    },
    {
      "cell_type": "code",
      "source": [
        "insurance.columns"
      ],
      "metadata": {
        "colab": {
          "base_uri": "https://localhost:8080/"
        },
        "id": "yt3i91Z-WZJJ",
        "outputId": "2230d574-b0bb-4ebd-b303-88b72511a477"
      },
      "execution_count": 487,
      "outputs": [
        {
          "output_type": "execute_result",
          "data": {
            "text/plain": [
              "Index(['Gender', 'Driving_License', 'Previously_Insured', 'Vehicle_Age',\n",
              "       'Vehicle_Damage', 'Annual_Premium', 'Region_Response',\n",
              "       'Channel_Response', 'Age_Section', 'Response'],\n",
              "      dtype='object')"
            ]
          },
          "metadata": {},
          "execution_count": 487
        }
      ]
    },
    {
      "cell_type": "code",
      "source": [
        "insurance.shape"
      ],
      "metadata": {
        "colab": {
          "base_uri": "https://localhost:8080/"
        },
        "id": "HgVXrwLoMFGQ",
        "outputId": "d9c98cb9-baa0-41f9-bb16-c267a30deeaf"
      },
      "execution_count": 488,
      "outputs": [
        {
          "output_type": "execute_result",
          "data": {
            "text/plain": [
              "(625634, 10)"
            ]
          },
          "metadata": {},
          "execution_count": 488
        }
      ]
    },
    {
      "cell_type": "code",
      "source": [
        "categorical_features"
      ],
      "metadata": {
        "id": "vQaHeSBryZ2z",
        "colab": {
          "base_uri": "https://localhost:8080/"
        },
        "outputId": "b65eb297-f0c4-433c-dde3-321f72413cef"
      },
      "execution_count": 489,
      "outputs": [
        {
          "output_type": "execute_result",
          "data": {
            "text/plain": [
              "['Gender',\n",
              " 'Driving_License',\n",
              " 'Previously_Insured',\n",
              " 'Vehicle_Age',\n",
              " 'Vehicle_Damage',\n",
              " 'Response',\n",
              " 'Age_Section']"
            ]
          },
          "metadata": {},
          "execution_count": 489
        }
      ]
    },
    {
      "cell_type": "code",
      "source": [
        "continuous_features"
      ],
      "metadata": {
        "id": "4A5JCrheyZ04",
        "colab": {
          "base_uri": "https://localhost:8080/"
        },
        "outputId": "c5a064fb-e268-47c9-fb83-427ea3ab23ff"
      },
      "execution_count": 490,
      "outputs": [
        {
          "output_type": "execute_result",
          "data": {
            "text/plain": [
              "['Annual_Premium', 'Region_Response', 'Channel_Response']"
            ]
          },
          "metadata": {},
          "execution_count": 490
        }
      ]
    },
    {
      "cell_type": "markdown",
      "source": [
        "##EDA: Exploratory Data Analysis\n",
        "\n",
        "Let's now do some exploratory analysis on our to draw some conclusion, important for real world and for our model as well."
      ],
      "metadata": {
        "id": "8U9ZvSMWvd7Q"
      }
    },
    {
      "cell_type": "markdown",
      "source": [
        "###Univariate Analysis\n",
        "here we will analyse the distribution of continuous columns,\n",
        "and visualize the distribution of our categorrical columns through pie chart"
      ],
      "metadata": {
        "id": "4UmyWg5vYevV"
      }
    },
    {
      "cell_type": "code",
      "source": [
        "insurance[continuous_features].hist(figsize=(12,8), rwidth=0.95)\n"
      ],
      "metadata": {
        "id": "RjJ4fCHbvj08",
        "colab": {
          "base_uri": "https://localhost:8080/",
          "height": 0
        },
        "outputId": "7ee2828c-887e-4387-be2f-469420b22904"
      },
      "execution_count": 491,
      "outputs": [
        {
          "output_type": "execute_result",
          "data": {
            "text/plain": [
              "array([[<matplotlib.axes._subplots.AxesSubplot object at 0x7f3f460de390>,\n",
              "        <matplotlib.axes._subplots.AxesSubplot object at 0x7f3f3f3049d0>],\n",
              "       [<matplotlib.axes._subplots.AxesSubplot object at 0x7f3f3ff07ed0>,\n",
              "        <matplotlib.axes._subplots.AxesSubplot object at 0x7f3f44440410>]],\n",
              "      dtype=object)"
            ]
          },
          "metadata": {},
          "execution_count": 491
        },
        {
          "output_type": "display_data",
          "data": {
            "text/plain": [
              "<Figure size 864x576 with 4 Axes>"
            ],
            "image/png": "[encoded data removed]"
          },
          "metadata": {
            "needs_background": "light"
          }
        }
      ]
    },
    {
      "cell_type": "markdown",
      "source": [
        "- From above we note that there are very less number of companies that have very high annual premium\n",
        "- In channel response either the percentage of response is mainly between 0-5 or between 15-20\n",
        "\n",
        "so we can categorize this column as\n",
        "\n",
        "0- percentage of response between 0-15\n",
        "\n",
        "1- percentage of respense above 15\n",
        "\n",
        "but first we will try fitting our data on this only, and if we do not get good result than we will perform this transformation"
      ],
      "metadata": {
        "id": "je4Sjmw0f7rq"
      }
    },
    {
      "cell_type": "code",
      "source": [
        "#for  categorical columns using pie plot\n",
        "def make_pieplot(data,y_axis,title = None):\n",
        "  '''\n",
        "  input\n",
        "  data: Pandas series for pie plotting\n",
        "  y_axis: column of pandas dataframe\n",
        "  title: String value for plot title\n",
        "\n",
        "  output \n",
        "  Display a pie chart  \n",
        "  '''\n",
        "  explode_list = data.value_counts().tolist()\n",
        "  explode_ = [0 if elem != max(explode_list) else 0.01 for elem in explode_list]\n",
        "  dict_data=data.value_counts()\n",
        "  dict_data.plot(kind = 'pie', y = y_axis, autopct='%1.2f%%', figsize =(15,10),explode = explode_, fontsize = 10,legend=True,rot=45)\n",
        "  #plt.legend(title ='market_segment',loc ='lower right')\n",
        "  plt.title(title,bbox={'facecolor':'0.8', 'pad':5}, fontsize = 20)\n",
        "  plt.show()"
      ],
      "metadata": {
        "id": "5BwJNANgvjxB"
      },
      "execution_count": 492,
      "outputs": []
    },
    {
      "cell_type": "code",
      "source": [
        "for c in categorical_features:\n",
        "  make_pieplot(insurance[c],c,f\"{c} ratio\")"
      ],
      "metadata": {
        "id": "WG6M3op3vju8",
        "colab": {
          "base_uri": "https://localhost:8080/",
          "height": 0
        },
        "outputId": "6053b71c-64f8-4553-8c52-10d6286adbea"
      },
      "execution_count": 493,
      "outputs": [
        {
          "output_type": "display_data",
          "data": {
            "text/plain": [
              "<Figure size 1080x720 with 1 Axes>"
            ],
            "image/png": "[encoded data removed]"
          },
          "metadata": {}
        },
        {
          "output_type": "display_data",
          "data": {
            "text/plain": [
              "<Figure size 1080x720 with 1 Axes>"
            ],
            "image/png": "[encoded data removed]"
          },
          "metadata": {}
        },
        {
          "output_type": "display_data",
          "data": {
            "text/plain": [
              "<Figure size 1080x720 with 1 Axes>"
            ],
            "image/png": "[encoded data removed]"
          },
          "metadata": {}
        },
        {
          "output_type": "display_data",
          "data": {
            "text/plain": [
              "<Figure size 1080x720 with 1 Axes>"
            ],
            "image/png": "[encoded data removed]"
          },
          "metadata": {}
        },
        {
          "output_type": "display_data",
          "data": {
            "text/plain": [
              "<Figure size 1080x720 with 1 Axes>"
            ],
            "image/png": "[encoded data removed]"
          },
          "metadata": {}
        },
        {
          "output_type": "display_data",
          "data": {
            "text/plain": [
              "<Figure size 1080x720 with 1 Axes>"
            ],
            "image/png": "[encoded data removed]"
          },
          "metadata": {}
        },
        {
          "output_type": "display_data",
          "data": {
            "text/plain": [
              "<Figure size 1080x720 with 1 Axes>"
            ],
            "image/png": "[encoded data removed]"
          },
          "metadata": {}
        }
      ]
    },
    {
      "cell_type": "markdown",
      "source": [
        "here we note that:\n",
        "- there are very less number of peoples not having driving liscence\n",
        "- there are only 26.17% of people who have insured previously\n",
        "- there are comaparitively lesser number of peoples belonging to age group 60-80"
      ],
      "metadata": {
        "id": "VXYl7RPivSl_"
      }
    },
    {
      "cell_type": "markdown",
      "source": [
        "###Bivariate Analysis"
      ],
      "metadata": {
        "id": "C0lVUZJY5tI_"
      }
    },
    {
      "cell_type": "markdown",
      "source": [
        "####Finding relation between our target feature and categorical features using cross tab"
      ],
      "metadata": {
        "id": "_8or_OXe6P7D"
      }
    },
    {
      "cell_type": "code",
      "source": [
        "categorical_features"
      ],
      "metadata": {
        "id": "fxcjjsqXvjrk",
        "colab": {
          "base_uri": "https://localhost:8080/"
        },
        "outputId": "299c356b-5617-47b9-d22b-0b39ba6375a9"
      },
      "execution_count": 494,
      "outputs": [
        {
          "output_type": "execute_result",
          "data": {
            "text/plain": [
              "['Gender',\n",
              " 'Driving_License',\n",
              " 'Previously_Insured',\n",
              " 'Vehicle_Age',\n",
              " 'Vehicle_Damage',\n",
              " 'Response',\n",
              " 'Age_Section']"
            ]
          },
          "metadata": {},
          "execution_count": 494
        }
      ]
    },
    {
      "cell_type": "code",
      "source": [
        "def category_comparision(data,indep,dep):\n",
        "  var_response = pd.crosstab(insurance[indep],insurance[dep])\n",
        "  var_response.plot(kind = 'bar',y = list(var_response.columns),figsize = (8,5))\n",
        "  plt.show()"
      ],
      "metadata": {
        "id": "s_zTCZDt8a4I"
      },
      "execution_count": 495,
      "outputs": []
    },
    {
      "cell_type": "code",
      "source": [
        "independent_categorical_features=[c for c in categorical_features if c not in [\"Response\"] ]\n",
        "\n",
        "for c in independent_categorical_features:\n",
        "  category_comparision(insurance,c,\"Response\")"
      ],
      "metadata": {
        "id": "iZIbv8Ujvjpo",
        "colab": {
          "base_uri": "https://localhost:8080/",
          "height": 1000
        },
        "outputId": "7f643643-1e26-408a-ef96-15e02f94a115"
      },
      "execution_count": 496,
      "outputs": [
        {
          "output_type": "display_data",
          "data": {
            "text/plain": [
              "<Figure size 576x360 with 1 Axes>"
            ],
            "image/png": "[encoded data removed]"
          },
          "metadata": {
            "needs_background": "light"
          }
        },
        {
          "output_type": "display_data",
          "data": {
            "text/plain": [
              "<Figure size 576x360 with 1 Axes>"
            ],
            "image/png": "[encoded data removed]"
          },
          "metadata": {
            "needs_background": "light"
          }
        },
        {
          "output_type": "display_data",
          "data": {
            "text/plain": [
              "<Figure size 576x360 with 1 Axes>"
            ],
            "image/png": "[encoded data removed]"
          },
          "metadata": {
            "needs_background": "light"
          }
        },
        {
          "output_type": "display_data",
          "data": {
            "text/plain": [
              "<Figure size 576x360 with 1 Axes>"
            ],
            "image/png": "[encoded data removed]"
          },
          "metadata": {
            "needs_background": "light"
          }
        },
        {
          "output_type": "display_data",
          "data": {
            "text/plain": [
              "<Figure size 576x360 with 1 Axes>"
            ],
            "image/png": "[encoded data removed]"
          },
          "metadata": {
            "needs_background": "light"
          }
        },
        {
          "output_type": "display_data",
          "data": {
            "text/plain": [
              "<Figure size 576x360 with 1 Axes>"
            ],
            "image/png": "[encoded data removed]"
          },
          "metadata": {
            "needs_background": "light"
          }
        }
      ]
    },
    {
      "cell_type": "code",
      "source": [
        ""
      ],
      "metadata": {
        "id": "wfDPaB1Du8-F"
      },
      "execution_count": 583,
      "outputs": []
    },
    {
      "cell_type": "markdown",
      "source": [
        "##Model Building"
      ],
      "metadata": {
        "id": "iMNHZvgDdL_h"
      }
    },
    {
      "cell_type": "code",
      "source": [
        "corr_class=abs((insurance.corr())[\"Response\"]).sort_values(ascending=False)\n",
        "independent_var=(corr_class.index)[2:]\n",
        "dependent_var=[\"Response\"]"
      ],
      "metadata": {
        "id": "NY1DauWXdVLt"
      },
      "execution_count": 584,
      "outputs": []
    },
    {
      "cell_type": "code",
      "source": [
        "def model_checking(original,predicted,labels=[\"possibility1\",\"possibility2\"]):\n",
        "  from sklearn.metrics import accuracy_score, confusion_matrix, roc_auc_score\n",
        "  model_accuracy=accuracy_score(predicted,original)\n",
        "  print(\"The accuracy of model is= \", model_accuracy,\"\\n\")\n",
        "  rocauc_score=roc_auc_score(original,predicted)\n",
        "  print(\"The roc_auc score of model is= \", rocauc_score,\"\\n\")\n",
        "  print(\"Confusion matrix: \\n\")\n",
        "  cm=confusion_matrix(original,predicted)\n",
        "  print(cm)\n",
        "  ax= plt.subplot()\n",
        "  sns.heatmap(cm, annot=True, ax = ax) #annot=True to annotate cells\n",
        "  # labels, title and ticks\n",
        "  ax.set_xlabel('Predicted labels')\n",
        "  ax.set_ylabel('True labels')\n",
        "  ax.set_title('Confusion Matrix')\n",
        "  ax.xaxis.set_ticklabels(labels)\n",
        "  ax.yaxis.set_ticklabels(labels)"
      ],
      "metadata": {
        "id": "IQ1itSP_dVJp"
      },
      "execution_count": 585,
      "outputs": []
    },
    {
      "cell_type": "code",
      "source": [
        "from sklearn.model_selection import train_test_split\n",
        "x=insurance[independent_var].copy()  #independent features\n",
        "y=insurance[\"Response\"].copy()       #dependent features\n",
        "x_train,x_test,y_train,y_test=train_test_split(x,y,test_size=0.2, random_state=0,stratify=y)"
      ],
      "metadata": {
        "id": "bxa3p1jjdxvE"
      },
      "execution_count": 586,
      "outputs": []
    },
    {
      "cell_type": "markdown",
      "source": [
        "###Logistic regression"
      ],
      "metadata": {
        "id": "xHINiEZzdPTk"
      }
    },
    {
      "cell_type": "code",
      "source": [
        "from sklearn import metrics\n",
        "from sklearn.linear_model import LogisticRegression"
      ],
      "metadata": {
        "id": "xX07iLZhdOfJ"
      },
      "execution_count": 587,
      "outputs": []
    },
    {
      "cell_type": "code",
      "source": [
        "from sklearn.linear_model import LogisticRegression\n",
        "logistic=LogisticRegression(fit_intercept=True, max_iter=10000)\n",
        "logistic.fit(x_train,y_train)"
      ],
      "metadata": {
        "colab": {
          "base_uri": "https://localhost:8080/"
        },
        "id": "r0Sv8ZlWeQvM",
        "outputId": "2f2f93d4-32b4-4ff6-e5a8-a71cde872931"
      },
      "execution_count": 588,
      "outputs": [
        {
          "output_type": "execute_result",
          "data": {
            "text/plain": [
              "LogisticRegression(max_iter=10000)"
            ]
          },
          "metadata": {},
          "execution_count": 588
        }
      ]
    },
    {
      "cell_type": "code",
      "execution_count": 589,
      "metadata": {
        "id": "hofqCy056qid"
      },
      "outputs": [],
      "source": [
        "train_predict=logistic.predict_proba(x_train)[:,1]\n",
        "test_predict=logistic.predict_proba(x_test)[:,1]"
      ]
    },
    {
      "cell_type": "code",
      "execution_count": 590,
      "metadata": {
        "id": "4qKRqfrP7Kor"
      },
      "outputs": [],
      "source": [
        "train_predicted=logistic.predict(x_train)\n",
        "test_predicted=logistic.predict(x_test)"
      ]
    },
    {
      "cell_type": "code",
      "execution_count": 591,
      "metadata": {
        "id": "IlwN2cGNbRzh",
        "colab": {
          "base_uri": "https://localhost:8080/",
          "height": 434
        },
        "outputId": "66837d1b-a467-4f20-f89e-0573c824fc93"
      },
      "outputs": [
        {
          "output_type": "stream",
          "name": "stdout",
          "text": [
            "The accuracy of model is=  0.5930006972929449 \n",
            "\n",
            "The roc_auc score of model is=  0.5887178330380758 \n",
            "\n",
            "Confusion matrix: \n",
            "\n",
            "[[180596  79911]\n",
            " [123795 116205]]\n"
          ]
        },
        {
          "output_type": "display_data",
          "data": {
            "text/plain": [
              "<Figure size 432x288 with 2 Axes>"
            ],
            "image/png": "[encoded data removed]"
          },
          "metadata": {
            "needs_background": "light"
          }
        }
      ],
      "source": [
        "model_checking(y_train, train_predicted,labels=[\"0\",\"1\"])"
      ]
    },
    {
      "cell_type": "code",
      "source": [
        "model_checking(y_test, test_predicted,labels=[\"0\",\"1\"])"
      ],
      "metadata": {
        "colab": {
          "base_uri": "https://localhost:8080/",
          "height": 434
        },
        "id": "mU3-lG1jfop6",
        "outputId": "7a105985-dd84-400c-d0e9-cd395118b6b1"
      },
      "execution_count": 592,
      "outputs": [
        {
          "output_type": "stream",
          "name": "stdout",
          "text": [
            "The accuracy of model is=  0.5949795008271596 \n",
            "\n",
            "The roc_auc score of model is=  0.5906794017842062 \n",
            "\n",
            "Confusion matrix: \n",
            "\n",
            "[[45304 19823]\n",
            " [30856 29144]]\n"
          ]
        },
        {
          "output_type": "display_data",
          "data": {
            "text/plain": [
              "<Figure size 432x288 with 2 Axes>"
            ],
            "image/png": "[encoded data removed]"
          },
          "metadata": {
            "needs_background": "light"
          }
        }
      ]
    },
    {
      "cell_type": "code",
      "source": [
        "def predict_value(val1,val2,probability,p1=0.5):\n",
        "  \"\"\"\n",
        "  this function will check whether the value will be val1 or val2, depending on the probability.\n",
        "  In this we can decide our own threshold probability, by default p1 is 0.5\n",
        "  \"\"\"\n",
        "  predicted=[]\n",
        "  for i in probability:\n",
        "    if i[0] <=p1:\n",
        "      predicted.append(val2)\n",
        "    else:\n",
        "      predicted.append(val1)\n",
        "  \n",
        "  return predicted\n",
        "\n",
        "  "
      ],
      "metadata": {
        "id": "mZUvRLRSJ3Z5"
      },
      "execution_count": 593,
      "outputs": []
    },
    {
      "cell_type": "code",
      "source": [
        "y_train_predicted_proba=logistic.predict_proba(x_train)\n",
        "y_train_predicted=predict_value(0,1,y_train_predicted_proba,0.6)\n",
        "\n",
        "y_test_predicted_proba=logistic.predict_proba(x_test)\n",
        "y_test_predicted=predict_value(0,1,y_test_predicted_proba,0.6)"
      ],
      "metadata": {
        "id": "il-OLlfeJmWn"
      },
      "execution_count": 594,
      "outputs": []
    },
    {
      "cell_type": "code",
      "source": [
        "model_checking(y_train, y_train_predicted,labels=[\"0\",\"1\"])"
      ],
      "metadata": {
        "colab": {
          "base_uri": "https://localhost:8080/",
          "height": 434
        },
        "id": "4qmJgeMBeRq9",
        "outputId": "f8ab8c02-7dba-4018-f559-06d2f739f7b2"
      },
      "execution_count": 595,
      "outputs": [
        {
          "output_type": "stream",
          "name": "stdout",
          "text": [
            "The accuracy of model is=  0.6643443548242083 \n",
            "\n",
            "The roc_auc score of model is=  0.671296499374297 \n",
            "\n",
            "Confusion matrix: \n",
            "\n",
            "[[130675 129832]\n",
            " [ 38166 201834]]\n"
          ]
        },
        {
          "output_type": "display_data",
          "data": {
            "text/plain": [
              "<Figure size 432x288 with 2 Axes>"
            ],
            "image/png": "[encoded data removed]"
          },
          "metadata": {
            "needs_background": "light"
          }
        }
      ]
    },
    {
      "cell_type": "code",
      "source": [
        ""
      ],
      "metadata": {
        "id": "EJdsNg-1eRkX"
      },
      "execution_count": 595,
      "outputs": []
    },
    {
      "cell_type": "markdown",
      "source": [
        "###Decesion Tree"
      ],
      "metadata": {
        "id": "nQDdL_JWgRNq"
      }
    },
    {
      "cell_type": "code",
      "source": [
        ""
      ],
      "metadata": {
        "id": "gFu6qqWCgTgD"
      },
      "execution_count": 595,
      "outputs": []
    },
    {
      "cell_type": "code",
      "execution_count": 596,
      "metadata": {
        "id": "XsJmM_-OV6ah"
      },
      "outputs": [],
      "source": [
        "from sklearn.model_selection import train_test_split\n",
        "from sklearn.tree import DecisionTreeClassifier"
      ]
    },
    {
      "cell_type": "code",
      "execution_count": 597,
      "metadata": {
        "colab": {
          "base_uri": "https://localhost:8080/"
        },
        "id": "f0jFYbGqVAbW",
        "outputId": "d72ba69b-d834-4e7e-9272-181492783b63"
      },
      "outputs": [
        {
          "output_type": "execute_result",
          "data": {
            "text/plain": [
              "DecisionTreeClassifier(criterion='entropy', max_depth=10, max_leaf_nodes=20,\n",
              "                       random_state=0)"
            ]
          },
          "metadata": {},
          "execution_count": 597
        }
      ],
      "source": [
        "#fitting on train data\n",
        "dtree=DecisionTreeClassifier(criterion=\"entropy\",max_leaf_nodes=20,max_depth=10,random_state=0)\n",
        "dtree.fit(x_train,y_train)"
      ]
    },
    {
      "cell_type": "code",
      "execution_count": 598,
      "metadata": {
        "id": "Fg4NlvPQVAWz"
      },
      "outputs": [],
      "source": [
        "test_predicted=dtree.predict(x_test)\n",
        "train_predicted=dtree.predict(x_train)"
      ]
    },
    {
      "cell_type": "code",
      "source": [
        "model_checking(y_train, train_predicted,labels=[\"0\",\"1\"])"
      ],
      "metadata": {
        "colab": {
          "base_uri": "https://localhost:8080/",
          "height": 434
        },
        "id": "3SqtYPcOg2E4",
        "outputId": "607f3241-dfc9-4400-a4fe-78cf109526f1"
      },
      "execution_count": 599,
      "outputs": [
        {
          "output_type": "stream",
          "name": "stdout",
          "text": [
            "The accuracy of model is=  0.8240464169332297 \n",
            "\n",
            "The roc_auc score of model is=  0.8263914172651791 \n",
            "\n",
            "Confusion matrix: \n",
            "\n",
            "[[200371  60136]\n",
            " [ 27930 212070]]\n"
          ]
        },
        {
          "output_type": "display_data",
          "data": {
            "text/plain": [
              "<Figure size 432x288 with 2 Axes>"
            ],
            "image/png": "[encoded data removed]"
          },
          "metadata": {
            "needs_background": "light"
          }
        }
      ]
    },
    {
      "cell_type": "code",
      "source": [
        "model_checking(y_test, test_predicted,labels=[\"0\",\"1\"])"
      ],
      "metadata": {
        "colab": {
          "base_uri": "https://localhost:8080/",
          "height": 434
        },
        "id": "7J0sVN9qg4iS",
        "outputId": "c715f11c-c223-46f5-ca17-fb72c766a546"
      },
      "execution_count": 600,
      "outputs": [
        {
          "output_type": "stream",
          "name": "stdout",
          "text": [
            "The accuracy of model is=  0.8233314952008759 \n",
            "\n",
            "The roc_auc score of model is=  0.8256643957191334 \n",
            "\n",
            "Confusion matrix: \n",
            "\n",
            "[[50065 15062]\n",
            " [ 7044 52956]]\n"
          ]
        },
        {
          "output_type": "display_data",
          "data": {
            "text/plain": [
              "<Figure size 432x288 with 2 Axes>"
            ],
            "image/png": "[encoded data removed]"
          },
          "metadata": {
            "needs_background": "light"
          }
        }
      ]
    },
    {
      "cell_type": "markdown",
      "source": [
        "###Gradient boosting"
      ],
      "metadata": {
        "id": "NkV5uu4yhtL3"
      }
    },
    {
      "cell_type": "code",
      "execution_count": null,
      "metadata": {
        "id": "PEgwgwgNEyPV"
      },
      "outputs": [],
      "source": [
        "#gradient boosting\n",
        "from sklearn.model_selection import GridSearchCV\n",
        "from sklearn.ensemble import GradientBoostingClassifier\n",
        "gbc=GradientBoostingClassifier()\n",
        "#grid_values = {'n_estimators':[50, 80, 100], 'max_depth':[6, 6, 8]}\n",
        "#model5 = GridSearchCV(gbc, param_grid = grid_values, scoring = 'roc_auc', cv=5)\n",
        "\n",
        "gbc.fit(x_train,y_train)\n"
      ]
    },
    {
      "cell_type": "code",
      "execution_count": null,
      "metadata": {
        "id": "yDS_zkXmkW-D"
      },
      "outputs": [],
      "source": [
        "test_predicted=gbc.predict(x_test)\n",
        "train_predicted=gbc.predict(x_train)"
      ]
    },
    {
      "cell_type": "code",
      "source": [
        "model_checking(y_train, train_predicted,labels=[\"0\",\"1\"])"
      ],
      "metadata": {
        "id": "HVjaAdnAkW-E"
      },
      "execution_count": null,
      "outputs": []
    },
    {
      "cell_type": "code",
      "source": [
        "model_checking(y_test, test_predicted,labels=[\"0\",\"1\"])"
      ],
      "metadata": {
        "id": "N3U4fgmpkW-F"
      },
      "execution_count": null,
      "outputs": []
    }
  ]
}